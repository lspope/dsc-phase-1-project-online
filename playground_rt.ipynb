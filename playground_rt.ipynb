{
 "cells": [
  {
   "cell_type": "markdown",
   "metadata": {},
   "source": [
    "# Rotten Tomatos Datasets Playground\n",
    "\n",
    "Exploring the Rotten Tomatos datasets here: rt.movie_info.tsv and rt.reviews.tsv\n",
    "\n",
    "There are 1562 lines in rt.movie_info.tsv but ran into a error upon read_csv(). Set the para 'error_bad_lines' to False so the bad lines would be skipped. 1560 lines/records were read in. So only 2 lines were dropped. "
   ]
  },
  {
   "cell_type": "code",
   "execution_count": 1,
   "metadata": {},
   "outputs": [],
   "source": [
    "# Import the required libraries\n",
    "import pandas as pd\n",
    "import numpy as np\n",
    "import matplotlib.pyplot as plt\n",
    "import seaborn as sn\n",
    "%matplotlib inline\n",
    "\n",
    "# set up pandas to display floats in a more human friendly way\n",
    "pd.options.display.float_format = '{:,.2f}'.format"
   ]
  },
  {
   "cell_type": "code",
   "execution_count": 3,
   "metadata": {},
   "outputs": [
    {
     "data": {
      "text/html": [
       "<div>\n",
       "<style scoped>\n",
       "    .dataframe tbody tr th:only-of-type {\n",
       "        vertical-align: middle;\n",
       "    }\n",
       "\n",
       "    .dataframe tbody tr th {\n",
       "        vertical-align: top;\n",
       "    }\n",
       "\n",
       "    .dataframe thead th {\n",
       "        text-align: right;\n",
       "    }\n",
       "</style>\n",
       "<table border=\"1\" class=\"dataframe\">\n",
       "  <thead>\n",
       "    <tr style=\"text-align: right;\">\n",
       "      <th></th>\n",
       "      <th>id</th>\n",
       "      <th>synopsis</th>\n",
       "      <th>rating</th>\n",
       "      <th>genre</th>\n",
       "      <th>director</th>\n",
       "      <th>writer</th>\n",
       "      <th>theater_date</th>\n",
       "      <th>dvd_date</th>\n",
       "      <th>currency</th>\n",
       "      <th>box_office</th>\n",
       "      <th>runtime</th>\n",
       "      <th>studio</th>\n",
       "    </tr>\n",
       "  </thead>\n",
       "  <tbody>\n",
       "    <tr>\n",
       "      <th>0</th>\n",
       "      <td>1</td>\n",
       "      <td>This gritty, fast-paced, and innovative police...</td>\n",
       "      <td>R</td>\n",
       "      <td>Action and Adventure|Classics|Drama</td>\n",
       "      <td>William Friedkin</td>\n",
       "      <td>Ernest Tidyman</td>\n",
       "      <td>Oct 9, 1971</td>\n",
       "      <td>Sep 25, 2001</td>\n",
       "      <td>NaN</td>\n",
       "      <td>NaN</td>\n",
       "      <td>104 minutes</td>\n",
       "      <td>NaN</td>\n",
       "    </tr>\n",
       "    <tr>\n",
       "      <th>1</th>\n",
       "      <td>3</td>\n",
       "      <td>New York City, not-too-distant-future: Eric Pa...</td>\n",
       "      <td>R</td>\n",
       "      <td>Drama|Science Fiction and Fantasy</td>\n",
       "      <td>David Cronenberg</td>\n",
       "      <td>David Cronenberg|Don DeLillo</td>\n",
       "      <td>Aug 17, 2012</td>\n",
       "      <td>Jan 1, 2013</td>\n",
       "      <td>$</td>\n",
       "      <td>600,000</td>\n",
       "      <td>108 minutes</td>\n",
       "      <td>Entertainment One</td>\n",
       "    </tr>\n",
       "    <tr>\n",
       "      <th>2</th>\n",
       "      <td>5</td>\n",
       "      <td>Illeana Douglas delivers a superb performance ...</td>\n",
       "      <td>R</td>\n",
       "      <td>Drama|Musical and Performing Arts</td>\n",
       "      <td>Allison Anders</td>\n",
       "      <td>Allison Anders</td>\n",
       "      <td>Sep 13, 1996</td>\n",
       "      <td>Apr 18, 2000</td>\n",
       "      <td>NaN</td>\n",
       "      <td>NaN</td>\n",
       "      <td>116 minutes</td>\n",
       "      <td>NaN</td>\n",
       "    </tr>\n",
       "    <tr>\n",
       "      <th>3</th>\n",
       "      <td>6</td>\n",
       "      <td>Michael Douglas runs afoul of a treacherous su...</td>\n",
       "      <td>R</td>\n",
       "      <td>Drama|Mystery and Suspense</td>\n",
       "      <td>Barry Levinson</td>\n",
       "      <td>Paul Attanasio|Michael Crichton</td>\n",
       "      <td>Dec 9, 1994</td>\n",
       "      <td>Aug 27, 1997</td>\n",
       "      <td>NaN</td>\n",
       "      <td>NaN</td>\n",
       "      <td>128 minutes</td>\n",
       "      <td>NaN</td>\n",
       "    </tr>\n",
       "    <tr>\n",
       "      <th>4</th>\n",
       "      <td>7</td>\n",
       "      <td>NaN</td>\n",
       "      <td>NR</td>\n",
       "      <td>Drama|Romance</td>\n",
       "      <td>Rodney Bennett</td>\n",
       "      <td>Giles Cooper</td>\n",
       "      <td>NaN</td>\n",
       "      <td>NaN</td>\n",
       "      <td>NaN</td>\n",
       "      <td>NaN</td>\n",
       "      <td>200 minutes</td>\n",
       "      <td>NaN</td>\n",
       "    </tr>\n",
       "  </tbody>\n",
       "</table>\n",
       "</div>"
      ],
      "text/plain": [
       "   id                                           synopsis rating  \\\n",
       "0   1  This gritty, fast-paced, and innovative police...      R   \n",
       "1   3  New York City, not-too-distant-future: Eric Pa...      R   \n",
       "2   5  Illeana Douglas delivers a superb performance ...      R   \n",
       "3   6  Michael Douglas runs afoul of a treacherous su...      R   \n",
       "4   7                                                NaN     NR   \n",
       "\n",
       "                                 genre          director  \\\n",
       "0  Action and Adventure|Classics|Drama  William Friedkin   \n",
       "1    Drama|Science Fiction and Fantasy  David Cronenberg   \n",
       "2    Drama|Musical and Performing Arts    Allison Anders   \n",
       "3           Drama|Mystery and Suspense    Barry Levinson   \n",
       "4                        Drama|Romance    Rodney Bennett   \n",
       "\n",
       "                            writer  theater_date      dvd_date currency  \\\n",
       "0                   Ernest Tidyman   Oct 9, 1971  Sep 25, 2001      NaN   \n",
       "1     David Cronenberg|Don DeLillo  Aug 17, 2012   Jan 1, 2013        $   \n",
       "2                   Allison Anders  Sep 13, 1996  Apr 18, 2000      NaN   \n",
       "3  Paul Attanasio|Michael Crichton   Dec 9, 1994  Aug 27, 1997      NaN   \n",
       "4                     Giles Cooper           NaN           NaN      NaN   \n",
       "\n",
       "  box_office      runtime             studio  \n",
       "0        NaN  104 minutes                NaN  \n",
       "1    600,000  108 minutes  Entertainment One  \n",
       "2        NaN  116 minutes                NaN  \n",
       "3        NaN  128 minutes                NaN  \n",
       "4        NaN  200 minutes                NaN  "
      ]
     },
     "execution_count": 3,
     "metadata": {},
     "output_type": "execute_result"
    }
   ],
   "source": [
    "rt_movie_info_df = pd.read_csv('./zippedData/rt.movie_info.tsv.gz', sep='\\t', error_bad_lines=False, warn_bad_lines=True)\n",
    "rt_movie_info_df.head()"
   ]
  },
  {
   "cell_type": "markdown",
   "metadata": {},
   "source": [
    "Check for duplicates in the data"
   ]
  },
  {
   "cell_type": "code",
   "execution_count": 4,
   "metadata": {},
   "outputs": [
    {
     "name": "stdout",
     "output_type": "stream",
     "text": [
      "0\n"
     ]
    }
   ],
   "source": [
    "rt_movie_info_dups = rt_movie_info_df[rt_movie_info_df.duplicated()]\n",
    "print(len(rt_movie_info_dups))"
   ]
  },
  {
   "cell_type": "code",
   "execution_count": 5,
   "metadata": {},
   "outputs": [
    {
     "name": "stdout",
     "output_type": "stream",
     "text": [
      "<class 'pandas.core.frame.DataFrame'>\n",
      "RangeIndex: 1560 entries, 0 to 1559\n",
      "Data columns (total 12 columns):\n",
      " #   Column        Non-Null Count  Dtype \n",
      "---  ------        --------------  ----- \n",
      " 0   id            1560 non-null   int64 \n",
      " 1   synopsis      1498 non-null   object\n",
      " 2   rating        1557 non-null   object\n",
      " 3   genre         1552 non-null   object\n",
      " 4   director      1361 non-null   object\n",
      " 5   writer        1111 non-null   object\n",
      " 6   theater_date  1201 non-null   object\n",
      " 7   dvd_date      1201 non-null   object\n",
      " 8   currency      340 non-null    object\n",
      " 9   box_office    340 non-null    object\n",
      " 10  runtime       1530 non-null   object\n",
      " 11  studio        494 non-null    object\n",
      "dtypes: int64(1), object(11)\n",
      "memory usage: 146.4+ KB\n",
      "None\n"
     ]
    }
   ],
   "source": [
    "print(rt_movie_info_df.info())"
   ]
  },
  {
   "cell_type": "markdown",
   "metadata": {},
   "source": [
    "Only 340 of 1560 records in rt.movie_info.tsv had non-null values for box_office. This is ~20% of the data. \n",
    "\n",
    "When discussing any analysis that involves box_office, make sure you mention that this is for 340 movies not 1560 (whole dataset). "
   ]
  },
  {
   "cell_type": "code",
   "execution_count": 7,
   "metadata": {
    "scrolled": true
   },
   "outputs": [
    {
     "data": {
      "text/html": [
       "<div>\n",
       "<style scoped>\n",
       "    .dataframe tbody tr th:only-of-type {\n",
       "        vertical-align: middle;\n",
       "    }\n",
       "\n",
       "    .dataframe tbody tr th {\n",
       "        vertical-align: top;\n",
       "    }\n",
       "\n",
       "    .dataframe thead th {\n",
       "        text-align: right;\n",
       "    }\n",
       "</style>\n",
       "<table border=\"1\" class=\"dataframe\">\n",
       "  <thead>\n",
       "    <tr style=\"text-align: right;\">\n",
       "      <th></th>\n",
       "      <th>id</th>\n",
       "      <th>review</th>\n",
       "      <th>rating</th>\n",
       "      <th>fresh</th>\n",
       "      <th>critic</th>\n",
       "      <th>top_critic</th>\n",
       "      <th>publisher</th>\n",
       "      <th>date</th>\n",
       "    </tr>\n",
       "  </thead>\n",
       "  <tbody>\n",
       "    <tr>\n",
       "      <th>0</th>\n",
       "      <td>3</td>\n",
       "      <td>A distinctly gallows take on contemporary fina...</td>\n",
       "      <td>3/5</td>\n",
       "      <td>fresh</td>\n",
       "      <td>PJ Nabarro</td>\n",
       "      <td>0</td>\n",
       "      <td>Patrick Nabarro</td>\n",
       "      <td>November 10, 2018</td>\n",
       "    </tr>\n",
       "    <tr>\n",
       "      <th>1</th>\n",
       "      <td>3</td>\n",
       "      <td>It's an allegory in search of a meaning that n...</td>\n",
       "      <td>NaN</td>\n",
       "      <td>rotten</td>\n",
       "      <td>Annalee Newitz</td>\n",
       "      <td>0</td>\n",
       "      <td>io9.com</td>\n",
       "      <td>May 23, 2018</td>\n",
       "    </tr>\n",
       "    <tr>\n",
       "      <th>2</th>\n",
       "      <td>3</td>\n",
       "      <td>... life lived in a bubble in financial dealin...</td>\n",
       "      <td>NaN</td>\n",
       "      <td>fresh</td>\n",
       "      <td>Sean Axmaker</td>\n",
       "      <td>0</td>\n",
       "      <td>Stream on Demand</td>\n",
       "      <td>January 4, 2018</td>\n",
       "    </tr>\n",
       "    <tr>\n",
       "      <th>3</th>\n",
       "      <td>3</td>\n",
       "      <td>Continuing along a line introduced in last yea...</td>\n",
       "      <td>NaN</td>\n",
       "      <td>fresh</td>\n",
       "      <td>Daniel Kasman</td>\n",
       "      <td>0</td>\n",
       "      <td>MUBI</td>\n",
       "      <td>November 16, 2017</td>\n",
       "    </tr>\n",
       "    <tr>\n",
       "      <th>4</th>\n",
       "      <td>3</td>\n",
       "      <td>... a perverse twist on neorealism...</td>\n",
       "      <td>NaN</td>\n",
       "      <td>fresh</td>\n",
       "      <td>NaN</td>\n",
       "      <td>0</td>\n",
       "      <td>Cinema Scope</td>\n",
       "      <td>October 12, 2017</td>\n",
       "    </tr>\n",
       "  </tbody>\n",
       "</table>\n",
       "</div>"
      ],
      "text/plain": [
       "   id                                             review rating   fresh  \\\n",
       "0   3  A distinctly gallows take on contemporary fina...    3/5   fresh   \n",
       "1   3  It's an allegory in search of a meaning that n...    NaN  rotten   \n",
       "2   3  ... life lived in a bubble in financial dealin...    NaN   fresh   \n",
       "3   3  Continuing along a line introduced in last yea...    NaN   fresh   \n",
       "4   3             ... a perverse twist on neorealism...     NaN   fresh   \n",
       "\n",
       "           critic  top_critic         publisher               date  \n",
       "0      PJ Nabarro           0   Patrick Nabarro  November 10, 2018  \n",
       "1  Annalee Newitz           0           io9.com       May 23, 2018  \n",
       "2    Sean Axmaker           0  Stream on Demand    January 4, 2018  \n",
       "3   Daniel Kasman           0              MUBI  November 16, 2017  \n",
       "4             NaN           0      Cinema Scope   October 12, 2017  "
      ]
     },
     "execution_count": 7,
     "metadata": {},
     "output_type": "execute_result"
    }
   ],
   "source": [
    "rt_reviews_df = pd.read_csv('./zippedData/rt.reviews.tsv.gz', sep='\\t', encoding='latin1', error_bad_lines=False, warn_bad_lines=True)\n",
    "rt_reviews_df.head()"
   ]
  },
  {
   "cell_type": "markdown",
   "metadata": {},
   "source": [
    "Check for duplicates in the data and drop any duplicates, keeping first column"
   ]
  },
  {
   "cell_type": "code",
   "execution_count": 8,
   "metadata": {},
   "outputs": [
    {
     "name": "stdout",
     "output_type": "stream",
     "text": [
      "9\n"
     ]
    }
   ],
   "source": [
    "# Select duplicate rows except first occurrence based on all columns\n",
    "rt_review_dups = rt_reviews_df[rt_reviews_df.duplicated()]\n",
    "print(len(rt_review_dups))"
   ]
  },
  {
   "cell_type": "code",
   "execution_count": 9,
   "metadata": {},
   "outputs": [
    {
     "data": {
      "text/html": [
       "<div>\n",
       "<style scoped>\n",
       "    .dataframe tbody tr th:only-of-type {\n",
       "        vertical-align: middle;\n",
       "    }\n",
       "\n",
       "    .dataframe tbody tr th {\n",
       "        vertical-align: top;\n",
       "    }\n",
       "\n",
       "    .dataframe thead th {\n",
       "        text-align: right;\n",
       "    }\n",
       "</style>\n",
       "<table border=\"1\" class=\"dataframe\">\n",
       "  <thead>\n",
       "    <tr style=\"text-align: right;\">\n",
       "      <th></th>\n",
       "      <th>id</th>\n",
       "      <th>review</th>\n",
       "      <th>rating</th>\n",
       "      <th>fresh</th>\n",
       "      <th>critic</th>\n",
       "      <th>top_critic</th>\n",
       "      <th>publisher</th>\n",
       "      <th>date</th>\n",
       "    </tr>\n",
       "  </thead>\n",
       "  <tbody>\n",
       "    <tr>\n",
       "      <th>0</th>\n",
       "      <td>3</td>\n",
       "      <td>A distinctly gallows take on contemporary fina...</td>\n",
       "      <td>3/5</td>\n",
       "      <td>fresh</td>\n",
       "      <td>PJ Nabarro</td>\n",
       "      <td>0</td>\n",
       "      <td>Patrick Nabarro</td>\n",
       "      <td>November 10, 2018</td>\n",
       "    </tr>\n",
       "    <tr>\n",
       "      <th>1</th>\n",
       "      <td>3</td>\n",
       "      <td>It's an allegory in search of a meaning that n...</td>\n",
       "      <td>NaN</td>\n",
       "      <td>rotten</td>\n",
       "      <td>Annalee Newitz</td>\n",
       "      <td>0</td>\n",
       "      <td>io9.com</td>\n",
       "      <td>May 23, 2018</td>\n",
       "    </tr>\n",
       "    <tr>\n",
       "      <th>2</th>\n",
       "      <td>3</td>\n",
       "      <td>... life lived in a bubble in financial dealin...</td>\n",
       "      <td>NaN</td>\n",
       "      <td>fresh</td>\n",
       "      <td>Sean Axmaker</td>\n",
       "      <td>0</td>\n",
       "      <td>Stream on Demand</td>\n",
       "      <td>January 4, 2018</td>\n",
       "    </tr>\n",
       "    <tr>\n",
       "      <th>3</th>\n",
       "      <td>3</td>\n",
       "      <td>Continuing along a line introduced in last yea...</td>\n",
       "      <td>NaN</td>\n",
       "      <td>fresh</td>\n",
       "      <td>Daniel Kasman</td>\n",
       "      <td>0</td>\n",
       "      <td>MUBI</td>\n",
       "      <td>November 16, 2017</td>\n",
       "    </tr>\n",
       "    <tr>\n",
       "      <th>4</th>\n",
       "      <td>3</td>\n",
       "      <td>... a perverse twist on neorealism...</td>\n",
       "      <td>NaN</td>\n",
       "      <td>fresh</td>\n",
       "      <td>NaN</td>\n",
       "      <td>0</td>\n",
       "      <td>Cinema Scope</td>\n",
       "      <td>October 12, 2017</td>\n",
       "    </tr>\n",
       "    <tr>\n",
       "      <th>...</th>\n",
       "      <td>...</td>\n",
       "      <td>...</td>\n",
       "      <td>...</td>\n",
       "      <td>...</td>\n",
       "      <td>...</td>\n",
       "      <td>...</td>\n",
       "      <td>...</td>\n",
       "      <td>...</td>\n",
       "    </tr>\n",
       "    <tr>\n",
       "      <th>54427</th>\n",
       "      <td>2000</td>\n",
       "      <td>The real charm of this trifle is the deadpan c...</td>\n",
       "      <td>NaN</td>\n",
       "      <td>fresh</td>\n",
       "      <td>Laura Sinagra</td>\n",
       "      <td>1</td>\n",
       "      <td>Village Voice</td>\n",
       "      <td>September 24, 2002</td>\n",
       "    </tr>\n",
       "    <tr>\n",
       "      <th>54428</th>\n",
       "      <td>2000</td>\n",
       "      <td>NaN</td>\n",
       "      <td>1/5</td>\n",
       "      <td>rotten</td>\n",
       "      <td>Michael Szymanski</td>\n",
       "      <td>0</td>\n",
       "      <td>Zap2it.com</td>\n",
       "      <td>September 21, 2005</td>\n",
       "    </tr>\n",
       "    <tr>\n",
       "      <th>54429</th>\n",
       "      <td>2000</td>\n",
       "      <td>NaN</td>\n",
       "      <td>2/5</td>\n",
       "      <td>rotten</td>\n",
       "      <td>Emanuel Levy</td>\n",
       "      <td>0</td>\n",
       "      <td>EmanuelLevy.Com</td>\n",
       "      <td>July 17, 2005</td>\n",
       "    </tr>\n",
       "    <tr>\n",
       "      <th>54430</th>\n",
       "      <td>2000</td>\n",
       "      <td>NaN</td>\n",
       "      <td>2.5/5</td>\n",
       "      <td>rotten</td>\n",
       "      <td>Christopher Null</td>\n",
       "      <td>0</td>\n",
       "      <td>Filmcritic.com</td>\n",
       "      <td>September 7, 2003</td>\n",
       "    </tr>\n",
       "    <tr>\n",
       "      <th>54431</th>\n",
       "      <td>2000</td>\n",
       "      <td>NaN</td>\n",
       "      <td>3/5</td>\n",
       "      <td>fresh</td>\n",
       "      <td>Nicolas Lacroix</td>\n",
       "      <td>0</td>\n",
       "      <td>Showbizz.net</td>\n",
       "      <td>November 12, 2002</td>\n",
       "    </tr>\n",
       "  </tbody>\n",
       "</table>\n",
       "<p>54423 rows × 8 columns</p>\n",
       "</div>"
      ],
      "text/plain": [
       "         id                                             review rating   fresh  \\\n",
       "0         3  A distinctly gallows take on contemporary fina...    3/5   fresh   \n",
       "1         3  It's an allegory in search of a meaning that n...    NaN  rotten   \n",
       "2         3  ... life lived in a bubble in financial dealin...    NaN   fresh   \n",
       "3         3  Continuing along a line introduced in last yea...    NaN   fresh   \n",
       "4         3             ... a perverse twist on neorealism...     NaN   fresh   \n",
       "...     ...                                                ...    ...     ...   \n",
       "54427  2000  The real charm of this trifle is the deadpan c...    NaN   fresh   \n",
       "54428  2000                                                NaN    1/5  rotten   \n",
       "54429  2000                                                NaN    2/5  rotten   \n",
       "54430  2000                                                NaN  2.5/5  rotten   \n",
       "54431  2000                                                NaN    3/5   fresh   \n",
       "\n",
       "                  critic  top_critic         publisher                date  \n",
       "0             PJ Nabarro           0   Patrick Nabarro   November 10, 2018  \n",
       "1         Annalee Newitz           0           io9.com        May 23, 2018  \n",
       "2           Sean Axmaker           0  Stream on Demand     January 4, 2018  \n",
       "3          Daniel Kasman           0              MUBI   November 16, 2017  \n",
       "4                    NaN           0      Cinema Scope    October 12, 2017  \n",
       "...                  ...         ...               ...                 ...  \n",
       "54427      Laura Sinagra           1     Village Voice  September 24, 2002  \n",
       "54428  Michael Szymanski           0        Zap2it.com  September 21, 2005  \n",
       "54429       Emanuel Levy           0   EmanuelLevy.Com       July 17, 2005  \n",
       "54430   Christopher Null           0    Filmcritic.com   September 7, 2003  \n",
       "54431    Nicolas Lacroix           0      Showbizz.net   November 12, 2002  \n",
       "\n",
       "[54423 rows x 8 columns]"
      ]
     },
     "execution_count": 9,
     "metadata": {},
     "output_type": "execute_result"
    }
   ],
   "source": [
    "rt_reviews_df.drop_duplicates()"
   ]
  },
  {
   "cell_type": "code",
   "execution_count": 10,
   "metadata": {},
   "outputs": [
    {
     "name": "stdout",
     "output_type": "stream",
     "text": [
      "<class 'pandas.core.frame.DataFrame'>\n",
      "RangeIndex: 54432 entries, 0 to 54431\n",
      "Data columns (total 8 columns):\n",
      " #   Column      Non-Null Count  Dtype \n",
      "---  ------      --------------  ----- \n",
      " 0   id          54432 non-null  int64 \n",
      " 1   review      48869 non-null  object\n",
      " 2   rating      40915 non-null  object\n",
      " 3   fresh       54432 non-null  object\n",
      " 4   critic      51710 non-null  object\n",
      " 5   top_critic  54432 non-null  int64 \n",
      " 6   publisher   54123 non-null  object\n",
      " 7   date        54432 non-null  object\n",
      "dtypes: int64(2), object(6)\n",
      "memory usage: 3.3+ MB\n",
      "None\n"
     ]
    }
   ],
   "source": [
    "print(rt_reviews_df.info())"
   ]
  },
  {
   "cell_type": "markdown",
   "metadata": {},
   "source": [
    "The rt.reviews dataset includses data on review, rating, fresh, critic, top_critic, publisher, date. \n",
    "\n",
    "Inspecting the unique values of the critic-provided 'ratings' reveals that these values vary widely, using \n",
    "letter grades and numeric ratings of differing scales 2/4 vs 9/10:"
   ]
  },
  {
   "cell_type": "code",
   "execution_count": 11,
   "metadata": {},
   "outputs": [
    {
     "data": {
      "text/plain": [
       "array(['3/5', nan, 'C', '2/5', 'B-', '2/4', 'B', '3/4', '4/5', '4/4',\n",
       "       '6/10', '1/4', '8', '2.5/4', '4/10', '2.0/5', '3/10', '7/10', 'A-',\n",
       "       '5/5', 'F', '3.5/4', 'D+', '1.5/4', '3.5/5', '8/10', 'B+', '9/10',\n",
       "       '2.5/5', '7.5/10', '5.5/10', 'C-', '1.5/5', '1/5', '5/10', 'C+',\n",
       "       '0/5', '6', '0.5/4', 'D', '3.1/5', '3/6', '4.5/5', '0/4', '2/10',\n",
       "       'D-', '7', '1/10', '3', 'A+', 'A', '4.0/4', '9.5/10', '2.5',\n",
       "       '2.1/2', '6.5/10', '3.7/5', '8.4/10', '9', '1', '7.2/10', '2.2/5',\n",
       "       '0.5/10', '5', '0', '2', '4.5', '7.7', '5.0/5', '8.5/10', '3.0/5',\n",
       "       '0.5/5', '1.5/10', '3.0/4', '2.3/10', '4.5/10', '4/6', '3.5',\n",
       "       '8.6/10', '6/8', '2.0/4', '2.7', '4.2/10', '5.8', '4', '7.1/10',\n",
       "       '5/4', 'N', '3.5/10', '5.8/10', 'R', '4.0/5', '0/10', '5.0/10',\n",
       "       '5.9/10', '2.4/5', '1.9/5', '4.9', '7.4/10', '1.5', '2.3/4',\n",
       "       '8.8/10', '4.0/10', '2.2', '3.8/10', '6.8/10', '7.3', '7.0/10',\n",
       "       '3.2', '4.2', '8.4', '5.5/5', '6.3/10', '7.6/10', '8.1/10',\n",
       "       '3.6/5', '2/6', '7.7/10', '1.8', '8.9/10', '8.9', '8.2/10',\n",
       "       '8.3/10', '2.6/6', '4.1/10', '2.5/10', 'F+', '6.0/10', '1.0/4',\n",
       "       '7.9/10', '8.7/10', '4.3/10', '9.6/10', '9.0/10', '4.0', '1.7',\n",
       "       '7.9', '6.7', '8.0/10', '9.2/10', '5.2', '5.9', '3.7', '4.7',\n",
       "       '6.2/10', '1/6', '8.2', '2.6/5', '3.4', '9.7', '3.3/5', '3.8/5',\n",
       "       '1/2', '7.4', '4.8', '1.6/5', '2/2', '1-5', '1.0', '4.3/5', '5/6',\n",
       "       '9.2', '2.7/5', '4.9/10', '3.0', '3.1', '7.8/10', 'F-', '2.3/5',\n",
       "       '3.0/10', '3/2', '7.8', '4.2/5', '9.0', '7.3/10', '4.4/5',\n",
       "       '6.9/10', '0/6', 'T', '6.2', '3.3', '9.8', '8.5', '1.0/5', '4.1',\n",
       "       '7.1', '3 1/2'], dtype=object)"
      ]
     },
     "execution_count": 11,
     "metadata": {},
     "output_type": "execute_result"
    }
   ],
   "source": [
    "rt_reviews_df.rating.unique()"
   ]
  },
  {
   "cell_type": "markdown",
   "metadata": {},
   "source": [
    "Rotten Tomatoes standardizes movie ratings by deeming that a movie is either fresh (good) or rotten (not that good). This is the 'fresh' column and it contains a string (\"fresh\"/\"rotten\").  \n",
    "\n",
    "I'm opting to use the RT fresh/rotten metric for rating a movie and to drop the critic-provided 'rating' column\n",
    "\n",
    "Since there can be multiple 'fresh' ratings for a single movie. We want the average 'fresh' rating. In order to get the average fresh rating, convert \"fresh\"/\"rotten\" to 1/0 and get the average. A movie with all \"fresh\" will be have 1.0 average, all \"rotten\" will have 0.0 average...the average fresh rating will be between 0-1.\n",
    "\n",
    "\n",
    "More details on the Tomatometer here: https://www.rottentomatoes.com/about#whatisthetomatometer"
   ]
  },
  {
   "cell_type": "code",
   "execution_count": 12,
   "metadata": {},
   "outputs": [],
   "source": [
    "rt_reviews_df.drop(['rating'], axis=1, inplace=True)"
   ]
  },
  {
   "cell_type": "code",
   "execution_count": 14,
   "metadata": {},
   "outputs": [
    {
     "data": {
      "text/html": [
       "<div>\n",
       "<style scoped>\n",
       "    .dataframe tbody tr th:only-of-type {\n",
       "        vertical-align: middle;\n",
       "    }\n",
       "\n",
       "    .dataframe tbody tr th {\n",
       "        vertical-align: top;\n",
       "    }\n",
       "\n",
       "    .dataframe thead th {\n",
       "        text-align: right;\n",
       "    }\n",
       "</style>\n",
       "<table border=\"1\" class=\"dataframe\">\n",
       "  <thead>\n",
       "    <tr style=\"text-align: right;\">\n",
       "      <th></th>\n",
       "      <th>id</th>\n",
       "      <th>review</th>\n",
       "      <th>fresh</th>\n",
       "      <th>critic</th>\n",
       "      <th>top_critic</th>\n",
       "      <th>publisher</th>\n",
       "      <th>date</th>\n",
       "      <th>fresh_score</th>\n",
       "    </tr>\n",
       "  </thead>\n",
       "  <tbody>\n",
       "    <tr>\n",
       "      <th>0</th>\n",
       "      <td>3</td>\n",
       "      <td>A distinctly gallows take on contemporary fina...</td>\n",
       "      <td>fresh</td>\n",
       "      <td>PJ Nabarro</td>\n",
       "      <td>0</td>\n",
       "      <td>Patrick Nabarro</td>\n",
       "      <td>November 10, 2018</td>\n",
       "      <td>1</td>\n",
       "    </tr>\n",
       "    <tr>\n",
       "      <th>1</th>\n",
       "      <td>3</td>\n",
       "      <td>It's an allegory in search of a meaning that n...</td>\n",
       "      <td>rotten</td>\n",
       "      <td>Annalee Newitz</td>\n",
       "      <td>0</td>\n",
       "      <td>io9.com</td>\n",
       "      <td>May 23, 2018</td>\n",
       "      <td>0</td>\n",
       "    </tr>\n",
       "    <tr>\n",
       "      <th>2</th>\n",
       "      <td>3</td>\n",
       "      <td>... life lived in a bubble in financial dealin...</td>\n",
       "      <td>fresh</td>\n",
       "      <td>Sean Axmaker</td>\n",
       "      <td>0</td>\n",
       "      <td>Stream on Demand</td>\n",
       "      <td>January 4, 2018</td>\n",
       "      <td>1</td>\n",
       "    </tr>\n",
       "    <tr>\n",
       "      <th>3</th>\n",
       "      <td>3</td>\n",
       "      <td>Continuing along a line introduced in last yea...</td>\n",
       "      <td>fresh</td>\n",
       "      <td>Daniel Kasman</td>\n",
       "      <td>0</td>\n",
       "      <td>MUBI</td>\n",
       "      <td>November 16, 2017</td>\n",
       "      <td>1</td>\n",
       "    </tr>\n",
       "    <tr>\n",
       "      <th>4</th>\n",
       "      <td>3</td>\n",
       "      <td>... a perverse twist on neorealism...</td>\n",
       "      <td>fresh</td>\n",
       "      <td>NaN</td>\n",
       "      <td>0</td>\n",
       "      <td>Cinema Scope</td>\n",
       "      <td>October 12, 2017</td>\n",
       "      <td>1</td>\n",
       "    </tr>\n",
       "  </tbody>\n",
       "</table>\n",
       "</div>"
      ],
      "text/plain": [
       "   id                                             review   fresh  \\\n",
       "0   3  A distinctly gallows take on contemporary fina...   fresh   \n",
       "1   3  It's an allegory in search of a meaning that n...  rotten   \n",
       "2   3  ... life lived in a bubble in financial dealin...   fresh   \n",
       "3   3  Continuing along a line introduced in last yea...   fresh   \n",
       "4   3             ... a perverse twist on neorealism...    fresh   \n",
       "\n",
       "           critic  top_critic         publisher               date  \\\n",
       "0      PJ Nabarro           0   Patrick Nabarro  November 10, 2018   \n",
       "1  Annalee Newitz           0           io9.com       May 23, 2018   \n",
       "2    Sean Axmaker           0  Stream on Demand    January 4, 2018   \n",
       "3   Daniel Kasman           0              MUBI  November 16, 2017   \n",
       "4             NaN           0      Cinema Scope   October 12, 2017   \n",
       "\n",
       "   fresh_score  \n",
       "0            1  \n",
       "1            0  \n",
       "2            1  \n",
       "3            1  \n",
       "4            1  "
      ]
     },
     "execution_count": 14,
     "metadata": {},
     "output_type": "execute_result"
    }
   ],
   "source": [
    "rt_reviews_df['fresh_score'] = rt_reviews_df.apply(lambda row: 1 if row.fresh=='fresh' else 0, axis=1)\n",
    "rt_reviews_df.head()"
   ]
  },
  {
   "cell_type": "code",
   "execution_count": 15,
   "metadata": {},
   "outputs": [
    {
     "name": "stdout",
     "output_type": "stream",
     "text": [
      "id\n",
      "3      0.63\n",
      "5      0.78\n",
      "6      0.56\n",
      "8      0.75\n",
      "10     0.46\n",
      "       ... \n",
      "1996   0.67\n",
      "1997   0.36\n",
      "1998   1.00\n",
      "1999   0.59\n",
      "2000   0.47\n",
      "Name: fresh_score, Length: 1135, dtype: float64\n"
     ]
    }
   ],
   "source": [
    "print(rt_reviews_df.groupby(['id'])['fresh_score'].mean())"
   ]
  },
  {
   "cell_type": "code",
   "execution_count": 16,
   "metadata": {},
   "outputs": [
    {
     "name": "stdout",
     "output_type": "stream",
     "text": [
      "<class 'pandas.core.frame.DataFrame'>\n",
      "Int64Index: 54432 entries, 0 to 54431\n",
      "Data columns (total 19 columns):\n",
      " #   Column        Non-Null Count  Dtype \n",
      "---  ------        --------------  ----- \n",
      " 0   id            54432 non-null  int64 \n",
      " 1   review        48869 non-null  object\n",
      " 2   fresh         54432 non-null  object\n",
      " 3   critic        51710 non-null  object\n",
      " 4   top_critic    54432 non-null  int64 \n",
      " 5   publisher     54123 non-null  object\n",
      " 6   date          54432 non-null  object\n",
      " 7   fresh_score   54432 non-null  int64 \n",
      " 8   synopsis      54300 non-null  object\n",
      " 9   rating        54346 non-null  object\n",
      " 10  genre         54345 non-null  object\n",
      " 11  director      48992 non-null  object\n",
      " 12  writer        45206 non-null  object\n",
      " 13  theater_date  53206 non-null  object\n",
      " 14  dvd_date      53206 non-null  object\n",
      " 15  currency      33310 non-null  object\n",
      " 16  box_office    33310 non-null  object\n",
      " 17  runtime       53594 non-null  object\n",
      " 18  studio        40125 non-null  object\n",
      "dtypes: int64(3), object(16)\n",
      "memory usage: 8.3+ MB\n",
      "None\n"
     ]
    }
   ],
   "source": [
    "# performing an inner join on the id col of the two data frames - got 54432 records\n",
    "rt_reviewed_movies_df = pd.merge(rt_reviews_df, rt_movie_info_df, on='id')\n",
    "print(rt_reviewed_movies_df.info())"
   ]
  },
  {
   "cell_type": "markdown",
   "metadata": {},
   "source": [
    "-Renaming columns for clarity. \n",
    "\n",
    "-Setting NaNs in film_rating to 'NR' Not Rated"
   ]
  },
  {
   "cell_type": "code",
   "execution_count": 17,
   "metadata": {},
   "outputs": [
    {
     "name": "stdout",
     "output_type": "stream",
     "text": [
      "<class 'pandas.core.frame.DataFrame'>\n",
      "Int64Index: 54432 entries, 0 to 54431\n",
      "Data columns (total 19 columns):\n",
      " #   Column        Non-Null Count  Dtype \n",
      "---  ------        --------------  ----- \n",
      " 0   id            54432 non-null  int64 \n",
      " 1   review        48869 non-null  object\n",
      " 2   fresh         54432 non-null  object\n",
      " 3   critic        51710 non-null  object\n",
      " 4   top_critic    54432 non-null  int64 \n",
      " 5   publisher     54123 non-null  object\n",
      " 6   review_date   54432 non-null  object\n",
      " 7   fresh_score   54432 non-null  int64 \n",
      " 8   synopsis      54300 non-null  object\n",
      " 9   film_rating   54432 non-null  object\n",
      " 10  genre         54345 non-null  object\n",
      " 11  director      48992 non-null  object\n",
      " 12  writer        45206 non-null  object\n",
      " 13  theater_date  53206 non-null  object\n",
      " 14  dvd_date      53206 non-null  object\n",
      " 15  currency      33310 non-null  object\n",
      " 16  box_office    33310 non-null  object\n",
      " 17  runtime       53594 non-null  object\n",
      " 18  studio        40125 non-null  object\n",
      "dtypes: int64(3), object(16)\n",
      "memory usage: 8.3+ MB\n"
     ]
    }
   ],
   "source": [
    "rt_reviewed_movies_df = rt_reviewed_movies_df.rename(columns={\"date\": \"review_date\", \"rating\": \"film_rating\"})\n",
    "rt_reviewed_movies_df['film_rating'].fillna('NR', inplace=True)\n",
    "rt_reviewed_movies_df.info()"
   ]
  },
  {
   "cell_type": "markdown",
   "metadata": {},
   "source": [
    "Pulling out Year, as an int, from the columns representing dates"
   ]
  },
  {
   "cell_type": "code",
   "execution_count": 18,
   "metadata": {},
   "outputs": [],
   "source": [
    "rt_reviewed_movies_df['review_year'] = rt_reviewed_movies_df.apply(lambda row: int(row.review_date[-4:]), axis = 1)"
   ]
  },
  {
   "cell_type": "code",
   "execution_count": 19,
   "metadata": {},
   "outputs": [],
   "source": [
    "rt_reviewed_movies_df['theater_year'] = rt_reviewed_movies_df.apply(lambda row: int(row.theater_date[-4:]) if type(row.theater_date) is str else 0, axis = 1)"
   ]
  },
  {
   "cell_type": "code",
   "execution_count": 20,
   "metadata": {},
   "outputs": [
    {
     "name": "stdout",
     "output_type": "stream",
     "text": [
      "<class 'pandas.core.frame.DataFrame'>\n",
      "Int64Index: 54432 entries, 0 to 54431\n",
      "Data columns (total 21 columns):\n",
      " #   Column        Non-Null Count  Dtype \n",
      "---  ------        --------------  ----- \n",
      " 0   id            54432 non-null  int64 \n",
      " 1   review        48869 non-null  object\n",
      " 2   fresh         54432 non-null  object\n",
      " 3   critic        51710 non-null  object\n",
      " 4   top_critic    54432 non-null  int64 \n",
      " 5   publisher     54123 non-null  object\n",
      " 6   review_date   54432 non-null  object\n",
      " 7   fresh_score   54432 non-null  int64 \n",
      " 8   synopsis      54300 non-null  object\n",
      " 9   film_rating   54432 non-null  object\n",
      " 10  genre         54345 non-null  object\n",
      " 11  director      48992 non-null  object\n",
      " 12  writer        45206 non-null  object\n",
      " 13  theater_date  53206 non-null  object\n",
      " 14  dvd_date      53206 non-null  object\n",
      " 15  currency      33310 non-null  object\n",
      " 16  box_office    33310 non-null  object\n",
      " 17  runtime       53594 non-null  object\n",
      " 18  studio        40125 non-null  object\n",
      " 19  review_year   54432 non-null  int64 \n",
      " 20  theater_year  54432 non-null  int64 \n",
      "dtypes: int64(5), object(16)\n",
      "memory usage: 9.1+ MB\n"
     ]
    }
   ],
   "source": [
    "rt_reviewed_movies_df.info()"
   ]
  },
  {
   "cell_type": "markdown",
   "metadata": {},
   "source": [
    "We want to use box_office, it is a str so we need to convert to float. \n",
    "\n",
    "There are some NaNs for box_office string, replace them with \"UNKNOWN\", make new col, box_office_numeric. \n",
    "\n",
    "If box_office was NAN, converted value is 0. Keep this in mind to filter out when plotting."
   ]
  },
  {
   "cell_type": "code",
   "execution_count": 21,
   "metadata": {},
   "outputs": [],
   "source": [
    "rt_reviewed_movies_df['box_office'].fillna('UNKNOWN', inplace=True)"
   ]
  },
  {
   "cell_type": "code",
   "execution_count": 22,
   "metadata": {},
   "outputs": [
    {
     "data": {
      "text/html": [
       "<div>\n",
       "<style scoped>\n",
       "    .dataframe tbody tr th:only-of-type {\n",
       "        vertical-align: middle;\n",
       "    }\n",
       "\n",
       "    .dataframe tbody tr th {\n",
       "        vertical-align: top;\n",
       "    }\n",
       "\n",
       "    .dataframe thead th {\n",
       "        text-align: right;\n",
       "    }\n",
       "</style>\n",
       "<table border=\"1\" class=\"dataframe\">\n",
       "  <thead>\n",
       "    <tr style=\"text-align: right;\">\n",
       "      <th></th>\n",
       "      <th>id</th>\n",
       "      <th>review</th>\n",
       "      <th>fresh</th>\n",
       "      <th>critic</th>\n",
       "      <th>top_critic</th>\n",
       "      <th>publisher</th>\n",
       "      <th>review_date</th>\n",
       "      <th>fresh_score</th>\n",
       "      <th>synopsis</th>\n",
       "      <th>film_rating</th>\n",
       "      <th>...</th>\n",
       "      <th>writer</th>\n",
       "      <th>theater_date</th>\n",
       "      <th>dvd_date</th>\n",
       "      <th>currency</th>\n",
       "      <th>box_office</th>\n",
       "      <th>runtime</th>\n",
       "      <th>studio</th>\n",
       "      <th>review_year</th>\n",
       "      <th>theater_year</th>\n",
       "      <th>box_office_numeric</th>\n",
       "    </tr>\n",
       "  </thead>\n",
       "  <tbody>\n",
       "    <tr>\n",
       "      <th>0</th>\n",
       "      <td>3</td>\n",
       "      <td>A distinctly gallows take on contemporary fina...</td>\n",
       "      <td>fresh</td>\n",
       "      <td>PJ Nabarro</td>\n",
       "      <td>0</td>\n",
       "      <td>Patrick Nabarro</td>\n",
       "      <td>November 10, 2018</td>\n",
       "      <td>1</td>\n",
       "      <td>New York City, not-too-distant-future: Eric Pa...</td>\n",
       "      <td>R</td>\n",
       "      <td>...</td>\n",
       "      <td>David Cronenberg|Don DeLillo</td>\n",
       "      <td>Aug 17, 2012</td>\n",
       "      <td>Jan 1, 2013</td>\n",
       "      <td>$</td>\n",
       "      <td>600,000</td>\n",
       "      <td>108 minutes</td>\n",
       "      <td>Entertainment One</td>\n",
       "      <td>2018</td>\n",
       "      <td>2012</td>\n",
       "      <td>600000</td>\n",
       "    </tr>\n",
       "    <tr>\n",
       "      <th>1</th>\n",
       "      <td>3</td>\n",
       "      <td>It's an allegory in search of a meaning that n...</td>\n",
       "      <td>rotten</td>\n",
       "      <td>Annalee Newitz</td>\n",
       "      <td>0</td>\n",
       "      <td>io9.com</td>\n",
       "      <td>May 23, 2018</td>\n",
       "      <td>0</td>\n",
       "      <td>New York City, not-too-distant-future: Eric Pa...</td>\n",
       "      <td>R</td>\n",
       "      <td>...</td>\n",
       "      <td>David Cronenberg|Don DeLillo</td>\n",
       "      <td>Aug 17, 2012</td>\n",
       "      <td>Jan 1, 2013</td>\n",
       "      <td>$</td>\n",
       "      <td>600,000</td>\n",
       "      <td>108 minutes</td>\n",
       "      <td>Entertainment One</td>\n",
       "      <td>2018</td>\n",
       "      <td>2012</td>\n",
       "      <td>600000</td>\n",
       "    </tr>\n",
       "    <tr>\n",
       "      <th>2</th>\n",
       "      <td>3</td>\n",
       "      <td>... life lived in a bubble in financial dealin...</td>\n",
       "      <td>fresh</td>\n",
       "      <td>Sean Axmaker</td>\n",
       "      <td>0</td>\n",
       "      <td>Stream on Demand</td>\n",
       "      <td>January 4, 2018</td>\n",
       "      <td>1</td>\n",
       "      <td>New York City, not-too-distant-future: Eric Pa...</td>\n",
       "      <td>R</td>\n",
       "      <td>...</td>\n",
       "      <td>David Cronenberg|Don DeLillo</td>\n",
       "      <td>Aug 17, 2012</td>\n",
       "      <td>Jan 1, 2013</td>\n",
       "      <td>$</td>\n",
       "      <td>600,000</td>\n",
       "      <td>108 minutes</td>\n",
       "      <td>Entertainment One</td>\n",
       "      <td>2018</td>\n",
       "      <td>2012</td>\n",
       "      <td>600000</td>\n",
       "    </tr>\n",
       "    <tr>\n",
       "      <th>3</th>\n",
       "      <td>3</td>\n",
       "      <td>Continuing along a line introduced in last yea...</td>\n",
       "      <td>fresh</td>\n",
       "      <td>Daniel Kasman</td>\n",
       "      <td>0</td>\n",
       "      <td>MUBI</td>\n",
       "      <td>November 16, 2017</td>\n",
       "      <td>1</td>\n",
       "      <td>New York City, not-too-distant-future: Eric Pa...</td>\n",
       "      <td>R</td>\n",
       "      <td>...</td>\n",
       "      <td>David Cronenberg|Don DeLillo</td>\n",
       "      <td>Aug 17, 2012</td>\n",
       "      <td>Jan 1, 2013</td>\n",
       "      <td>$</td>\n",
       "      <td>600,000</td>\n",
       "      <td>108 minutes</td>\n",
       "      <td>Entertainment One</td>\n",
       "      <td>2017</td>\n",
       "      <td>2012</td>\n",
       "      <td>600000</td>\n",
       "    </tr>\n",
       "    <tr>\n",
       "      <th>4</th>\n",
       "      <td>3</td>\n",
       "      <td>... a perverse twist on neorealism...</td>\n",
       "      <td>fresh</td>\n",
       "      <td>NaN</td>\n",
       "      <td>0</td>\n",
       "      <td>Cinema Scope</td>\n",
       "      <td>October 12, 2017</td>\n",
       "      <td>1</td>\n",
       "      <td>New York City, not-too-distant-future: Eric Pa...</td>\n",
       "      <td>R</td>\n",
       "      <td>...</td>\n",
       "      <td>David Cronenberg|Don DeLillo</td>\n",
       "      <td>Aug 17, 2012</td>\n",
       "      <td>Jan 1, 2013</td>\n",
       "      <td>$</td>\n",
       "      <td>600,000</td>\n",
       "      <td>108 minutes</td>\n",
       "      <td>Entertainment One</td>\n",
       "      <td>2017</td>\n",
       "      <td>2012</td>\n",
       "      <td>600000</td>\n",
       "    </tr>\n",
       "  </tbody>\n",
       "</table>\n",
       "<p>5 rows × 22 columns</p>\n",
       "</div>"
      ],
      "text/plain": [
       "   id                                             review   fresh  \\\n",
       "0   3  A distinctly gallows take on contemporary fina...   fresh   \n",
       "1   3  It's an allegory in search of a meaning that n...  rotten   \n",
       "2   3  ... life lived in a bubble in financial dealin...   fresh   \n",
       "3   3  Continuing along a line introduced in last yea...   fresh   \n",
       "4   3             ... a perverse twist on neorealism...    fresh   \n",
       "\n",
       "           critic  top_critic         publisher        review_date  \\\n",
       "0      PJ Nabarro           0   Patrick Nabarro  November 10, 2018   \n",
       "1  Annalee Newitz           0           io9.com       May 23, 2018   \n",
       "2    Sean Axmaker           0  Stream on Demand    January 4, 2018   \n",
       "3   Daniel Kasman           0              MUBI  November 16, 2017   \n",
       "4             NaN           0      Cinema Scope   October 12, 2017   \n",
       "\n",
       "   fresh_score                                           synopsis film_rating  \\\n",
       "0            1  New York City, not-too-distant-future: Eric Pa...           R   \n",
       "1            0  New York City, not-too-distant-future: Eric Pa...           R   \n",
       "2            1  New York City, not-too-distant-future: Eric Pa...           R   \n",
       "3            1  New York City, not-too-distant-future: Eric Pa...           R   \n",
       "4            1  New York City, not-too-distant-future: Eric Pa...           R   \n",
       "\n",
       "   ...                        writer  theater_date     dvd_date currency  \\\n",
       "0  ...  David Cronenberg|Don DeLillo  Aug 17, 2012  Jan 1, 2013        $   \n",
       "1  ...  David Cronenberg|Don DeLillo  Aug 17, 2012  Jan 1, 2013        $   \n",
       "2  ...  David Cronenberg|Don DeLillo  Aug 17, 2012  Jan 1, 2013        $   \n",
       "3  ...  David Cronenberg|Don DeLillo  Aug 17, 2012  Jan 1, 2013        $   \n",
       "4  ...  David Cronenberg|Don DeLillo  Aug 17, 2012  Jan 1, 2013        $   \n",
       "\n",
       "  box_office      runtime             studio review_year theater_year  \\\n",
       "0    600,000  108 minutes  Entertainment One        2018         2012   \n",
       "1    600,000  108 minutes  Entertainment One        2018         2012   \n",
       "2    600,000  108 minutes  Entertainment One        2018         2012   \n",
       "3    600,000  108 minutes  Entertainment One        2017         2012   \n",
       "4    600,000  108 minutes  Entertainment One        2017         2012   \n",
       "\n",
       "   box_office_numeric  \n",
       "0              600000  \n",
       "1              600000  \n",
       "2              600000  \n",
       "3              600000  \n",
       "4              600000  \n",
       "\n",
       "[5 rows x 22 columns]"
      ]
     },
     "execution_count": 22,
     "metadata": {},
     "output_type": "execute_result"
    }
   ],
   "source": [
    "rt_reviewed_movies_df['box_office_numeric'] = rt_reviewed_movies_df.apply(lambda row: 0 if row.box_office=='UNKNOWN' else int(row.box_office.replace(',','')), axis=1)\n",
    "rt_reviewed_movies_df.head()"
   ]
  },
  {
   "cell_type": "code",
   "execution_count": 24,
   "metadata": {},
   "outputs": [
    {
     "name": "stdout",
     "output_type": "stream",
     "text": [
      "count        54,432.00\n",
      "mean     32,528,122.65\n",
      "std      59,919,239.16\n",
      "min               0.00\n",
      "25%               0.00\n",
      "50%       3,400,000.00\n",
      "75%      37,431,431.00\n",
      "max     368,000,000.00\n",
      "Name: box_office_numeric, dtype: float64\n"
     ]
    }
   ],
   "source": [
    "print(rt_reviewed_movies_df['box_office_numeric'].describe())"
   ]
  },
  {
   "cell_type": "markdown",
   "metadata": {},
   "source": [
    "If we want to use runtime it should be a numeric value. Convert from a str to int. Will need to trim to remove the 'minutes' from the string to make it castable to an int.  There are some NaNs for runtime string replace them with the string \"UNKNOWN\".  Made new col, runtime_numeric, to store runtime minutes as int. If runtime was NaN, converted value is 0. Keep this in mind to filter out when plotting."
   ]
  },
  {
   "cell_type": "code",
   "execution_count": 25,
   "metadata": {},
   "outputs": [],
   "source": [
    "rt_reviewed_movies_df['runtime'].fillna('UNKNOWN', inplace=True)"
   ]
  },
  {
   "cell_type": "code",
   "execution_count": 26,
   "metadata": {},
   "outputs": [
    {
     "data": {
      "text/html": [
       "<div>\n",
       "<style scoped>\n",
       "    .dataframe tbody tr th:only-of-type {\n",
       "        vertical-align: middle;\n",
       "    }\n",
       "\n",
       "    .dataframe tbody tr th {\n",
       "        vertical-align: top;\n",
       "    }\n",
       "\n",
       "    .dataframe thead th {\n",
       "        text-align: right;\n",
       "    }\n",
       "</style>\n",
       "<table border=\"1\" class=\"dataframe\">\n",
       "  <thead>\n",
       "    <tr style=\"text-align: right;\">\n",
       "      <th></th>\n",
       "      <th>id</th>\n",
       "      <th>review</th>\n",
       "      <th>fresh</th>\n",
       "      <th>critic</th>\n",
       "      <th>top_critic</th>\n",
       "      <th>publisher</th>\n",
       "      <th>review_date</th>\n",
       "      <th>fresh_score</th>\n",
       "      <th>synopsis</th>\n",
       "      <th>film_rating</th>\n",
       "      <th>...</th>\n",
       "      <th>theater_date</th>\n",
       "      <th>dvd_date</th>\n",
       "      <th>currency</th>\n",
       "      <th>box_office</th>\n",
       "      <th>runtime</th>\n",
       "      <th>studio</th>\n",
       "      <th>review_year</th>\n",
       "      <th>theater_year</th>\n",
       "      <th>box_office_numeric</th>\n",
       "      <th>runtime_numeric</th>\n",
       "    </tr>\n",
       "  </thead>\n",
       "  <tbody>\n",
       "    <tr>\n",
       "      <th>0</th>\n",
       "      <td>3</td>\n",
       "      <td>A distinctly gallows take on contemporary fina...</td>\n",
       "      <td>fresh</td>\n",
       "      <td>PJ Nabarro</td>\n",
       "      <td>0</td>\n",
       "      <td>Patrick Nabarro</td>\n",
       "      <td>November 10, 2018</td>\n",
       "      <td>1</td>\n",
       "      <td>New York City, not-too-distant-future: Eric Pa...</td>\n",
       "      <td>R</td>\n",
       "      <td>...</td>\n",
       "      <td>Aug 17, 2012</td>\n",
       "      <td>Jan 1, 2013</td>\n",
       "      <td>$</td>\n",
       "      <td>600,000</td>\n",
       "      <td>108 minutes</td>\n",
       "      <td>Entertainment One</td>\n",
       "      <td>2018</td>\n",
       "      <td>2012</td>\n",
       "      <td>600000</td>\n",
       "      <td>108</td>\n",
       "    </tr>\n",
       "    <tr>\n",
       "      <th>1</th>\n",
       "      <td>3</td>\n",
       "      <td>It's an allegory in search of a meaning that n...</td>\n",
       "      <td>rotten</td>\n",
       "      <td>Annalee Newitz</td>\n",
       "      <td>0</td>\n",
       "      <td>io9.com</td>\n",
       "      <td>May 23, 2018</td>\n",
       "      <td>0</td>\n",
       "      <td>New York City, not-too-distant-future: Eric Pa...</td>\n",
       "      <td>R</td>\n",
       "      <td>...</td>\n",
       "      <td>Aug 17, 2012</td>\n",
       "      <td>Jan 1, 2013</td>\n",
       "      <td>$</td>\n",
       "      <td>600,000</td>\n",
       "      <td>108 minutes</td>\n",
       "      <td>Entertainment One</td>\n",
       "      <td>2018</td>\n",
       "      <td>2012</td>\n",
       "      <td>600000</td>\n",
       "      <td>108</td>\n",
       "    </tr>\n",
       "    <tr>\n",
       "      <th>2</th>\n",
       "      <td>3</td>\n",
       "      <td>... life lived in a bubble in financial dealin...</td>\n",
       "      <td>fresh</td>\n",
       "      <td>Sean Axmaker</td>\n",
       "      <td>0</td>\n",
       "      <td>Stream on Demand</td>\n",
       "      <td>January 4, 2018</td>\n",
       "      <td>1</td>\n",
       "      <td>New York City, not-too-distant-future: Eric Pa...</td>\n",
       "      <td>R</td>\n",
       "      <td>...</td>\n",
       "      <td>Aug 17, 2012</td>\n",
       "      <td>Jan 1, 2013</td>\n",
       "      <td>$</td>\n",
       "      <td>600,000</td>\n",
       "      <td>108 minutes</td>\n",
       "      <td>Entertainment One</td>\n",
       "      <td>2018</td>\n",
       "      <td>2012</td>\n",
       "      <td>600000</td>\n",
       "      <td>108</td>\n",
       "    </tr>\n",
       "    <tr>\n",
       "      <th>3</th>\n",
       "      <td>3</td>\n",
       "      <td>Continuing along a line introduced in last yea...</td>\n",
       "      <td>fresh</td>\n",
       "      <td>Daniel Kasman</td>\n",
       "      <td>0</td>\n",
       "      <td>MUBI</td>\n",
       "      <td>November 16, 2017</td>\n",
       "      <td>1</td>\n",
       "      <td>New York City, not-too-distant-future: Eric Pa...</td>\n",
       "      <td>R</td>\n",
       "      <td>...</td>\n",
       "      <td>Aug 17, 2012</td>\n",
       "      <td>Jan 1, 2013</td>\n",
       "      <td>$</td>\n",
       "      <td>600,000</td>\n",
       "      <td>108 minutes</td>\n",
       "      <td>Entertainment One</td>\n",
       "      <td>2017</td>\n",
       "      <td>2012</td>\n",
       "      <td>600000</td>\n",
       "      <td>108</td>\n",
       "    </tr>\n",
       "    <tr>\n",
       "      <th>4</th>\n",
       "      <td>3</td>\n",
       "      <td>... a perverse twist on neorealism...</td>\n",
       "      <td>fresh</td>\n",
       "      <td>NaN</td>\n",
       "      <td>0</td>\n",
       "      <td>Cinema Scope</td>\n",
       "      <td>October 12, 2017</td>\n",
       "      <td>1</td>\n",
       "      <td>New York City, not-too-distant-future: Eric Pa...</td>\n",
       "      <td>R</td>\n",
       "      <td>...</td>\n",
       "      <td>Aug 17, 2012</td>\n",
       "      <td>Jan 1, 2013</td>\n",
       "      <td>$</td>\n",
       "      <td>600,000</td>\n",
       "      <td>108 minutes</td>\n",
       "      <td>Entertainment One</td>\n",
       "      <td>2017</td>\n",
       "      <td>2012</td>\n",
       "      <td>600000</td>\n",
       "      <td>108</td>\n",
       "    </tr>\n",
       "  </tbody>\n",
       "</table>\n",
       "<p>5 rows × 23 columns</p>\n",
       "</div>"
      ],
      "text/plain": [
       "   id                                             review   fresh  \\\n",
       "0   3  A distinctly gallows take on contemporary fina...   fresh   \n",
       "1   3  It's an allegory in search of a meaning that n...  rotten   \n",
       "2   3  ... life lived in a bubble in financial dealin...   fresh   \n",
       "3   3  Continuing along a line introduced in last yea...   fresh   \n",
       "4   3             ... a perverse twist on neorealism...    fresh   \n",
       "\n",
       "           critic  top_critic         publisher        review_date  \\\n",
       "0      PJ Nabarro           0   Patrick Nabarro  November 10, 2018   \n",
       "1  Annalee Newitz           0           io9.com       May 23, 2018   \n",
       "2    Sean Axmaker           0  Stream on Demand    January 4, 2018   \n",
       "3   Daniel Kasman           0              MUBI  November 16, 2017   \n",
       "4             NaN           0      Cinema Scope   October 12, 2017   \n",
       "\n",
       "   fresh_score                                           synopsis film_rating  \\\n",
       "0            1  New York City, not-too-distant-future: Eric Pa...           R   \n",
       "1            0  New York City, not-too-distant-future: Eric Pa...           R   \n",
       "2            1  New York City, not-too-distant-future: Eric Pa...           R   \n",
       "3            1  New York City, not-too-distant-future: Eric Pa...           R   \n",
       "4            1  New York City, not-too-distant-future: Eric Pa...           R   \n",
       "\n",
       "   ...  theater_date     dvd_date currency box_office      runtime  \\\n",
       "0  ...  Aug 17, 2012  Jan 1, 2013        $    600,000  108 minutes   \n",
       "1  ...  Aug 17, 2012  Jan 1, 2013        $    600,000  108 minutes   \n",
       "2  ...  Aug 17, 2012  Jan 1, 2013        $    600,000  108 minutes   \n",
       "3  ...  Aug 17, 2012  Jan 1, 2013        $    600,000  108 minutes   \n",
       "4  ...  Aug 17, 2012  Jan 1, 2013        $    600,000  108 minutes   \n",
       "\n",
       "              studio review_year theater_year box_office_numeric  \\\n",
       "0  Entertainment One        2018         2012             600000   \n",
       "1  Entertainment One        2018         2012             600000   \n",
       "2  Entertainment One        2018         2012             600000   \n",
       "3  Entertainment One        2017         2012             600000   \n",
       "4  Entertainment One        2017         2012             600000   \n",
       "\n",
       "   runtime_numeric  \n",
       "0              108  \n",
       "1              108  \n",
       "2              108  \n",
       "3              108  \n",
       "4              108  \n",
       "\n",
       "[5 rows x 23 columns]"
      ]
     },
     "execution_count": 26,
     "metadata": {},
     "output_type": "execute_result"
    }
   ],
   "source": [
    "rt_reviewed_movies_df['runtime_numeric'] = rt_reviewed_movies_df.apply(lambda row: 0 if row.runtime=='UNKNOWN' else int(row.runtime.replace('minutes','')), axis=1)\n",
    "rt_reviewed_movies_df.head()"
   ]
  },
  {
   "cell_type": "markdown",
   "metadata": {},
   "source": [
    "# Question: Is there a relationship between a movie's average fresh rating and it's box office performance?\n",
    "\n",
    "Does a better average fresh rating result in better box office performance?"
   ]
  },
  {
   "cell_type": "code",
   "execution_count": 27,
   "metadata": {},
   "outputs": [
    {
     "name": "stdout",
     "output_type": "stream",
     "text": [
      "<class 'pandas.core.frame.DataFrame'>\n",
      "Int64Index: 33310 entries, 0 to 54317\n",
      "Data columns (total 23 columns):\n",
      " #   Column              Non-Null Count  Dtype \n",
      "---  ------              --------------  ----- \n",
      " 0   id                  33310 non-null  int64 \n",
      " 1   review              32157 non-null  object\n",
      " 2   fresh               33310 non-null  object\n",
      " 3   critic              32085 non-null  object\n",
      " 4   top_critic          33310 non-null  int64 \n",
      " 5   publisher           33104 non-null  object\n",
      " 6   review_date         33310 non-null  object\n",
      " 7   fresh_score         33310 non-null  int64 \n",
      " 8   synopsis            33310 non-null  object\n",
      " 9   film_rating         33310 non-null  object\n",
      " 10  genre               33310 non-null  object\n",
      " 11  director            29368 non-null  object\n",
      " 12  writer              27634 non-null  object\n",
      " 13  theater_date        33199 non-null  object\n",
      " 14  dvd_date            33199 non-null  object\n",
      " 15  currency            33310 non-null  object\n",
      " 16  box_office          33310 non-null  object\n",
      " 17  runtime             33310 non-null  object\n",
      " 18  studio              30967 non-null  object\n",
      " 19  review_year         33310 non-null  int64 \n",
      " 20  theater_year        33310 non-null  int64 \n",
      " 21  box_office_numeric  33310 non-null  int64 \n",
      " 22  runtime_numeric     33310 non-null  int64 \n",
      "dtypes: int64(7), object(16)\n",
      "memory usage: 6.1+ MB\n",
      "None\n"
     ]
    }
   ],
   "source": [
    "#just get the rows w/ a non-0 value for box office  \n",
    "rt_boxoffice_df = rt_reviewed_movies_df.loc[rt_reviewed_movies_df['box_office_numeric'] != 0]\n",
    "print(rt_boxoffice_df.info())"
   ]
  },
  {
   "cell_type": "code",
   "execution_count": 28,
   "metadata": {},
   "outputs": [
    {
     "name": "stdout",
     "output_type": "stream",
     "text": [
      "id\n",
      "3      0.63\n",
      "10     0.46\n",
      "13     0.64\n",
      "14     0.14\n",
      "23     0.91\n",
      "       ... \n",
      "1976   0.96\n",
      "1980   0.82\n",
      "1981   0.75\n",
      "1986   0.98\n",
      "1996   0.67\n",
      "Name: fresh_score, Length: 299, dtype: float64\n"
     ]
    }
   ],
   "source": [
    "# for all movies that have a box office value, what is the average fresh_score. Every movie has an id.\n",
    "print(rt_boxoffice_df.groupby(['id'])['fresh_score'].mean())"
   ]
  },
  {
   "cell_type": "code",
   "execution_count": 32,
   "metadata": {},
   "outputs": [
    {
     "name": "stdout",
     "output_type": "stream",
     "text": [
      "id\n",
      "3         600000\n",
      "10      41032915\n",
      "13        224114\n",
      "14        134904\n",
      "23      99165609\n",
      "          ...   \n",
      "1976     1320005\n",
      "1980    25335935\n",
      "1981     1416189\n",
      "1986      794306\n",
      "1996    33886034\n",
      "Name: box_office_numeric, Length: 299, dtype: int64\n",
      "id\n",
      "3         600000\n",
      "10      41032915\n",
      "13        224114\n",
      "14        134904\n",
      "23      99165609\n",
      "          ...   \n",
      "1976     1320005\n",
      "1980    25335935\n",
      "1981     1416189\n",
      "1986      794306\n",
      "1996    33886034\n",
      "Name: box_office_numeric, Length: 299, dtype: int64\n"
     ]
    }
   ],
   "source": [
    "#hacky but works for scatter plotting purposes\n",
    "print(rt_boxoffice_df.groupby(['id'])['box_office_numeric'].min())\n",
    "print(rt_boxoffice_df.groupby(['id'])['box_office_numeric'].max())"
   ]
  },
  {
   "cell_type": "code",
   "execution_count": 37,
   "metadata": {},
   "outputs": [
    {
     "name": "stderr",
     "output_type": "stream",
     "text": [
      "/home/user/anaconda3/envs/flatiron/lib/python3.6/site-packages/ipykernel_launcher.py:10: MatplotlibDeprecationWarning: Adding an axes using the same arguments as a previous axes currently reuses the earlier instance.  In a future version, a new instance will always be created and returned.  Meanwhile, this warning can be suppressed, and the future behavior ensured, by passing a unique label to each axes instance.\n",
      "  # Remove the CWD from sys.path while we load stuff.\n"
     ]
    },
    {
     "data": {
      "image/png": "[encoded data removed]",
      "text/plain": [
       "<Figure size 576x360 with 1 Axes>"
      ]
     },
     "metadata": {
      "needs_background": "light"
     },
     "output_type": "display_data"
    }
   ],
   "source": [
    "from matplotlib.ticker import StrMethodFormatter\n",
    "\n",
    "x = rt_boxoffice_df.groupby(['id'])['fresh_score'].mean()\n",
    "y = rt_boxoffice_df.groupby(['id'])['box_office_numeric'].min()\n",
    "\n",
    "fig = plt.figure(figsize=(8, 5))\n",
    "ax = plt.gca()\n",
    "ax.scatter(x, y, c='darkblue', edgecolors='none',  alpha=.60)\n",
    "ax.set_yscale('log')\n",
    "plt.axes().yaxis.set_major_formatter(StrMethodFormatter('{x:,.0f}'))\n",
    "plt.title('Avg Fresh Score by Box Office Total')\n",
    "plt.xlabel('Average Fresh Score')\n",
    "plt.ylabel('Box Office')\n",
    "plt.show()"
   ]
  },
  {
   "cell_type": "markdown",
   "metadata": {},
   "source": [
    "Let's get the coorellation coeef between a movie's average fresh score and it's box office gross."
   ]
  },
  {
   "cell_type": "code",
   "execution_count": 60,
   "metadata": {
    "scrolled": true
   },
   "outputs": [
    {
     "data": {
      "text/plain": [
       "array([[1.        , 0.05424183],\n",
       "       [0.05424183, 1.        ]])"
      ]
     },
     "execution_count": 60,
     "metadata": {},
     "output_type": "execute_result"
    }
   ],
   "source": [
    "np.corrcoef(x=rt_boxoffice_df.groupby(['id'])['fresh_score'].mean(), y=rt_boxoffice_df.groupby(['id'])['box_office_numeric'].min())"
   ]
  },
  {
   "cell_type": "markdown",
   "metadata": {},
   "source": [
    "As the scatterplot shows us, a movie's average fresh score doesn't really correlate to it's box office gross."
   ]
  },
  {
   "cell_type": "code",
   "execution_count": 57,
   "metadata": {},
   "outputs": [
    {
     "name": "stdout",
     "output_type": "stream",
     "text": [
      "id\n",
      "3       108\n",
      "10       82\n",
      "13      123\n",
      "14      117\n",
      "23      129\n",
      "       ... \n",
      "1976    123\n",
      "1980    119\n",
      "1981    129\n",
      "1986     97\n",
      "1996    106\n",
      "Name: runtime_numeric, Length: 299, dtype: int64\n",
      "id\n",
      "3       108\n",
      "10       82\n",
      "13      123\n",
      "14      117\n",
      "23      129\n",
      "       ... \n",
      "1976    123\n",
      "1980    119\n",
      "1981    129\n",
      "1986     97\n",
      "1996    106\n",
      "Name: runtime_numeric, Length: 299, dtype: int64\n"
     ]
    }
   ],
   "source": [
    "#hacky but works for scatter plotting purposes\n",
    "print(rt_boxoffice_df.groupby(['id'])['runtime_numeric'].min())\n",
    "print(rt_boxoffice_df.groupby(['id'])['runtime_numeric'].max())"
   ]
  },
  {
   "cell_type": "code",
   "execution_count": 63,
   "metadata": {},
   "outputs": [
    {
     "name": "stderr",
     "output_type": "stream",
     "text": [
      "/home/user/anaconda3/envs/flatiron/lib/python3.6/site-packages/ipykernel_launcher.py:10: MatplotlibDeprecationWarning: Adding an axes using the same arguments as a previous axes currently reuses the earlier instance.  In a future version, a new instance will always be created and returned.  Meanwhile, this warning can be suppressed, and the future behavior ensured, by passing a unique label to each axes instance.\n",
      "  # Remove the CWD from sys.path while we load stuff.\n"
     ]
    },
    {
     "data": {
      "image/png": "[encoded data removed]",
      "text/plain": [
       "<Figure size 576x360 with 1 Axes>"
      ]
     },
     "metadata": {
      "needs_background": "light"
     },
     "output_type": "display_data"
    }
   ],
   "source": [
    "from matplotlib.ticker import StrMethodFormatter\n",
    "\n",
    "x = rt_boxoffice_df.groupby(['id'])['runtime_numeric'].min()\n",
    "y = rt_boxoffice_df.groupby(['id'])['box_office_numeric'].min()\n",
    "\n",
    "fig = plt.figure(figsize=(8, 5))\n",
    "ax = plt.gca()\n",
    "ax.scatter(x, y, c='darkblue', edgecolors='none',  alpha=.60)\n",
    "ax.set_yscale('log')\n",
    "plt.axes().yaxis.set_major_formatter(StrMethodFormatter('{x:,.0f}'))\n",
    "plt.title(' Runtime by Box Office')\n",
    "plt.xlabel('Runtime (in minutes)')\n",
    "plt.ylabel('Box Office')\n",
    "plt.show()"
   ]
  },
  {
   "cell_type": "code",
   "execution_count": 61,
   "metadata": {},
   "outputs": [
    {
     "data": {
      "text/plain": [
       "array([[1.        , 0.19157631],\n",
       "       [0.19157631, 1.        ]])"
      ]
     },
     "execution_count": 61,
     "metadata": {},
     "output_type": "execute_result"
    }
   ],
   "source": [
    "np.corrcoef(x=rt_boxoffice_df.groupby(['id'])['runtime_numeric'].min(), y=rt_boxoffice_df.groupby(['id'])['box_office_numeric'].min())"
   ]
  },
  {
   "cell_type": "markdown",
   "metadata": {},
   "source": [
    "As the scatterplot shows us, and the Pearson correlation coefficient of 0.191, a movie's runtime does not strongly correlate to it's box office gross."
   ]
  },
  {
   "cell_type": "code",
   "execution_count": 44,
   "metadata": {},
   "outputs": [
    {
     "name": "stdout",
     "output_type": "stream",
     "text": [
      "id\n",
      "3           R\n",
      "10      PG-13\n",
      "13          R\n",
      "14          R\n",
      "23          R\n",
      "        ...  \n",
      "1976       NR\n",
      "1980    PG-13\n",
      "1981       NR\n",
      "1986       PG\n",
      "1996        R\n",
      "Name: film_rating, Length: 299, dtype: object\n",
      "id\n",
      "3           R\n",
      "10      PG-13\n",
      "13          R\n",
      "14          R\n",
      "23          R\n",
      "        ...  \n",
      "1976       NR\n",
      "1980    PG-13\n",
      "1981       NR\n",
      "1986       PG\n",
      "1996        R\n",
      "Name: film_rating, Length: 299, dtype: object\n"
     ]
    }
   ],
   "source": [
    "#hacky but works for scatter plotting purposes\n",
    "print(rt_boxoffice_df.groupby(['id'])['film_rating'].min())\n",
    "print(rt_boxoffice_df.groupby(['id'])['film_rating'].max())"
   ]
  },
  {
   "cell_type": "code",
   "execution_count": 49,
   "metadata": {},
   "outputs": [
    {
     "name": "stderr",
     "output_type": "stream",
     "text": [
      "/home/user/anaconda3/envs/flatiron/lib/python3.6/site-packages/ipykernel_launcher.py:10: MatplotlibDeprecationWarning: Adding an axes using the same arguments as a previous axes currently reuses the earlier instance.  In a future version, a new instance will always be created and returned.  Meanwhile, this warning can be suppressed, and the future behavior ensured, by passing a unique label to each axes instance.\n",
      "  # Remove the CWD from sys.path while we load stuff.\n"
     ]
    },
    {
     "data": {
      "image/png": "[encoded data removed]",
      "text/plain": [
       "<Figure size 576x360 with 1 Axes>"
      ]
     },
     "metadata": {
      "needs_background": "light"
     },
     "output_type": "display_data"
    }
   ],
   "source": [
    "from matplotlib.ticker import StrMethodFormatter\n",
    "\n",
    "x = rt_boxoffice_df.groupby(['id'])['film_rating'].min()\n",
    "y = rt_boxoffice_df.groupby(['id'])['box_office_numeric'].min()\n",
    "\n",
    "fig = plt.figure(figsize=(8, 5))\n",
    "ax = plt.gca()\n",
    "ax.scatter(x, y, c='darkblue', edgecolors='none',  alpha=.60)\n",
    "ax.set_yscale('log')\n",
    "plt.axes().yaxis.set_major_formatter(StrMethodFormatter('{x:,.0f}'))\n",
    "plt.title(' Film Rating by Box Office')\n",
    "plt.xlabel('Film Rating')\n",
    "plt.ylabel('Box Office')\n",
    "plt.show()"
   ]
  },
  {
   "cell_type": "markdown",
   "metadata": {},
   "source": [
    "# everything below here is a little off...since I was not grouping by id the counts are too high\n",
    "\n",
    "We want to provide insight into the movies released over a decade. The most recent movie in this set was released in 2018. We will also look at the last 5, and 1 year to see if there are changes/trends that shift from the decade insights."
   ]
  },
  {
   "cell_type": "code",
   "execution_count": 64,
   "metadata": {
    "scrolled": false
   },
   "outputs": [],
   "source": [
    "decade_fresh = rt_reviewed_movies_df.loc[(rt_reviewed_movies_df['theater_year'] >=2009) & (rt_reviewed_movies_df['fresh'] == 'fresh')]\n",
    "decade_rotten = rt_reviewed_movies_df.loc[(rt_reviewed_movies_df['theater_year'] >=2009) & (rt_reviewed_movies_df['fresh'] == 'rotten')]"
   ]
  },
  {
   "cell_type": "code",
   "execution_count": 68,
   "metadata": {},
   "outputs": [
    {
     "data": {
      "text/plain": [
       "Text(0, 0.5, 'Total Fresh Movies')"
      ]
     },
     "execution_count": 68,
     "metadata": {},
     "output_type": "execute_result"
    },
    {
     "data": {
      "image/png": "[encoded data removed]",
      "text/plain": [
       "<Figure size 576x360 with 1 Axes>"
      ]
     },
     "metadata": {
      "needs_background": "light"
     },
     "output_type": "display_data"
    }
   ],
   "source": [
    "fig = plt.figure(figsize = (8, 5))\n",
    "plt.bar(decade_fresh.groupby('film_rating')['id'].count().index, decade_fresh.groupby('film_rating')['id'].count(), color = 'red', alpha = 0.90)\n",
    "plt.grid(color = 'black', alpha = 0.2, linestyle = '--', linewidth = 1)\n",
    "plt.title('Fresh Films by Film Rating')\n",
    "plt.xlabel('Film Ratings')\n",
    "plt.ylabel('Total Fresh Movies')"
   ]
  },
  {
   "cell_type": "code",
   "execution_count": 69,
   "metadata": {},
   "outputs": [
    {
     "data": {
      "text/plain": [
       "Text(0, 0.5, 'Total Rotten Movies')"
      ]
     },
     "execution_count": 69,
     "metadata": {},
     "output_type": "execute_result"
    },
    {
     "data": {
      "image/png": "[encoded data removed]",
      "text/plain": [
       "<Figure size 576x360 with 1 Axes>"
      ]
     },
     "metadata": {
      "needs_background": "light"
     },
     "output_type": "display_data"
    }
   ],
   "source": [
    "fig = plt.figure(figsize = (8, 5))\n",
    "plt.bar(decade_rotten.groupby('film_rating')['id'].count().index, decade_rotten.groupby('film_rating')['id'].count(), color = 'red', alpha = 0.90)\n",
    "plt.grid(color = 'black', alpha = 0.2, linestyle = '--', linewidth = 1)\n",
    "plt.title('Rotten Films by Film Rating')\n",
    "plt.xlabel('Film Ratings')\n",
    "plt.ylabel('Total Rotten Movies')"
   ]
  },
  {
   "cell_type": "code",
   "execution_count": 70,
   "metadata": {},
   "outputs": [
    {
     "data": {
      "text/plain": [
       "Text(0.5, 1.0, 'Fresh vs. Rotten in the Last 10 Years (2009-2018)')"
      ]
     },
     "execution_count": 70,
     "metadata": {},
     "output_type": "execute_result"
    },
    {
     "data": {
      "image/png": "[encoded data removed]",
      "text/plain": [
       "<Figure size 576x432 with 1 Axes>"
      ]
     },
     "metadata": {
      "needs_background": "light"
     },
     "output_type": "display_data"
    }
   ],
   "source": [
    "plt.figure(figsize=(8,6))\n",
    "plt.hist([decade_fresh['film_rating'], decade_rotten['film_rating']], alpha=0.75, color=['red','#A0522D'], label=['10 Year Fresh', '10 Year Rotten'])\n",
    "plt.legend(loc='upper right')\n",
    "plt.xlabel(\"Film Ratings\", size=11)\n",
    "plt.ylabel(\"Count\", size=11)\n",
    "plt.title(\"Fresh vs. Rotten in the Last 10 Years (2009-2018)\")"
   ]
  },
  {
   "cell_type": "code",
   "execution_count": null,
   "metadata": {},
   "outputs": [],
   "source": [
    "recent_fresh = rt_reviewed_movies_df.loc[(rt_reviewed_movies_df['theater_year'].isin([2018, 2017, 2016, 2015, 2014])) & (rt_reviewed_movies_df['fresh'] =='fresh')]\n",
    "recent_rotten = rt_reviewed_movies_df.loc[(rt_reviewed_movies_df['theater_year'].isin([2018, 2017, 2016, 2015, 2014])) & (rt_reviewed_movies_df['fresh'] =='rotten')]"
   ]
  },
  {
   "cell_type": "code",
   "execution_count": null,
   "metadata": {},
   "outputs": [],
   "source": [
    "plt.figure(figsize=(8,6))\n",
    "plt.hist([recent_fresh['film_rating'], recent_rotten['film_rating']], alpha=0.75, color=['red','#A0522D'], label=['5 Year Fresh', '5 Year Rotten'])\n",
    "plt.legend(loc='upper right')\n",
    "plt.xlabel(\"Film Ratings\", size=11)\n",
    "plt.ylabel(\"Count\", size=11)\n",
    "plt.title(\"Fresh vs. Rotten in the Last 5 Years (2014-2018)\")"
   ]
  },
  {
   "cell_type": "code",
   "execution_count": null,
   "metadata": {},
   "outputs": [],
   "source": [
    "latest_year_fresh = rt_reviewed_movies_df.loc[(rt_reviewed_movies_df['theater_year'] == 2018) & (rt_reviewed_movies_df['fresh'] =='fresh')]\n",
    "latest_year_rotten = rt_reviewed_movies_df.loc[(rt_reviewed_movies_df['theater_year'] == 2018) & (rt_reviewed_movies_df['fresh'] =='rotten')]"
   ]
  },
  {
   "cell_type": "code",
   "execution_count": null,
   "metadata": {},
   "outputs": [],
   "source": [
    "plt.figure(figsize=(8,6))\n",
    "plt.hist([latest_year_fresh['film_rating'], latest_year_rotten['film_rating']], alpha=0.75, color=['red','#A0522D'], label=['2018 Fresh', '2018 Rotten'])\n",
    "plt.legend(loc='upper right')\n",
    "plt.xlabel(\"Film Ratings\", size=11)\n",
    "plt.ylabel(\"Count\", size=11)\n",
    "plt.title(\"Fresh vs. Rotten in 2018\")"
   ]
  },
  {
   "cell_type": "code",
   "execution_count": null,
   "metadata": {},
   "outputs": [],
   "source": [
    "latest_year = rt_reviewed_movies_df.loc[(rt_reviewed_movies_df['theater_year'] == 2018)]\n",
    "\n",
    "x_val= latest_year.groupby(['id'])['film_rating'].min()\n",
    "y_val= latest_year.groupby(['id'])['fresh_score'].mean()\n",
    "\n",
    "import seaborn as sn\n",
    "fgrid = sns.scatterplot(x=x_val, y=y_val, data=latest_year, color='darkblue', alpha=.4, edgecolor='none')\n",
    "plt.ylabel('Average Fresh Score')\n",
    "plt.xlabel('Film Rating')\n",
    "plt.title('Avg Fresh Score by Film Rating for 2018')"
   ]
  },
  {
   "cell_type": "code",
   "execution_count": null,
   "metadata": {},
   "outputs": [],
   "source": [
    "last_five_years = rt_reviewed_movies_df.loc[(rt_reviewed_movies_df['theater_year'].isin([2018, 2017, 2016, 2015, 2014]))]\n",
    "\n",
    "x_val= last_five_years.groupby(['id'])['film_rating'].min()\n",
    "y_val= last_five_years.groupby(['id'])['fresh_score'].mean()\n",
    "\n",
    "import seaborn as sn\n",
    "fgrid = sns.scatterplot(x=x_val, y=y_val, data=latest_year, color='darkblue', alpha=.4, edgecolor='none')\n",
    "plt.ylabel('Average Fresh Score')\n",
    "plt.xlabel('Film Rating')\n",
    "plt.title('Avg Fresh Score by Film Rating for 2014-2018')"
   ]
  },
  {
   "cell_type": "code",
   "execution_count": null,
   "metadata": {},
   "outputs": [],
   "source": [
    "last_ten_years = rt_reviewed_movies_df.loc[(rt_reviewed_movies_df['theater_year']<=2009)]\n",
    "\n",
    "x_val= last_ten_years.groupby(['id'])['film_rating'].min()\n",
    "y_val= last_ten_years.groupby(['id'])['fresh_score'].mean()\n",
    "\n",
    "import seaborn as sn\n",
    "fgrid = sns.scatterplot(x=x_val, y=y_val, data=latest_year, color='darkblue', alpha=.4, edgecolor='none')\n",
    "plt.ylabel('Average Fresh Score')\n",
    "plt.xlabel('Film Rating')\n",
    "plt.title('Avg Fresh Score by Film Rating for 2009-2018')"
   ]
  },
  {
   "cell_type": "code",
   "execution_count": null,
   "metadata": {},
   "outputs": [],
   "source": []
  },
  {
   "cell_type": "code",
   "execution_count": null,
   "metadata": {},
   "outputs": [],
   "source": []
  },
  {
   "cell_type": "code",
   "execution_count": null,
   "metadata": {
    "scrolled": true
   },
   "outputs": [],
   "source": []
  },
  {
   "cell_type": "code",
   "execution_count": null,
   "metadata": {},
   "outputs": [],
   "source": [
    "print(rt_reviewed_movies_df[bool_series].groupby(['id'])['box_office'].max())\n",
    "print(rt_reviewed_movies_df[bool_series].groupby(['id'])['box_office'].min())"
   ]
  },
  {
   "cell_type": "code",
   "execution_count": null,
   "metadata": {},
   "outputs": [],
   "source": []
  },
  {
   "cell_type": "code",
   "execution_count": null,
   "metadata": {},
   "outputs": [],
   "source": []
  }
 ],
 "metadata": {
  "kernelspec": {
   "display_name": "Python 3",
   "language": "python",
   "name": "python3"
  },
  "language_info": {
   "codemirror_mode": {
    "name": "ipython",
    "version": 3
   },
   "file_extension": ".py",
   "mimetype": "text/x-python",
   "name": "python",
   "nbconvert_exporter": "python",
   "pygments_lexer": "ipython3",
   "version": "3.6.9"
  },
  "toc": {
   "base_numbering": 1,
   "nav_menu": {},
   "number_sections": true,
   "sideBar": true,
   "skip_h1_title": false,
   "title_cell": "Table of Contents",
   "title_sidebar": "Contents",
   "toc_cell": false,
   "toc_position": {},
   "toc_section_display": true,
   "toc_window_display": false
  }
 },
 "nbformat": 4,
 "nbformat_minor": 2
}
