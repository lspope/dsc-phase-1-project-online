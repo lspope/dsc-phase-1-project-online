{
 "cells": [
  {
   "cell_type": "markdown",
   "metadata": {},
   "source": [
    "## IMDB Datasets Playground\n",
    "\n",
    "Exploring two of the six IMDB datasets: title.basics.csv and title.ratings.csv which, combined, can provide insights into IMDB's rating of movies. No box office/gross numbers are provided in the IMDB data but we'll assume that higher rated films are \"better\" films.\n",
    "\n",
    "\n",
    "title.basics.csv has columns:\n",
    "\n",
    "\"tconst\", \"primary_title\", \"original_title\", \"start_year\", \"runtime_minutes\", \"genres\"\n",
    "\n",
    "\n",
    "title.ratings.csv has columns:\n",
    "\n",
    "\"tconst\", \"averagerating\", \"numvotes\"\n",
    "\n",
    "NOTES:\n",
    "Records in these dataset can be joined on tconst."
   ]
  },
  {
   "cell_type": "code",
   "execution_count": 50,
   "metadata": {},
   "outputs": [],
   "source": [
    "# Import the required libraries\n",
    "import pandas as pd\n",
    "import numpy as np\n",
    "import matplotlib.pyplot as plt\n",
    "import seaborn as sn\n",
    "%matplotlib inline\n",
    "\n",
    "# set up pandas to display floats in a more human friendly way\n",
    "pd.options.display.float_format = '{:,.2f}'.format"
   ]
  },
  {
   "cell_type": "code",
   "execution_count": 55,
   "metadata": {
    "scrolled": true
   },
   "outputs": [
    {
     "data": {
      "text/html": [
       "<div>\n",
       "<style scoped>\n",
       "    .dataframe tbody tr th:only-of-type {\n",
       "        vertical-align: middle;\n",
       "    }\n",
       "\n",
       "    .dataframe tbody tr th {\n",
       "        vertical-align: top;\n",
       "    }\n",
       "\n",
       "    .dataframe thead th {\n",
       "        text-align: right;\n",
       "    }\n",
       "</style>\n",
       "<table border=\"1\" class=\"dataframe\">\n",
       "  <thead>\n",
       "    <tr style=\"text-align: right;\">\n",
       "      <th></th>\n",
       "      <th>tconst</th>\n",
       "      <th>primary_title</th>\n",
       "      <th>original_title</th>\n",
       "      <th>start_year</th>\n",
       "      <th>runtime_minutes</th>\n",
       "      <th>genres</th>\n",
       "    </tr>\n",
       "  </thead>\n",
       "  <tbody>\n",
       "    <tr>\n",
       "      <th>0</th>\n",
       "      <td>tt0063540</td>\n",
       "      <td>Sunghursh</td>\n",
       "      <td>Sunghursh</td>\n",
       "      <td>2013</td>\n",
       "      <td>175.00</td>\n",
       "      <td>Action,Crime,Drama</td>\n",
       "    </tr>\n",
       "    <tr>\n",
       "      <th>1</th>\n",
       "      <td>tt0066787</td>\n",
       "      <td>One Day Before the Rainy Season</td>\n",
       "      <td>Ashad Ka Ek Din</td>\n",
       "      <td>2019</td>\n",
       "      <td>114.00</td>\n",
       "      <td>Biography,Drama</td>\n",
       "    </tr>\n",
       "    <tr>\n",
       "      <th>2</th>\n",
       "      <td>tt0069049</td>\n",
       "      <td>The Other Side of the Wind</td>\n",
       "      <td>The Other Side of the Wind</td>\n",
       "      <td>2018</td>\n",
       "      <td>122.00</td>\n",
       "      <td>Drama</td>\n",
       "    </tr>\n",
       "    <tr>\n",
       "      <th>3</th>\n",
       "      <td>tt0069204</td>\n",
       "      <td>Sabse Bada Sukh</td>\n",
       "      <td>Sabse Bada Sukh</td>\n",
       "      <td>2018</td>\n",
       "      <td>nan</td>\n",
       "      <td>Comedy,Drama</td>\n",
       "    </tr>\n",
       "    <tr>\n",
       "      <th>4</th>\n",
       "      <td>tt0100275</td>\n",
       "      <td>The Wandering Soap Opera</td>\n",
       "      <td>La Telenovela Errante</td>\n",
       "      <td>2017</td>\n",
       "      <td>80.00</td>\n",
       "      <td>Comedy,Drama,Fantasy</td>\n",
       "    </tr>\n",
       "  </tbody>\n",
       "</table>\n",
       "</div>"
      ],
      "text/plain": [
       "      tconst                    primary_title              original_title  \\\n",
       "0  tt0063540                        Sunghursh                   Sunghursh   \n",
       "1  tt0066787  One Day Before the Rainy Season             Ashad Ka Ek Din   \n",
       "2  tt0069049       The Other Side of the Wind  The Other Side of the Wind   \n",
       "3  tt0069204                  Sabse Bada Sukh             Sabse Bada Sukh   \n",
       "4  tt0100275         The Wandering Soap Opera       La Telenovela Errante   \n",
       "\n",
       "   start_year  runtime_minutes                genres  \n",
       "0        2013           175.00    Action,Crime,Drama  \n",
       "1        2019           114.00       Biography,Drama  \n",
       "2        2018           122.00                 Drama  \n",
       "3        2018              nan          Comedy,Drama  \n",
       "4        2017            80.00  Comedy,Drama,Fantasy  "
      ]
     },
     "execution_count": 55,
     "metadata": {},
     "output_type": "execute_result"
    }
   ],
   "source": [
    "imdb_titles_df = pd.read_csv('./zippedData/imdb.title.basics.csv.gz')\n",
    "imdb_titles_df.head()"
   ]
  },
  {
   "cell_type": "markdown",
   "metadata": {},
   "source": [
    "Check for duplicates in the data"
   ]
  },
  {
   "cell_type": "code",
   "execution_count": 56,
   "metadata": {},
   "outputs": [
    {
     "name": "stdout",
     "output_type": "stream",
     "text": [
      "0\n"
     ]
    }
   ],
   "source": [
    "imdb_titles_dups = imdb_titles_df[imdb_titles_df.duplicated()]\n",
    "print(len(imdb_titles_dups))"
   ]
  },
  {
   "cell_type": "code",
   "execution_count": 75,
   "metadata": {},
   "outputs": [
    {
     "name": "stdout",
     "output_type": "stream",
     "text": [
      "0\n"
     ]
    }
   ],
   "source": [
    "imdb_titles_tscont_dups = imdb_titles_df[imdb_titles_df.duplicated(['tconst'])]\n",
    "print(len(imdb_titles_tscont_dups))"
   ]
  },
  {
   "cell_type": "code",
   "execution_count": 76,
   "metadata": {},
   "outputs": [
    {
     "name": "stdout",
     "output_type": "stream",
     "text": [
      "<class 'pandas.core.frame.DataFrame'>\n",
      "RangeIndex: 146144 entries, 0 to 146143\n",
      "Data columns (total 6 columns):\n",
      " #   Column           Non-Null Count   Dtype  \n",
      "---  ------           --------------   -----  \n",
      " 0   tconst           146144 non-null  object \n",
      " 1   primary_title    146144 non-null  object \n",
      " 2   original_title   146123 non-null  object \n",
      " 3   start_year       146144 non-null  int64  \n",
      " 4   runtime_minutes  114405 non-null  float64\n",
      " 5   genres           140736 non-null  object \n",
      "dtypes: float64(1), int64(1), object(4)\n",
      "memory usage: 6.7+ MB\n",
      "None\n"
     ]
    }
   ],
   "source": [
    "print(imdb_titles_df.info())"
   ]
  },
  {
   "cell_type": "code",
   "execution_count": 77,
   "metadata": {},
   "outputs": [
    {
     "data": {
      "text/plain": [
       "str"
      ]
     },
     "execution_count": 77,
     "metadata": {},
     "output_type": "execute_result"
    }
   ],
   "source": [
    "type(imdb_titles_df.iloc[:, 5][1]) #genres data type -- a comma-delimited string"
   ]
  },
  {
   "cell_type": "markdown",
   "metadata": {},
   "source": [
    "title.basics.csv has 146,144 records\n",
    "\n",
    "140,736 of 145,144 records have NaN for genres.  \n",
    "\n",
    "The genres col is a comma-delimited string and I might flatten the data on genre.  "
   ]
  },
  {
   "cell_type": "code",
   "execution_count": 78,
   "metadata": {},
   "outputs": [
    {
     "data": {
      "text/html": [
       "<div>\n",
       "<style scoped>\n",
       "    .dataframe tbody tr th:only-of-type {\n",
       "        vertical-align: middle;\n",
       "    }\n",
       "\n",
       "    .dataframe tbody tr th {\n",
       "        vertical-align: top;\n",
       "    }\n",
       "\n",
       "    .dataframe thead th {\n",
       "        text-align: right;\n",
       "    }\n",
       "</style>\n",
       "<table border=\"1\" class=\"dataframe\">\n",
       "  <thead>\n",
       "    <tr style=\"text-align: right;\">\n",
       "      <th></th>\n",
       "      <th>tconst</th>\n",
       "      <th>averagerating</th>\n",
       "      <th>numvotes</th>\n",
       "    </tr>\n",
       "  </thead>\n",
       "  <tbody>\n",
       "    <tr>\n",
       "      <th>0</th>\n",
       "      <td>tt10356526</td>\n",
       "      <td>8.30</td>\n",
       "      <td>31</td>\n",
       "    </tr>\n",
       "    <tr>\n",
       "      <th>1</th>\n",
       "      <td>tt10384606</td>\n",
       "      <td>8.90</td>\n",
       "      <td>559</td>\n",
       "    </tr>\n",
       "    <tr>\n",
       "      <th>2</th>\n",
       "      <td>tt1042974</td>\n",
       "      <td>6.40</td>\n",
       "      <td>20</td>\n",
       "    </tr>\n",
       "    <tr>\n",
       "      <th>3</th>\n",
       "      <td>tt1043726</td>\n",
       "      <td>4.20</td>\n",
       "      <td>50352</td>\n",
       "    </tr>\n",
       "    <tr>\n",
       "      <th>4</th>\n",
       "      <td>tt1060240</td>\n",
       "      <td>6.50</td>\n",
       "      <td>21</td>\n",
       "    </tr>\n",
       "  </tbody>\n",
       "</table>\n",
       "</div>"
      ],
      "text/plain": [
       "       tconst  averagerating  numvotes\n",
       "0  tt10356526           8.30        31\n",
       "1  tt10384606           8.90       559\n",
       "2   tt1042974           6.40        20\n",
       "3   tt1043726           4.20     50352\n",
       "4   tt1060240           6.50        21"
      ]
     },
     "execution_count": 78,
     "metadata": {},
     "output_type": "execute_result"
    }
   ],
   "source": [
    "imdb_ratings_df = pd.read_csv('./zippedData/imdb.title.ratings.csv.gz')\n",
    "imdb_ratings_df.head()"
   ]
  },
  {
   "cell_type": "markdown",
   "metadata": {},
   "source": [
    "Check for duplicates in the data"
   ]
  },
  {
   "cell_type": "code",
   "execution_count": 79,
   "metadata": {},
   "outputs": [
    {
     "name": "stdout",
     "output_type": "stream",
     "text": [
      "0\n"
     ]
    }
   ],
   "source": [
    "imdb_ratings_dups = imdb_ratings_df[imdb_ratings_df.duplicated()]\n",
    "print(len(imdb_ratings_dups))"
   ]
  },
  {
   "cell_type": "code",
   "execution_count": 80,
   "metadata": {},
   "outputs": [
    {
     "name": "stdout",
     "output_type": "stream",
     "text": [
      "0\n"
     ]
    }
   ],
   "source": [
    "imdb_ratings_tscont_dups = imdb_ratings_df[imdb_ratings_df.duplicated(['tconst'])]\n",
    "print(len(imdb_ratings_tscont_dups))"
   ]
  },
  {
   "cell_type": "code",
   "execution_count": 81,
   "metadata": {},
   "outputs": [
    {
     "name": "stdout",
     "output_type": "stream",
     "text": [
      "<class 'pandas.core.frame.DataFrame'>\n",
      "RangeIndex: 73856 entries, 0 to 73855\n",
      "Data columns (total 3 columns):\n",
      " #   Column         Non-Null Count  Dtype  \n",
      "---  ------         --------------  -----  \n",
      " 0   tconst         73856 non-null  object \n",
      " 1   averagerating  73856 non-null  float64\n",
      " 2   numvotes       73856 non-null  int64  \n",
      "dtypes: float64(1), int64(1), object(1)\n",
      "memory usage: 1.7+ MB\n",
      "None\n"
     ]
    }
   ],
   "source": [
    "print(imdb_ratings_df.info())"
   ]
  },
  {
   "cell_type": "markdown",
   "metadata": {},
   "source": [
    "title.ratings.csv has 73,856 records. \n",
    "\n",
    "There are no NaNs. \n",
    "\n",
    "The averagerating and num votes are numeric values. \n",
    "\n",
    "Consider assiging some weight to numvotes."
   ]
  },
  {
   "cell_type": "markdown",
   "metadata": {},
   "source": [
    "Combining the two data frames on the tconst column means that 73,856 joined/merged records will be available after an inner join. "
   ]
  },
  {
   "cell_type": "code",
   "execution_count": 82,
   "metadata": {},
   "outputs": [
    {
     "data": {
      "text/html": [
       "<div>\n",
       "<style scoped>\n",
       "    .dataframe tbody tr th:only-of-type {\n",
       "        vertical-align: middle;\n",
       "    }\n",
       "\n",
       "    .dataframe tbody tr th {\n",
       "        vertical-align: top;\n",
       "    }\n",
       "\n",
       "    .dataframe thead th {\n",
       "        text-align: right;\n",
       "    }\n",
       "</style>\n",
       "<table border=\"1\" class=\"dataframe\">\n",
       "  <thead>\n",
       "    <tr style=\"text-align: right;\">\n",
       "      <th></th>\n",
       "      <th>tconst</th>\n",
       "      <th>primary_title</th>\n",
       "      <th>original_title</th>\n",
       "      <th>start_year</th>\n",
       "      <th>runtime_minutes</th>\n",
       "      <th>genres</th>\n",
       "      <th>averagerating</th>\n",
       "      <th>numvotes</th>\n",
       "    </tr>\n",
       "  </thead>\n",
       "  <tbody>\n",
       "    <tr>\n",
       "      <th>0</th>\n",
       "      <td>tt0063540</td>\n",
       "      <td>Sunghursh</td>\n",
       "      <td>Sunghursh</td>\n",
       "      <td>2013</td>\n",
       "      <td>175.00</td>\n",
       "      <td>Action,Crime,Drama</td>\n",
       "      <td>7.00</td>\n",
       "      <td>77</td>\n",
       "    </tr>\n",
       "    <tr>\n",
       "      <th>1</th>\n",
       "      <td>tt0066787</td>\n",
       "      <td>One Day Before the Rainy Season</td>\n",
       "      <td>Ashad Ka Ek Din</td>\n",
       "      <td>2019</td>\n",
       "      <td>114.00</td>\n",
       "      <td>Biography,Drama</td>\n",
       "      <td>7.20</td>\n",
       "      <td>43</td>\n",
       "    </tr>\n",
       "    <tr>\n",
       "      <th>2</th>\n",
       "      <td>tt0069049</td>\n",
       "      <td>The Other Side of the Wind</td>\n",
       "      <td>The Other Side of the Wind</td>\n",
       "      <td>2018</td>\n",
       "      <td>122.00</td>\n",
       "      <td>Drama</td>\n",
       "      <td>6.90</td>\n",
       "      <td>4517</td>\n",
       "    </tr>\n",
       "    <tr>\n",
       "      <th>3</th>\n",
       "      <td>tt0069204</td>\n",
       "      <td>Sabse Bada Sukh</td>\n",
       "      <td>Sabse Bada Sukh</td>\n",
       "      <td>2018</td>\n",
       "      <td>nan</td>\n",
       "      <td>Comedy,Drama</td>\n",
       "      <td>6.10</td>\n",
       "      <td>13</td>\n",
       "    </tr>\n",
       "    <tr>\n",
       "      <th>4</th>\n",
       "      <td>tt0100275</td>\n",
       "      <td>The Wandering Soap Opera</td>\n",
       "      <td>La Telenovela Errante</td>\n",
       "      <td>2017</td>\n",
       "      <td>80.00</td>\n",
       "      <td>Comedy,Drama,Fantasy</td>\n",
       "      <td>6.50</td>\n",
       "      <td>119</td>\n",
       "    </tr>\n",
       "  </tbody>\n",
       "</table>\n",
       "</div>"
      ],
      "text/plain": [
       "      tconst                    primary_title              original_title  \\\n",
       "0  tt0063540                        Sunghursh                   Sunghursh   \n",
       "1  tt0066787  One Day Before the Rainy Season             Ashad Ka Ek Din   \n",
       "2  tt0069049       The Other Side of the Wind  The Other Side of the Wind   \n",
       "3  tt0069204                  Sabse Bada Sukh             Sabse Bada Sukh   \n",
       "4  tt0100275         The Wandering Soap Opera       La Telenovela Errante   \n",
       "\n",
       "   start_year  runtime_minutes                genres  averagerating  numvotes  \n",
       "0        2013           175.00    Action,Crime,Drama           7.00        77  \n",
       "1        2019           114.00       Biography,Drama           7.20        43  \n",
       "2        2018           122.00                 Drama           6.90      4517  \n",
       "3        2018              nan          Comedy,Drama           6.10        13  \n",
       "4        2017            80.00  Comedy,Drama,Fantasy           6.50       119  "
      ]
     },
     "execution_count": 82,
     "metadata": {},
     "output_type": "execute_result"
    }
   ],
   "source": [
    "imdb_rated_titles_df = pd.merge(imdb_titles_df, imdb_ratings_df)\n",
    "imdb_rated_titles_df.head()"
   ]
  },
  {
   "cell_type": "code",
   "execution_count": 83,
   "metadata": {},
   "outputs": [
    {
     "name": "stdout",
     "output_type": "stream",
     "text": [
      "<class 'pandas.core.frame.DataFrame'>\n",
      "Int64Index: 73856 entries, 0 to 73855\n",
      "Data columns (total 8 columns):\n",
      " #   Column           Non-Null Count  Dtype  \n",
      "---  ------           --------------  -----  \n",
      " 0   tconst           73856 non-null  object \n",
      " 1   primary_title    73856 non-null  object \n",
      " 2   original_title   73856 non-null  object \n",
      " 3   start_year       73856 non-null  int64  \n",
      " 4   runtime_minutes  66236 non-null  float64\n",
      " 5   genres           73052 non-null  object \n",
      " 6   averagerating    73856 non-null  float64\n",
      " 7   numvotes         73856 non-null  int64  \n",
      "dtypes: float64(2), int64(2), object(4)\n",
      "memory usage: 5.1+ MB\n",
      "None\n",
      "       start_year  runtime_minutes  averagerating     numvotes\n",
      "count   73,856.00        66,236.00      73,856.00    73,856.00\n",
      "mean     2,014.28            94.65           6.33     3,523.66\n",
      "std          2.61           208.57           1.47    30,294.02\n",
      "min      2,010.00             3.00           1.00         5.00\n",
      "25%      2,012.00            81.00           5.50        14.00\n",
      "50%      2,014.00            91.00           6.50        49.00\n",
      "75%      2,016.00           104.00           7.40       282.00\n",
      "max      2,019.00        51,420.00          10.00 1,841,066.00\n"
     ]
    }
   ],
   "source": [
    "print(imdb_rated_titles_df.info())\n",
    "print(imdb_rated_titles_df.describe())"
   ]
  },
  {
   "cell_type": "markdown",
   "metadata": {},
   "source": [
    "There are multiple generes included in the genre column. Let's split them out to better use them."
   ]
  },
  {
   "cell_type": "code",
   "execution_count": 117,
   "metadata": {},
   "outputs": [
    {
     "data": {
      "text/plain": [
       "<pandas.core.groupby.generic.DataFrameGroupBy object at 0x7fb5399436d8>"
      ]
     },
     "execution_count": 117,
     "metadata": {},
     "output_type": "execute_result"
    }
   ],
   "source": [
    "\n"
   ]
  },
  {
   "cell_type": "code",
   "execution_count": 22,
   "metadata": {},
   "outputs": [
    {
     "name": "stdout",
     "output_type": "stream",
     "text": [
      "Average rating min: 1.0\n",
      "Average rating max: 10.0\n",
      "Average rating mean: 6.332728552859619\n",
      "Average rating median: 6.5\n"
     ]
    }
   ],
   "source": [
    "print(f'Average rating min: {imdb_rated_titles_df.averagerating.min()}')\n",
    "print(f'Average rating max: {imdb_rated_titles_df.averagerating.max()}')\n",
    "print(f'Average rating mean: {imdb_rated_titles_df.averagerating.mean()}')\n",
    "print(f'Average rating median: {imdb_rated_titles_df.averagerating.median()}')"
   ]
  },
  {
   "cell_type": "code",
   "execution_count": 123,
   "metadata": {},
   "outputs": [
    {
     "data": {
      "text/plain": [
       "Text(0.5, 1.0, 'Average Rating by Frequency Counts for All Movies')"
      ]
     },
     "execution_count": 123,
     "metadata": {},
     "output_type": "execute_result"
    },
    {
     "data": {
      "image/png": "[encoded data removed]",
      "text/plain": [
       "<Figure size 720x360 with 1 Axes>"
      ]
     },
     "metadata": {},
     "output_type": "display_data"
    }
   ],
   "source": [
    "fig, ax = plt.subplots(figsize = (10, 5))\n",
    "\n",
    "# Set the scale of the y-axes\n",
    "sns.distplot(imdb_rated_titles_df['averagerating'])\n",
    "plt.xlabel('Average Rating')\n",
    "plt.ylabel('Counts')\n",
    "plt.title('Average Rating by Frequency Counts for All Movies')"
   ]
  },
  {
   "cell_type": "code",
   "execution_count": 121,
   "metadata": {},
   "outputs": [
    {
     "data": {
      "text/plain": [
       "Text(0.5, 1.0, 'Average Rating by Frequency Counts for All Movies')"
      ]
     },
     "execution_count": 121,
     "metadata": {},
     "output_type": "execute_result"
    },
    {
     "data": {
      "image/png": "[encoded data removed]",
      "text/plain": [
       "<Figure size 720x360 with 1 Axes>"
      ]
     },
     "metadata": {},
     "output_type": "display_data"
    }
   ],
   "source": [
    "sns.set() # make it even prettier\n",
    "plt.figure(figsize = (10, 5))\n",
    "sns.boxplot(data = imdb_rated_titles_df, x = 'averagerating')\n",
    "plt.title('Average Rating by Frequency Counts for All Movies')"
   ]
  },
  {
   "cell_type": "code",
   "execution_count": 11,
   "metadata": {},
   "outputs": [
    {
     "name": "stdout",
     "output_type": "stream",
     "text": [
      "# votes min: 5\n",
      "# votes max: 1841066\n",
      "# votes mean: 3523.6621669194105\n",
      "# votes mean rounded: 3523.66\n",
      "# votes median: 49.0\n"
     ]
    }
   ],
   "source": [
    "print(f'# votes min: {imdb_rated_titles_df.numvotes.min()}')\n",
    "print(f'# votes max: {imdb_rated_titles_df.numvotes.max()}')\n",
    "print(f'# votes mean: {imdb_rated_titles_df.numvotes.mean()}')\n",
    "print(f'# votes mean rounded: {imdb_rated_titles_df.numvotes.mean().round(2)}')\n",
    "print(f'# votes median: {imdb_rated_titles_df.numvotes.median()}')"
   ]
  },
  {
   "cell_type": "code",
   "execution_count": 128,
   "metadata": {},
   "outputs": [
    {
     "data": {
      "text/plain": [
       "Text(0.5, 1.0, 'Number of Votes by Frequency Counts for All Movies')"
      ]
     },
     "execution_count": 128,
     "metadata": {},
     "output_type": "execute_result"
    },
    {
     "data": {
      "image/png": "[encoded data removed]",
      "text/plain": [
       "<Figure size 720x360 with 1 Axes>"
      ]
     },
     "metadata": {},
     "output_type": "display_data"
    }
   ],
   "source": [
    "fig, ax = plt.subplots(figsize = (10, 5))\n",
    "\n",
    "# Set the scale of the y-axes\n",
    "sns.distplot(imdb_rated_titles_df['numvotes'])\n",
    "plt.xlabel('Number of Votes')\n",
    "plt.ylabel('Counts')\n",
    "\n",
    "plt.title('Number of Votes by Frequency Counts for All Movies')"
   ]
  },
  {
   "cell_type": "code",
   "execution_count": 119,
   "metadata": {},
   "outputs": [
    {
     "data": {
      "text/plain": [
       "<AxesSubplot:xlabel='numvotes'>"
      ]
     },
     "execution_count": 119,
     "metadata": {},
     "output_type": "execute_result"
    },
    {
     "data": {
      "image/png": "[encoded data removed]",
      "text/plain": [
       "<Figure size 1440x360 with 1 Axes>"
      ]
     },
     "metadata": {},
     "output_type": "display_data"
    }
   ],
   "source": [
    "sns.set() # make it even prettier\n",
    "plt.figure(figsize = (20, 5))\n",
    "sns.boxplot(data = imdb_rated_titles_df, x = 'numvotes')"
   ]
  },
  {
   "cell_type": "markdown",
   "metadata": {},
   "source": [
    "There exists a __broad__ range of numvotes. How should we handle this. A movie could be well rated but have a very small number of votes (i.e., well rated but not popular.)\n",
    "\n",
    "According to the IMDB website, when they rank the top 250 movies \"a movie must receive ratings from at least 25000 users\"  https://www.imdb.com/chart/top\n",
    "\n",
    "Also according to the IMDB website, they calculate the weighted rating for the Top 250 movies using the forumula:\n",
    "\n",
    "weighted rating (WR) = (v ÷ (v+m)) × R + (m ÷ (v+m)) × C\n",
    "\n",
    "Where:\n",
    "\n",
    "R = average for the movie (mean) = (rating)\n",
    "\n",
    "v = number of votes for the movie = (votes)\n",
    "\n",
    "m = minimum votes required to be listed in the Top Rated list (currently 25,000)\n",
    "\n",
    "C = the mean vote across the whole report (confusing wording...means the mean of all movie ratings for entire, un-thresholded dataset)\n",
    "\n",
    "While IMDB only includes theatric features, we will consider all entries in the dataset that have >=25,000 numvotes.\n",
    "\n",
    "https://help.imdb.com/article/imdb/track-movies-tv/ratings-faq/G67Y87TFYYP6TWAV?ref_=helpms_helpart_inline#weighted\n",
    "\n"
   ]
  },
  {
   "cell_type": "code",
   "execution_count": 88,
   "metadata": {},
   "outputs": [
    {
     "name": "stdout",
     "output_type": "stream",
     "text": [
      "<class 'pandas.core.frame.DataFrame'>\n",
      "Int64Index: 1623 entries, 41 to 73304\n",
      "Data columns (total 8 columns):\n",
      " #   Column           Non-Null Count  Dtype  \n",
      "---  ------           --------------  -----  \n",
      " 0   tconst           1623 non-null   object \n",
      " 1   primary_title    1623 non-null   object \n",
      " 2   original_title   1623 non-null   object \n",
      " 3   start_year       1623 non-null   int64  \n",
      " 4   runtime_minutes  1623 non-null   float64\n",
      " 5   genres           1623 non-null   object \n",
      " 6   averagerating    1623 non-null   float64\n",
      " 7   numvotes         1623 non-null   int64  \n",
      "dtypes: float64(2), int64(2), object(4)\n",
      "memory usage: 114.1+ KB\n",
      "None\n",
      "       start_year  runtime_minutes  averagerating     numvotes\n",
      "count    1,623.00         1,623.00       1,623.00     1,623.00\n",
      "mean     2,013.81           111.48           6.65   132,229.88\n",
      "std          2.55            19.00           0.92   156,914.60\n",
      "min      2,010.00            46.00           1.30    25,027.00\n",
      "25%      2,012.00            98.00           6.20    41,215.00\n",
      "50%      2,014.00           108.00           6.70    74,978.00\n",
      "75%      2,016.00           121.00           7.30   154,311.50\n",
      "max      2,019.00           321.00           9.30 1,841,066.00\n"
     ]
    }
   ],
   "source": [
    "thres_numvotes_df = imdb_rated_titles_df[imdb_rated_titles_df['numvotes'] >=25000]\n",
    "print(thres_numvotes_df.info())\n",
    "print(thres_numvotes_df.describe())"
   ]
  },
  {
   "cell_type": "code",
   "execution_count": 172,
   "metadata": {},
   "outputs": [
    {
     "data": {
      "text/plain": [
       "Text(0.5, 1.0, 'Number of Votes by  Counts for Top Rated Movies')"
      ]
     },
     "execution_count": 172,
     "metadata": {},
     "output_type": "execute_result"
    },
    {
     "data": {
      "image/png": "[encoded data removed]",
      "text/plain": [
       "<Figure size 720x360 with 1 Axes>"
      ]
     },
     "metadata": {},
     "output_type": "display_data"
    }
   ],
   "source": [
    "#now lets look at the distribution of numvotes now that we have applied IMDB's \"top rated\" numvote threashold.\n",
    "fig, ax = plt.subplots(figsize = (10, 5))\n",
    "\n",
    "# Set the scale of the y-axes\n",
    "sns.distplot(thres_numvotes_df['numvotes'])\n",
    "plt.xlabel('Number of Votes')\n",
    "plt.ylabel('Counts')\n",
    "\n",
    "plt.title('Number of Votes by  Counts for Top Rated Movies')"
   ]
  },
  {
   "cell_type": "code",
   "execution_count": 130,
   "metadata": {},
   "outputs": [
    {
     "data": {
      "text/plain": [
       "<AxesSubplot:xlabel='numvotes'>"
      ]
     },
     "execution_count": 130,
     "metadata": {},
     "output_type": "execute_result"
    },
    {
     "data": {
      "image/png": "[encoded data removed]",
      "text/plain": [
       "<Figure size 1440x360 with 1 Axes>"
      ]
     },
     "metadata": {},
     "output_type": "display_data"
    }
   ],
   "source": [
    "sns.set() # make it even prettier\n",
    "plt.figure(figsize = (20, 5))\n",
    "sns.boxplot(data = thres_numvotes_df, x = 'numvotes')"
   ]
  },
  {
   "cell_type": "markdown",
   "metadata": {},
   "source": [
    "Let's apply IMDB's weighted rating formula to the Top Rated movies."
   ]
  },
  {
   "cell_type": "code",
   "execution_count": 89,
   "metadata": {},
   "outputs": [
    {
     "name": "stderr",
     "output_type": "stream",
     "text": [
      "/home/user/anaconda3/envs/flatiron/lib/python3.6/site-packages/ipykernel_launcher.py:8: SettingWithCopyWarning: \n",
      "A value is trying to be set on a copy of a slice from a DataFrame.\n",
      "Try using .loc[row_indexer,col_indexer] = value instead\n",
      "\n",
      "See the caveats in the documentation: https://pandas.pydata.org/pandas-docs/stable/user_guide/indexing.html#returning-a-view-versus-a-copy\n",
      "  \n"
     ]
    }
   ],
   "source": [
    "def calc_weighted_rating(avg_rating, num_votes, min_votes_required, mean_vote_whole_report):\n",
    "    weighted_rating =  ((num_votes / (num_votes + min_votes_required)) * avg_rating) + ((min_votes_required/(num_votes + min_votes_required)) * mean_vote_whole_report)\n",
    "    return weighted_rating\n",
    "\n",
    "c_val = imdb_rated_titles_df.averagerating.mean().round(2)\n",
    "\n",
    "#You need DataFrame.apply with axis=1 for processing by rows\n",
    "thres_numvotes_df['weighted_rating'] = thres_numvotes_df.apply(lambda x: calc_weighted_rating(x['averagerating'], x['numvotes'], 25000, c_val), axis=1)\n",
    "                                                                      "
   ]
  },
  {
   "cell_type": "code",
   "execution_count": 132,
   "metadata": {},
   "outputs": [
    {
     "data": {
      "text/html": [
       "<div>\n",
       "<style scoped>\n",
       "    .dataframe tbody tr th:only-of-type {\n",
       "        vertical-align: middle;\n",
       "    }\n",
       "\n",
       "    .dataframe tbody tr th {\n",
       "        vertical-align: top;\n",
       "    }\n",
       "\n",
       "    .dataframe thead th {\n",
       "        text-align: right;\n",
       "    }\n",
       "</style>\n",
       "<table border=\"1\" class=\"dataframe\">\n",
       "  <thead>\n",
       "    <tr style=\"text-align: right;\">\n",
       "      <th></th>\n",
       "      <th>tconst</th>\n",
       "      <th>primary_title</th>\n",
       "      <th>original_title</th>\n",
       "      <th>start_year</th>\n",
       "      <th>runtime_minutes</th>\n",
       "      <th>genres</th>\n",
       "      <th>averagerating</th>\n",
       "      <th>numvotes</th>\n",
       "      <th>weighted_rating</th>\n",
       "    </tr>\n",
       "  </thead>\n",
       "  <tbody>\n",
       "    <tr>\n",
       "      <th>41</th>\n",
       "      <td>tt0337692</td>\n",
       "      <td>On the Road</td>\n",
       "      <td>On the Road</td>\n",
       "      <td>2012</td>\n",
       "      <td>124.00</td>\n",
       "      <td>Adventure,Drama,Romance</td>\n",
       "      <td>6.10</td>\n",
       "      <td>37886</td>\n",
       "      <td>6.19</td>\n",
       "    </tr>\n",
       "    <tr>\n",
       "      <th>47</th>\n",
       "      <td>tt0359950</td>\n",
       "      <td>The Secret Life of Walter Mitty</td>\n",
       "      <td>The Secret Life of Walter Mitty</td>\n",
       "      <td>2013</td>\n",
       "      <td>114.00</td>\n",
       "      <td>Adventure,Comedy,Drama</td>\n",
       "      <td>7.30</td>\n",
       "      <td>275300</td>\n",
       "      <td>7.22</td>\n",
       "    </tr>\n",
       "    <tr>\n",
       "      <th>51</th>\n",
       "      <td>tt0365907</td>\n",
       "      <td>A Walk Among the Tombstones</td>\n",
       "      <td>A Walk Among the Tombstones</td>\n",
       "      <td>2014</td>\n",
       "      <td>114.00</td>\n",
       "      <td>Action,Crime,Drama</td>\n",
       "      <td>6.50</td>\n",
       "      <td>105116</td>\n",
       "      <td>6.47</td>\n",
       "    </tr>\n",
       "    <tr>\n",
       "      <th>52</th>\n",
       "      <td>tt0369610</td>\n",
       "      <td>Jurassic World</td>\n",
       "      <td>Jurassic World</td>\n",
       "      <td>2015</td>\n",
       "      <td>124.00</td>\n",
       "      <td>Action,Adventure,Sci-Fi</td>\n",
       "      <td>7.00</td>\n",
       "      <td>539338</td>\n",
       "      <td>6.97</td>\n",
       "    </tr>\n",
       "    <tr>\n",
       "      <th>54</th>\n",
       "      <td>tt0376136</td>\n",
       "      <td>The Rum Diary</td>\n",
       "      <td>The Rum Diary</td>\n",
       "      <td>2011</td>\n",
       "      <td>119.00</td>\n",
       "      <td>Comedy,Drama</td>\n",
       "      <td>6.20</td>\n",
       "      <td>94787</td>\n",
       "      <td>6.23</td>\n",
       "    </tr>\n",
       "  </tbody>\n",
       "</table>\n",
       "</div>"
      ],
      "text/plain": [
       "       tconst                    primary_title  \\\n",
       "41  tt0337692                      On the Road   \n",
       "47  tt0359950  The Secret Life of Walter Mitty   \n",
       "51  tt0365907      A Walk Among the Tombstones   \n",
       "52  tt0369610                   Jurassic World   \n",
       "54  tt0376136                    The Rum Diary   \n",
       "\n",
       "                     original_title  start_year  runtime_minutes  \\\n",
       "41                      On the Road        2012           124.00   \n",
       "47  The Secret Life of Walter Mitty        2013           114.00   \n",
       "51      A Walk Among the Tombstones        2014           114.00   \n",
       "52                   Jurassic World        2015           124.00   \n",
       "54                    The Rum Diary        2011           119.00   \n",
       "\n",
       "                     genres  averagerating  numvotes  weighted_rating  \n",
       "41  Adventure,Drama,Romance           6.10     37886             6.19  \n",
       "47   Adventure,Comedy,Drama           7.30    275300             7.22  \n",
       "51       Action,Crime,Drama           6.50    105116             6.47  \n",
       "52  Action,Adventure,Sci-Fi           7.00    539338             6.97  \n",
       "54             Comedy,Drama           6.20     94787             6.23  "
      ]
     },
     "execution_count": 132,
     "metadata": {},
     "output_type": "execute_result"
    }
   ],
   "source": [
    "thres_numvotes_df.head()"
   ]
  },
  {
   "cell_type": "code",
   "execution_count": 133,
   "metadata": {},
   "outputs": [
    {
     "name": "stdout",
     "output_type": "stream",
     "text": [
      "       start_year  runtime_minutes  averagerating     numvotes  \\\n",
      "count    1,623.00         1,623.00       1,623.00     1,623.00   \n",
      "mean     2,013.81           111.48           6.65   132,229.88   \n",
      "std          2.55            19.00           0.92   156,914.60   \n",
      "min      2,010.00            46.00           1.30    25,027.00   \n",
      "25%      2,012.00            98.00           6.20    41,215.00   \n",
      "50%      2,014.00           108.00           6.70    74,978.00   \n",
      "75%      2,016.00           121.00           7.30   154,311.50   \n",
      "max      2,019.00           321.00           9.30 1,841,066.00   \n",
      "\n",
      "       weighted_rating  \n",
      "count         1,623.00  \n",
      "mean              6.60  \n",
      "std               0.69  \n",
      "min               2.78  \n",
      "25%               6.21  \n",
      "50%               6.58  \n",
      "75%               7.03  \n",
      "max               8.77  \n"
     ]
    }
   ],
   "source": [
    "print(thres_numvotes_df.describe())"
   ]
  },
  {
   "cell_type": "code",
   "execution_count": 173,
   "metadata": {},
   "outputs": [
    {
     "data": {
      "text/plain": [
       "Text(0.5, 1.0, 'Weighted Rating by Counts for Popular Movies')"
      ]
     },
     "execution_count": 173,
     "metadata": {},
     "output_type": "execute_result"
    },
    {
     "data": {
      "image/png": "[encoded data removed]",
      "text/plain": [
       "<Figure size 720x360 with 1 Axes>"
      ]
     },
     "metadata": {},
     "output_type": "display_data"
    }
   ],
   "source": [
    "# Initialize figure and ax\n",
    "fig, ax = plt.subplots(figsize = (10, 5))\n",
    "\n",
    "# Set the scale of the y-axes\n",
    "#ax.set(yscale='log')\n",
    "sns.distplot(thres_numvotes_df['weighted_rating'])\n",
    "plt.xlabel('Weighted Rating')\n",
    "plt.ylabel('Counts')\n",
    "plt.title('Weighted Rating by Counts for Popular Movies')"
   ]
  },
  {
   "cell_type": "code",
   "execution_count": 174,
   "metadata": {},
   "outputs": [
    {
     "data": {
      "text/plain": [
       "<AxesSubplot:xlabel='weighted_rating'>"
      ]
     },
     "execution_count": 174,
     "metadata": {},
     "output_type": "execute_result"
    },
    {
     "data": {
      "image/png": "[encoded data removed]",
      "text/plain": [
       "<Figure size 1440x360 with 1 Axes>"
      ]
     },
     "metadata": {},
     "output_type": "display_data"
    }
   ],
   "source": [
    "sns.set() # make it even prettier\n",
    "plt.figure(figsize = (20, 5))\n",
    "sns.boxplot(data = thres_numvotes_df, x = 'weighted_rating')"
   ]
  },
  {
   "cell_type": "markdown",
   "metadata": {},
   "source": [
    "Let's merge in the data from Box Office Mojo that includes both domestic and foreign gross box-office revenue. Merging the two dataframes on title (IMDB's primary_title and BOM's title). We are only bringing in the BOM records thave have domestic and foreign gross."
   ]
  },
  {
   "cell_type": "code",
   "execution_count": 134,
   "metadata": {},
   "outputs": [
    {
     "data": {
      "text/html": [
       "<div>\n",
       "<style scoped>\n",
       "    .dataframe tbody tr th:only-of-type {\n",
       "        vertical-align: middle;\n",
       "    }\n",
       "\n",
       "    .dataframe tbody tr th {\n",
       "        vertical-align: top;\n",
       "    }\n",
       "\n",
       "    .dataframe thead th {\n",
       "        text-align: right;\n",
       "    }\n",
       "</style>\n",
       "<table border=\"1\" class=\"dataframe\">\n",
       "  <thead>\n",
       "    <tr style=\"text-align: right;\">\n",
       "      <th></th>\n",
       "      <th>title</th>\n",
       "      <th>studio</th>\n",
       "      <th>domestic_gross</th>\n",
       "      <th>foreign_gross</th>\n",
       "      <th>year</th>\n",
       "      <th>worldwide_gross</th>\n",
       "    </tr>\n",
       "  </thead>\n",
       "  <tbody>\n",
       "    <tr>\n",
       "      <th>0</th>\n",
       "      <td>Toy Story 3</td>\n",
       "      <td>BV</td>\n",
       "      <td>415,000,000.00</td>\n",
       "      <td>652,000,000.00</td>\n",
       "      <td>2010</td>\n",
       "      <td>1,067,000,000.00</td>\n",
       "    </tr>\n",
       "    <tr>\n",
       "      <th>1</th>\n",
       "      <td>Alice in Wonderland (2010)</td>\n",
       "      <td>BV</td>\n",
       "      <td>334,200,000.00</td>\n",
       "      <td>691,300,000.00</td>\n",
       "      <td>2010</td>\n",
       "      <td>1,025,500,000.00</td>\n",
       "    </tr>\n",
       "    <tr>\n",
       "      <th>2</th>\n",
       "      <td>Harry Potter and the Deathly Hallows Part 1</td>\n",
       "      <td>WB</td>\n",
       "      <td>296,000,000.00</td>\n",
       "      <td>664,300,000.00</td>\n",
       "      <td>2010</td>\n",
       "      <td>960,300,000.00</td>\n",
       "    </tr>\n",
       "    <tr>\n",
       "      <th>3</th>\n",
       "      <td>Inception</td>\n",
       "      <td>WB</td>\n",
       "      <td>292,600,000.00</td>\n",
       "      <td>535,700,000.00</td>\n",
       "      <td>2010</td>\n",
       "      <td>828,300,000.00</td>\n",
       "    </tr>\n",
       "    <tr>\n",
       "      <th>4</th>\n",
       "      <td>Shrek Forever After</td>\n",
       "      <td>P/DW</td>\n",
       "      <td>238,700,000.00</td>\n",
       "      <td>513,900,000.00</td>\n",
       "      <td>2010</td>\n",
       "      <td>752,600,000.00</td>\n",
       "    </tr>\n",
       "  </tbody>\n",
       "</table>\n",
       "</div>"
      ],
      "text/plain": [
       "                                         title studio  domestic_gross  \\\n",
       "0                                  Toy Story 3     BV  415,000,000.00   \n",
       "1                   Alice in Wonderland (2010)     BV  334,200,000.00   \n",
       "2  Harry Potter and the Deathly Hallows Part 1     WB  296,000,000.00   \n",
       "3                                    Inception     WB  292,600,000.00   \n",
       "4                          Shrek Forever After   P/DW  238,700,000.00   \n",
       "\n",
       "   foreign_gross  year  worldwide_gross  \n",
       "0 652,000,000.00  2010 1,067,000,000.00  \n",
       "1 691,300,000.00  2010 1,025,500,000.00  \n",
       "2 664,300,000.00  2010   960,300,000.00  \n",
       "3 535,700,000.00  2010   828,300,000.00  \n",
       "4 513,900,000.00  2010   752,600,000.00  "
      ]
     },
     "execution_count": 134,
     "metadata": {},
     "output_type": "execute_result"
    }
   ],
   "source": [
    "bom_wwgross_df = pd.read_csv('./cleanedData/bom.worldwide_gross.csv')\n",
    "bom_wwgross_df.head()"
   ]
  },
  {
   "cell_type": "code",
   "execution_count": 140,
   "metadata": {},
   "outputs": [
    {
     "name": "stdout",
     "output_type": "stream",
     "text": [
      "<class 'pandas.core.frame.DataFrame'>\n",
      "RangeIndex: 2009 entries, 0 to 2008\n",
      "Data columns (total 6 columns):\n",
      " #   Column           Non-Null Count  Dtype  \n",
      "---  ------           --------------  -----  \n",
      " 0   title            2009 non-null   object \n",
      " 1   studio           2009 non-null   object \n",
      " 2   domestic_gross   2009 non-null   float64\n",
      " 3   foreign_gross    2009 non-null   float64\n",
      " 4   year             2009 non-null   int64  \n",
      " 5   worldwide_gross  2009 non-null   float64\n",
      "dtypes: float64(3), int64(1), object(2)\n",
      "memory usage: 94.3+ KB\n",
      "None\n"
     ]
    }
   ],
   "source": [
    "print(bom_wwgross_df.info())"
   ]
  },
  {
   "cell_type": "code",
   "execution_count": 143,
   "metadata": {},
   "outputs": [
    {
     "name": "stdout",
     "output_type": "stream",
     "text": [
      "<class 'pandas.core.frame.DataFrame'>\n",
      "RangeIndex: 2009 entries, 0 to 2008\n",
      "Data columns (total 6 columns):\n",
      " #   Column           Non-Null Count  Dtype  \n",
      "---  ------           --------------  -----  \n",
      " 0   primary_title    2009 non-null   object \n",
      " 1   studio           2009 non-null   object \n",
      " 2   domestic_gross   2009 non-null   float64\n",
      " 3   foreign_gross    2009 non-null   float64\n",
      " 4   year             2009 non-null   int64  \n",
      " 5   worldwide_gross  2009 non-null   float64\n",
      "dtypes: float64(3), int64(1), object(2)\n",
      "memory usage: 94.3+ KB\n",
      "None\n"
     ]
    }
   ],
   "source": [
    "# performing an inner join on the movie title columns of the two dataframes \n",
    "# rename the BOM title to primary_title to make the join simpler\n",
    "bom_wwgross_df.rename(columns={\"title\": \"primary_title\"}, inplace=True)\n",
    "print(bom_wwgross_df.info())"
   ]
  },
  {
   "cell_type": "code",
   "execution_count": 145,
   "metadata": {},
   "outputs": [
    {
     "data": {
      "text/html": [
       "<div>\n",
       "<style scoped>\n",
       "    .dataframe tbody tr th:only-of-type {\n",
       "        vertical-align: middle;\n",
       "    }\n",
       "\n",
       "    .dataframe tbody tr th {\n",
       "        vertical-align: top;\n",
       "    }\n",
       "\n",
       "    .dataframe thead th {\n",
       "        text-align: right;\n",
       "    }\n",
       "</style>\n",
       "<table border=\"1\" class=\"dataframe\">\n",
       "  <thead>\n",
       "    <tr style=\"text-align: right;\">\n",
       "      <th></th>\n",
       "      <th>tconst</th>\n",
       "      <th>primary_title</th>\n",
       "      <th>original_title</th>\n",
       "      <th>start_year</th>\n",
       "      <th>runtime_minutes</th>\n",
       "      <th>genres</th>\n",
       "      <th>averagerating</th>\n",
       "      <th>numvotes</th>\n",
       "      <th>weighted_rating</th>\n",
       "      <th>studio</th>\n",
       "      <th>domestic_gross</th>\n",
       "      <th>foreign_gross</th>\n",
       "      <th>year</th>\n",
       "      <th>worldwide_gross</th>\n",
       "    </tr>\n",
       "  </thead>\n",
       "  <tbody>\n",
       "    <tr>\n",
       "      <th>0</th>\n",
       "      <td>tt0337692</td>\n",
       "      <td>On the Road</td>\n",
       "      <td>On the Road</td>\n",
       "      <td>2012</td>\n",
       "      <td>124.00</td>\n",
       "      <td>Adventure,Drama,Romance</td>\n",
       "      <td>6.10</td>\n",
       "      <td>37886</td>\n",
       "      <td>6.19</td>\n",
       "      <td>IFC</td>\n",
       "      <td>744,000.00</td>\n",
       "      <td>8,000,000.00</td>\n",
       "      <td>2012</td>\n",
       "      <td>8,744,000.00</td>\n",
       "    </tr>\n",
       "    <tr>\n",
       "      <th>1</th>\n",
       "      <td>tt0359950</td>\n",
       "      <td>The Secret Life of Walter Mitty</td>\n",
       "      <td>The Secret Life of Walter Mitty</td>\n",
       "      <td>2013</td>\n",
       "      <td>114.00</td>\n",
       "      <td>Adventure,Comedy,Drama</td>\n",
       "      <td>7.30</td>\n",
       "      <td>275300</td>\n",
       "      <td>7.22</td>\n",
       "      <td>Fox</td>\n",
       "      <td>58,200,000.00</td>\n",
       "      <td>129,900,000.00</td>\n",
       "      <td>2013</td>\n",
       "      <td>188,100,000.00</td>\n",
       "    </tr>\n",
       "    <tr>\n",
       "      <th>2</th>\n",
       "      <td>tt0365907</td>\n",
       "      <td>A Walk Among the Tombstones</td>\n",
       "      <td>A Walk Among the Tombstones</td>\n",
       "      <td>2014</td>\n",
       "      <td>114.00</td>\n",
       "      <td>Action,Crime,Drama</td>\n",
       "      <td>6.50</td>\n",
       "      <td>105116</td>\n",
       "      <td>6.47</td>\n",
       "      <td>Uni.</td>\n",
       "      <td>26,300,000.00</td>\n",
       "      <td>26,900,000.00</td>\n",
       "      <td>2014</td>\n",
       "      <td>53,200,000.00</td>\n",
       "    </tr>\n",
       "    <tr>\n",
       "      <th>3</th>\n",
       "      <td>tt0369610</td>\n",
       "      <td>Jurassic World</td>\n",
       "      <td>Jurassic World</td>\n",
       "      <td>2015</td>\n",
       "      <td>124.00</td>\n",
       "      <td>Action,Adventure,Sci-Fi</td>\n",
       "      <td>7.00</td>\n",
       "      <td>539338</td>\n",
       "      <td>6.97</td>\n",
       "      <td>Uni.</td>\n",
       "      <td>652,300,000.00</td>\n",
       "      <td>1,019.40</td>\n",
       "      <td>2015</td>\n",
       "      <td>652,301,019.40</td>\n",
       "    </tr>\n",
       "    <tr>\n",
       "      <th>4</th>\n",
       "      <td>tt0376136</td>\n",
       "      <td>The Rum Diary</td>\n",
       "      <td>The Rum Diary</td>\n",
       "      <td>2011</td>\n",
       "      <td>119.00</td>\n",
       "      <td>Comedy,Drama</td>\n",
       "      <td>6.20</td>\n",
       "      <td>94787</td>\n",
       "      <td>6.23</td>\n",
       "      <td>FD</td>\n",
       "      <td>13,100,000.00</td>\n",
       "      <td>10,800,000.00</td>\n",
       "      <td>2011</td>\n",
       "      <td>23,900,000.00</td>\n",
       "    </tr>\n",
       "  </tbody>\n",
       "</table>\n",
       "</div>"
      ],
      "text/plain": [
       "      tconst                    primary_title  \\\n",
       "0  tt0337692                      On the Road   \n",
       "1  tt0359950  The Secret Life of Walter Mitty   \n",
       "2  tt0365907      A Walk Among the Tombstones   \n",
       "3  tt0369610                   Jurassic World   \n",
       "4  tt0376136                    The Rum Diary   \n",
       "\n",
       "                    original_title  start_year  runtime_minutes  \\\n",
       "0                      On the Road        2012           124.00   \n",
       "1  The Secret Life of Walter Mitty        2013           114.00   \n",
       "2      A Walk Among the Tombstones        2014           114.00   \n",
       "3                   Jurassic World        2015           124.00   \n",
       "4                    The Rum Diary        2011           119.00   \n",
       "\n",
       "                    genres  averagerating  numvotes  weighted_rating studio  \\\n",
       "0  Adventure,Drama,Romance           6.10     37886             6.19    IFC   \n",
       "1   Adventure,Comedy,Drama           7.30    275300             7.22    Fox   \n",
       "2       Action,Crime,Drama           6.50    105116             6.47   Uni.   \n",
       "3  Action,Adventure,Sci-Fi           7.00    539338             6.97   Uni.   \n",
       "4             Comedy,Drama           6.20     94787             6.23     FD   \n",
       "\n",
       "   domestic_gross  foreign_gross  year  worldwide_gross  \n",
       "0      744,000.00   8,000,000.00  2012     8,744,000.00  \n",
       "1   58,200,000.00 129,900,000.00  2013   188,100,000.00  \n",
       "2   26,300,000.00  26,900,000.00  2014    53,200,000.00  \n",
       "3  652,300,000.00       1,019.40  2015   652,301,019.40  \n",
       "4   13,100,000.00  10,800,000.00  2011    23,900,000.00  "
      ]
     },
     "execution_count": 145,
     "metadata": {},
     "output_type": "execute_result"
    }
   ],
   "source": [
    "# performing an inner join on the movie title columns of the two dataframes \n",
    "top_with_gross_df = pd.merge(thres_numvotes_df, bom_wwgross_df, on='primary_title')\n",
    "top_with_gross_df.head()"
   ]
  },
  {
   "cell_type": "code",
   "execution_count": 146,
   "metadata": {},
   "outputs": [
    {
     "name": "stdout",
     "output_type": "stream",
     "text": [
      "<class 'pandas.core.frame.DataFrame'>\n",
      "Int64Index: 1013 entries, 0 to 1012\n",
      "Data columns (total 14 columns):\n",
      " #   Column           Non-Null Count  Dtype  \n",
      "---  ------           --------------  -----  \n",
      " 0   tconst           1013 non-null   object \n",
      " 1   primary_title    1013 non-null   object \n",
      " 2   original_title   1013 non-null   object \n",
      " 3   start_year       1013 non-null   int64  \n",
      " 4   runtime_minutes  1013 non-null   float64\n",
      " 5   genres           1013 non-null   object \n",
      " 6   averagerating    1013 non-null   float64\n",
      " 7   numvotes         1013 non-null   int64  \n",
      " 8   weighted_rating  1013 non-null   float64\n",
      " 9   studio           1013 non-null   object \n",
      " 10  domestic_gross   1013 non-null   float64\n",
      " 11  foreign_gross    1013 non-null   float64\n",
      " 12  year             1013 non-null   int64  \n",
      " 13  worldwide_gross  1013 non-null   float64\n",
      "dtypes: float64(6), int64(3), object(5)\n",
      "memory usage: 118.7+ KB\n"
     ]
    }
   ],
   "source": [
    "top_with_gross_df.info()"
   ]
  },
  {
   "cell_type": "code",
   "execution_count": 181,
   "metadata": {},
   "outputs": [
    {
     "data": {
      "text/plain": [
       "<seaborn.axisgrid.FacetGrid at 0x7fb507a26c50>"
      ]
     },
     "execution_count": 181,
     "metadata": {},
     "output_type": "execute_result"
    },
    {
     "data": {
      "image/png": "[encoded data removed]",
      "text/plain": [
       "<Figure size 576x576 with 1 Axes>"
      ]
     },
     "metadata": {},
     "output_type": "display_data"
    }
   ],
   "source": [
    "sns.set_style('whitegrid') \n",
    "sns.lmplot(x ='weighted_rating', y ='worldwide_gross',  data = top_with_gross_df, height=8, aspect=1) "
   ]
  },
  {
   "cell_type": "code",
   "execution_count": 151,
   "metadata": {},
   "outputs": [
    {
     "name": "stderr",
     "output_type": "stream",
     "text": [
      "/home/user/anaconda3/envs/flatiron/lib/python3.6/site-packages/ipykernel_launcher.py:7: MatplotlibDeprecationWarning: Adding an axes using the same arguments as a previous axes currently reuses the earlier instance.  In a future version, a new instance will always be created and returned.  Meanwhile, this warning can be suppressed, and the future behavior ensured, by passing a unique label to each axes instance.\n",
      "  import sys\n"
     ]
    },
    {
     "data": {
      "image/png": "[encoded data removed]",
      "text/plain": [
       "<Figure size 720x576 with 1 Axes>"
      ]
     },
     "metadata": {},
     "output_type": "display_data"
    }
   ],
   "source": [
    "from matplotlib.ticker import StrMethodFormatter\n",
    "\n",
    "fig = plt.figure(figsize=(10,8))\n",
    "ax = plt.gca()\n",
    "ax.scatter(top_with_gross_df['weighted_rating'], top_with_gross_df['worldwide_gross'], c='darkblue', edgecolors='none',  alpha=.60)\n",
    "ax.set_yscale('log')\n",
    "plt.axes().yaxis.set_major_formatter(StrMethodFormatter('{x:,.0f}'))\n",
    "plt.title(' WW gross by Weighted rating')\n",
    "plt.ylabel('ww g')\n",
    "plt.xlabel('weighted rating')\n",
    "plt.show()"
   ]
  },
  {
   "cell_type": "code",
   "execution_count": 170,
   "metadata": {},
   "outputs": [
    {
     "name": "stdout",
     "output_type": "stream",
     "text": [
      "[[1.        0.2450975]\n",
      " [0.2450975 1.       ]]\n"
     ]
    }
   ],
   "source": [
    "print(np.corrcoef(x=top_with_gross_df['weighted_rating'], y=top_with_gross_df['worldwide_gross']))\n"
   ]
  },
  {
   "cell_type": "markdown",
   "metadata": {},
   "source": [
    "__CONCLUSIONS AND RECOMMENDATIONS__  no stronge relationship in this data analysis"
   ]
  },
  {
   "cell_type": "code",
   "execution_count": null,
   "metadata": {},
   "outputs": [],
   "source": []
  },
  {
   "cell_type": "code",
   "execution_count": 190,
   "metadata": {},
   "outputs": [
    {
     "data": {
      "text/html": [
       "<div>\n",
       "<style scoped>\n",
       "    .dataframe tbody tr th:only-of-type {\n",
       "        vertical-align: middle;\n",
       "    }\n",
       "\n",
       "    .dataframe tbody tr th {\n",
       "        vertical-align: top;\n",
       "    }\n",
       "\n",
       "    .dataframe thead th {\n",
       "        text-align: right;\n",
       "    }\n",
       "</style>\n",
       "<table border=\"1\" class=\"dataframe\">\n",
       "  <thead>\n",
       "    <tr style=\"text-align: right;\">\n",
       "      <th></th>\n",
       "      <th>tconst</th>\n",
       "      <th>primary_title</th>\n",
       "      <th>original_title</th>\n",
       "      <th>start_year</th>\n",
       "      <th>runtime_minutes</th>\n",
       "      <th>genres</th>\n",
       "      <th>averagerating</th>\n",
       "      <th>numvotes</th>\n",
       "      <th>weighted_rating</th>\n",
       "      <th>studio</th>\n",
       "      <th>domestic_gross</th>\n",
       "      <th>foreign_gross</th>\n",
       "      <th>year</th>\n",
       "      <th>worldwide_gross</th>\n",
       "    </tr>\n",
       "  </thead>\n",
       "  <tbody>\n",
       "    <tr>\n",
       "      <th>737</th>\n",
       "      <td>tt2395427</td>\n",
       "      <td>Avengers: Age of Ultron</td>\n",
       "      <td>Avengers: Age of Ultron</td>\n",
       "      <td>2015</td>\n",
       "      <td>141.00</td>\n",
       "      <td>Action,Adventure,Sci-Fi</td>\n",
       "      <td>7.30</td>\n",
       "      <td>665594</td>\n",
       "      <td>7.26</td>\n",
       "      <td>BV</td>\n",
       "      <td>459,000,000.00</td>\n",
       "      <td>946,400,000.00</td>\n",
       "      <td>2015</td>\n",
       "      <td>1,405,400,000.00</td>\n",
       "    </tr>\n",
       "    <tr>\n",
       "      <th>556</th>\n",
       "      <td>tt1825683</td>\n",
       "      <td>Black Panther</td>\n",
       "      <td>Black Panther</td>\n",
       "      <td>2018</td>\n",
       "      <td>134.00</td>\n",
       "      <td>Action,Adventure,Sci-Fi</td>\n",
       "      <td>7.30</td>\n",
       "      <td>516148</td>\n",
       "      <td>7.26</td>\n",
       "      <td>BV</td>\n",
       "      <td>700,100,000.00</td>\n",
       "      <td>646,900,000.00</td>\n",
       "      <td>2018</td>\n",
       "      <td>1,347,000,000.00</td>\n",
       "    </tr>\n",
       "    <tr>\n",
       "      <th>755</th>\n",
       "      <td>tt2527336</td>\n",
       "      <td>Star Wars: The Last Jedi</td>\n",
       "      <td>Star Wars: Episode VIII - The Last Jedi</td>\n",
       "      <td>2017</td>\n",
       "      <td>152.00</td>\n",
       "      <td>Action,Adventure,Fantasy</td>\n",
       "      <td>7.10</td>\n",
       "      <td>462903</td>\n",
       "      <td>7.06</td>\n",
       "      <td>BV</td>\n",
       "      <td>620,200,000.00</td>\n",
       "      <td>712,400,000.00</td>\n",
       "      <td>2017</td>\n",
       "      <td>1,332,600,000.00</td>\n",
       "    </tr>\n",
       "    <tr>\n",
       "      <th>954</th>\n",
       "      <td>tt4881806</td>\n",
       "      <td>Jurassic World: Fallen Kingdom</td>\n",
       "      <td>Jurassic World: Fallen Kingdom</td>\n",
       "      <td>2018</td>\n",
       "      <td>128.00</td>\n",
       "      <td>Action,Adventure,Sci-Fi</td>\n",
       "      <td>6.20</td>\n",
       "      <td>219125</td>\n",
       "      <td>6.21</td>\n",
       "      <td>Uni.</td>\n",
       "      <td>417,700,000.00</td>\n",
       "      <td>891,800,000.00</td>\n",
       "      <td>2018</td>\n",
       "      <td>1,309,500,000.00</td>\n",
       "    </tr>\n",
       "    <tr>\n",
       "      <th>254</th>\n",
       "      <td>tt1323045</td>\n",
       "      <td>Frozen</td>\n",
       "      <td>Frozen</td>\n",
       "      <td>2010</td>\n",
       "      <td>93.00</td>\n",
       "      <td>Adventure,Drama,Sport</td>\n",
       "      <td>6.20</td>\n",
       "      <td>62311</td>\n",
       "      <td>6.24</td>\n",
       "      <td>BV</td>\n",
       "      <td>400,700,000.00</td>\n",
       "      <td>875,700,000.00</td>\n",
       "      <td>2013</td>\n",
       "      <td>1,276,400,000.00</td>\n",
       "    </tr>\n",
       "  </tbody>\n",
       "</table>\n",
       "</div>"
      ],
      "text/plain": [
       "        tconst                   primary_title  \\\n",
       "737  tt2395427         Avengers: Age of Ultron   \n",
       "556  tt1825683                   Black Panther   \n",
       "755  tt2527336        Star Wars: The Last Jedi   \n",
       "954  tt4881806  Jurassic World: Fallen Kingdom   \n",
       "254  tt1323045                          Frozen   \n",
       "\n",
       "                              original_title  start_year  runtime_minutes  \\\n",
       "737                  Avengers: Age of Ultron        2015           141.00   \n",
       "556                            Black Panther        2018           134.00   \n",
       "755  Star Wars: Episode VIII - The Last Jedi        2017           152.00   \n",
       "954           Jurassic World: Fallen Kingdom        2018           128.00   \n",
       "254                                   Frozen        2010            93.00   \n",
       "\n",
       "                       genres  averagerating  numvotes  weighted_rating  \\\n",
       "737   Action,Adventure,Sci-Fi           7.30    665594             7.26   \n",
       "556   Action,Adventure,Sci-Fi           7.30    516148             7.26   \n",
       "755  Action,Adventure,Fantasy           7.10    462903             7.06   \n",
       "954   Action,Adventure,Sci-Fi           6.20    219125             6.21   \n",
       "254     Adventure,Drama,Sport           6.20     62311             6.24   \n",
       "\n",
       "    studio  domestic_gross  foreign_gross  year  worldwide_gross  \n",
       "737     BV  459,000,000.00 946,400,000.00  2015 1,405,400,000.00  \n",
       "556     BV  700,100,000.00 646,900,000.00  2018 1,347,000,000.00  \n",
       "755     BV  620,200,000.00 712,400,000.00  2017 1,332,600,000.00  \n",
       "954   Uni.  417,700,000.00 891,800,000.00  2018 1,309,500,000.00  \n",
       "254     BV  400,700,000.00 875,700,000.00  2013 1,276,400,000.00  "
      ]
     },
     "execution_count": 190,
     "metadata": {},
     "output_type": "execute_result"
    }
   ],
   "source": [
    "top100_by_wwgross_df = top_with_gross_df.nlargest(100, 'worldwide_gross')\n",
    "top100_by_wwgross_df.head()"
   ]
  },
  {
   "cell_type": "code",
   "execution_count": 192,
   "metadata": {},
   "outputs": [
    {
     "name": "stdout",
     "output_type": "stream",
     "text": [
      "<class 'pandas.core.frame.DataFrame'>\n",
      "Int64Index: 100 entries, 737 to 946\n",
      "Data columns (total 14 columns):\n",
      " #   Column           Non-Null Count  Dtype  \n",
      "---  ------           --------------  -----  \n",
      " 0   tconst           100 non-null    object \n",
      " 1   primary_title    100 non-null    object \n",
      " 2   original_title   100 non-null    object \n",
      " 3   start_year       100 non-null    int64  \n",
      " 4   runtime_minutes  100 non-null    float64\n",
      " 5   genres           100 non-null    object \n",
      " 6   averagerating    100 non-null    float64\n",
      " 7   numvotes         100 non-null    int64  \n",
      " 8   weighted_rating  100 non-null    float64\n",
      " 9   studio           100 non-null    object \n",
      " 10  domestic_gross   100 non-null    float64\n",
      " 11  foreign_gross    100 non-null    float64\n",
      " 12  year             100 non-null    int64  \n",
      " 13  worldwide_gross  100 non-null    float64\n",
      "dtypes: float64(6), int64(3), object(5)\n",
      "memory usage: 11.7+ KB\n"
     ]
    }
   ],
   "source": [
    "top100_by_wwgross_df.info()"
   ]
  },
  {
   "cell_type": "code",
   "execution_count": 204,
   "metadata": {},
   "outputs": [
    {
     "data": {
      "text/plain": [
       "Text(0, 0.5, 'Genres')"
      ]
     },
     "execution_count": 204,
     "metadata": {},
     "output_type": "execute_result"
    },
    {
     "data": {
      "image/png": "[encoded data removed]",
      "text/plain": [
       "<Figure size 360x720 with 1 Axes>"
      ]
     },
     "metadata": {},
     "output_type": "display_data"
    }
   ],
   "source": [
    "top100_by_wwgross_binned_by_genres = top100_by_wwgross_df.groupby('genres')['primary_title'].count()\n",
    "top100_by_wwgross_binned_by_genres.sort_values( inplace=True)\n",
    "\n",
    "#viz it \n",
    "fig = plt.figure(figsize = (5,10))\n",
    "plt.barh(top100_by_wwgross_binned_by_genres.index, top100_by_wwgross_binned_by_genres, color = 'purple', alpha = 0.90)\n",
    "plt.grid(color = 'black', alpha = 0.2, linestyle = '--', linewidth = 1)\n",
    "plt.title('Genres of the Top 100 Movies (by worldwide gross)')\n",
    "plt.xlabel('Movie')\n",
    "plt.ylabel('Genres')"
   ]
  },
  {
   "cell_type": "code",
   "execution_count": 209,
   "metadata": {},
   "outputs": [
    {
     "data": {
      "text/plain": [
       "array([2012, 2013, 2014, 2015, 2011, 2010, 2017, 2016, 2018])"
      ]
     },
     "execution_count": 209,
     "metadata": {},
     "output_type": "execute_result"
    }
   ],
   "source": [
    "top_with_gross_df['year'].unique()"
   ]
  },
  {
   "cell_type": "code",
   "execution_count": 210,
   "metadata": {},
   "outputs": [],
   "source": [
    "#Years 2010-2018 - these are the top grossing movings over a span of 9 years.\n",
    "# it would be interesting to do a deeper genre analysis (split them up ). \n",
    "# it would also be interesting to see genres of the top recent movies (last 5 year/last 3 year)"
   ]
  },
  {
   "cell_type": "markdown",
   "metadata": {},
   "source": [
    "__CONCLUSIONS AND RECOMMENDATIONS__"
   ]
  },
  {
   "cell_type": "markdown",
   "metadata": {},
   "source": [
    "MORE DISTRIBUTIONS"
   ]
  },
  {
   "cell_type": "code",
   "execution_count": 118,
   "metadata": {},
   "outputs": [
    {
     "data": {
      "text/plain": [
       "<AxesSubplot:xlabel='weighted_rating'>"
      ]
     },
     "execution_count": 118,
     "metadata": {},
     "output_type": "execute_result"
    },
    {
     "data": {
      "image/png": "[encoded data removed]",
      "text/plain": [
       "<Figure size 720x360 with 1 Axes>"
      ]
     },
     "metadata": {},
     "output_type": "display_data"
    }
   ],
   "source": [
    "sns.set() # make it even prettier later with .set()\n",
    "plt.figure(figsize = (10, 5))\n",
    "sns.boxplot(data = thres_numvotes_df, x = 'weighted_rating')"
   ]
  },
  {
   "cell_type": "markdown",
   "metadata": {},
   "source": [
    "__RANDOM STUFF__\n",
    "\n",
    "...bailing on doing  advanced genre analysis due to lack of time...\n",
    "__PUT THIS IN FUTURE WORK__"
   ]
  },
  {
   "cell_type": "code",
   "execution_count": 99,
   "metadata": {},
   "outputs": [
    {
     "name": "stdout",
     "output_type": "stream",
     "text": [
      "   genre_Action  genre_Adult  genre_Adventure  genre_Animation  \\\n",
      "0             1            0                0                0   \n",
      "1             0            0                0                0   \n",
      "2             0            0                0                0   \n",
      "3             0            0                0                0   \n",
      "4             0            0                0                0   \n",
      "\n",
      "   genre_Biography  genre_Comedy  genre_Crime  genre_Documentary  genre_Drama  \\\n",
      "0                0             0            1                  0            1   \n",
      "1                1             0            0                  0            1   \n",
      "2                0             0            0                  0            1   \n",
      "3                0             1            0                  0            1   \n",
      "4                0             1            0                  0            1   \n",
      "\n",
      "   genre_Family  ...  genre_Mystery  genre_News  genre_Reality-TV  \\\n",
      "0             0  ...              0           0                 0   \n",
      "1             0  ...              0           0                 0   \n",
      "2             0  ...              0           0                 0   \n",
      "3             0  ...              0           0                 0   \n",
      "4             0  ...              0           0                 0   \n",
      "\n",
      "   genre_Romance  genre_Sci-Fi  genre_Short  genre_Sport  genre_Thriller  \\\n",
      "0              0             0            0            0               0   \n",
      "1              0             0            0            0               0   \n",
      "2              0             0            0            0               0   \n",
      "3              0             0            0            0               0   \n",
      "4              0             0            0            0               0   \n",
      "\n",
      "   genre_War  genre_Western  \n",
      "0          0              0  \n",
      "1          0              0  \n",
      "2          0              0  \n",
      "3          0              0  \n",
      "4          0              0  \n",
      "\n",
      "[5 rows x 26 columns]\n"
     ]
    }
   ],
   "source": [
    "# this will get them into a list\n",
    "genres_list = imdb_rated_titles_df['genres'].str.lower().str.split(\",\").to_list()\n",
    "\n",
    "# using dummy varaibles for genres\n",
    "# this is converting all of the lists into a Series so pandas can hash through it\n",
    "# so you iterate or index through a list\n",
    "# you has through a dictionary\n",
    "\n",
    "# we're converting our column of lists to something that is hashable\n",
    "imdb_genres_df = pd.get_dummies(imdb_rated_titles_df['genres'].str.split(\",\").apply(pd.Series).stack(),\n",
    "               prefix='genre',\n",
    "               prefix_sep=\"_\").sum(level=0)\n",
    "# this does not include nulls"
   ]
  },
  {
   "cell_type": "code",
   "execution_count": 104,
   "metadata": {},
   "outputs": [
    {
     "data": {
      "text/html": [
       "<div>\n",
       "<style scoped>\n",
       "    .dataframe tbody tr th:only-of-type {\n",
       "        vertical-align: middle;\n",
       "    }\n",
       "\n",
       "    .dataframe tbody tr th {\n",
       "        vertical-align: top;\n",
       "    }\n",
       "\n",
       "    .dataframe thead th {\n",
       "        text-align: right;\n",
       "    }\n",
       "</style>\n",
       "<table border=\"1\" class=\"dataframe\">\n",
       "  <thead>\n",
       "    <tr style=\"text-align: right;\">\n",
       "      <th></th>\n",
       "      <th>genre_Action</th>\n",
       "      <th>genre_Adult</th>\n",
       "      <th>genre_Adventure</th>\n",
       "      <th>genre_Animation</th>\n",
       "      <th>genre_Biography</th>\n",
       "      <th>genre_Comedy</th>\n",
       "      <th>genre_Crime</th>\n",
       "      <th>genre_Documentary</th>\n",
       "      <th>genre_Drama</th>\n",
       "      <th>genre_Family</th>\n",
       "      <th>...</th>\n",
       "      <th>genre_Mystery</th>\n",
       "      <th>genre_News</th>\n",
       "      <th>genre_Reality-TV</th>\n",
       "      <th>genre_Romance</th>\n",
       "      <th>genre_Sci-Fi</th>\n",
       "      <th>genre_Short</th>\n",
       "      <th>genre_Sport</th>\n",
       "      <th>genre_Thriller</th>\n",
       "      <th>genre_War</th>\n",
       "      <th>genre_Western</th>\n",
       "    </tr>\n",
       "  </thead>\n",
       "  <tbody>\n",
       "    <tr>\n",
       "      <th>0</th>\n",
       "      <td>1</td>\n",
       "      <td>0</td>\n",
       "      <td>0</td>\n",
       "      <td>0</td>\n",
       "      <td>0</td>\n",
       "      <td>0</td>\n",
       "      <td>1</td>\n",
       "      <td>0</td>\n",
       "      <td>1</td>\n",
       "      <td>0</td>\n",
       "      <td>...</td>\n",
       "      <td>0</td>\n",
       "      <td>0</td>\n",
       "      <td>0</td>\n",
       "      <td>0</td>\n",
       "      <td>0</td>\n",
       "      <td>0</td>\n",
       "      <td>0</td>\n",
       "      <td>0</td>\n",
       "      <td>0</td>\n",
       "      <td>0</td>\n",
       "    </tr>\n",
       "    <tr>\n",
       "      <th>1</th>\n",
       "      <td>0</td>\n",
       "      <td>0</td>\n",
       "      <td>0</td>\n",
       "      <td>0</td>\n",
       "      <td>1</td>\n",
       "      <td>0</td>\n",
       "      <td>0</td>\n",
       "      <td>0</td>\n",
       "      <td>1</td>\n",
       "      <td>0</td>\n",
       "      <td>...</td>\n",
       "      <td>0</td>\n",
       "      <td>0</td>\n",
       "      <td>0</td>\n",
       "      <td>0</td>\n",
       "      <td>0</td>\n",
       "      <td>0</td>\n",
       "      <td>0</td>\n",
       "      <td>0</td>\n",
       "      <td>0</td>\n",
       "      <td>0</td>\n",
       "    </tr>\n",
       "    <tr>\n",
       "      <th>2</th>\n",
       "      <td>0</td>\n",
       "      <td>0</td>\n",
       "      <td>0</td>\n",
       "      <td>0</td>\n",
       "      <td>0</td>\n",
       "      <td>0</td>\n",
       "      <td>0</td>\n",
       "      <td>0</td>\n",
       "      <td>1</td>\n",
       "      <td>0</td>\n",
       "      <td>...</td>\n",
       "      <td>0</td>\n",
       "      <td>0</td>\n",
       "      <td>0</td>\n",
       "      <td>0</td>\n",
       "      <td>0</td>\n",
       "      <td>0</td>\n",
       "      <td>0</td>\n",
       "      <td>0</td>\n",
       "      <td>0</td>\n",
       "      <td>0</td>\n",
       "    </tr>\n",
       "    <tr>\n",
       "      <th>3</th>\n",
       "      <td>0</td>\n",
       "      <td>0</td>\n",
       "      <td>0</td>\n",
       "      <td>0</td>\n",
       "      <td>0</td>\n",
       "      <td>1</td>\n",
       "      <td>0</td>\n",
       "      <td>0</td>\n",
       "      <td>1</td>\n",
       "      <td>0</td>\n",
       "      <td>...</td>\n",
       "      <td>0</td>\n",
       "      <td>0</td>\n",
       "      <td>0</td>\n",
       "      <td>0</td>\n",
       "      <td>0</td>\n",
       "      <td>0</td>\n",
       "      <td>0</td>\n",
       "      <td>0</td>\n",
       "      <td>0</td>\n",
       "      <td>0</td>\n",
       "    </tr>\n",
       "    <tr>\n",
       "      <th>4</th>\n",
       "      <td>0</td>\n",
       "      <td>0</td>\n",
       "      <td>0</td>\n",
       "      <td>0</td>\n",
       "      <td>0</td>\n",
       "      <td>1</td>\n",
       "      <td>0</td>\n",
       "      <td>0</td>\n",
       "      <td>1</td>\n",
       "      <td>0</td>\n",
       "      <td>...</td>\n",
       "      <td>0</td>\n",
       "      <td>0</td>\n",
       "      <td>0</td>\n",
       "      <td>0</td>\n",
       "      <td>0</td>\n",
       "      <td>0</td>\n",
       "      <td>0</td>\n",
       "      <td>0</td>\n",
       "      <td>0</td>\n",
       "      <td>0</td>\n",
       "    </tr>\n",
       "  </tbody>\n",
       "</table>\n",
       "<p>5 rows × 26 columns</p>\n",
       "</div>"
      ],
      "text/plain": [
       "   genre_Action  genre_Adult  genre_Adventure  genre_Animation  \\\n",
       "0             1            0                0                0   \n",
       "1             0            0                0                0   \n",
       "2             0            0                0                0   \n",
       "3             0            0                0                0   \n",
       "4             0            0                0                0   \n",
       "\n",
       "   genre_Biography  genre_Comedy  genre_Crime  genre_Documentary  genre_Drama  \\\n",
       "0                0             0            1                  0            1   \n",
       "1                1             0            0                  0            1   \n",
       "2                0             0            0                  0            1   \n",
       "3                0             1            0                  0            1   \n",
       "4                0             1            0                  0            1   \n",
       "\n",
       "   genre_Family  ...  genre_Mystery  genre_News  genre_Reality-TV  \\\n",
       "0             0  ...              0           0                 0   \n",
       "1             0  ...              0           0                 0   \n",
       "2             0  ...              0           0                 0   \n",
       "3             0  ...              0           0                 0   \n",
       "4             0  ...              0           0                 0   \n",
       "\n",
       "   genre_Romance  genre_Sci-Fi  genre_Short  genre_Sport  genre_Thriller  \\\n",
       "0              0             0            0            0               0   \n",
       "1              0             0            0            0               0   \n",
       "2              0             0            0            0               0   \n",
       "3              0             0            0            0               0   \n",
       "4              0             0            0            0               0   \n",
       "\n",
       "   genre_War  genre_Western  \n",
       "0          0              0  \n",
       "1          0              0  \n",
       "2          0              0  \n",
       "3          0              0  \n",
       "4          0              0  \n",
       "\n",
       "[5 rows x 26 columns]"
      ]
     },
     "execution_count": 104,
     "metadata": {},
     "output_type": "execute_result"
    }
   ],
   "source": [
    "imdb_genres_df.head()"
   ]
  },
  {
   "cell_type": "code",
   "execution_count": 105,
   "metadata": {},
   "outputs": [
    {
     "data": {
      "text/html": [
       "<div>\n",
       "<style scoped>\n",
       "    .dataframe tbody tr th:only-of-type {\n",
       "        vertical-align: middle;\n",
       "    }\n",
       "\n",
       "    .dataframe tbody tr th {\n",
       "        vertical-align: top;\n",
       "    }\n",
       "\n",
       "    .dataframe thead th {\n",
       "        text-align: right;\n",
       "    }\n",
       "</style>\n",
       "<table border=\"1\" class=\"dataframe\">\n",
       "  <thead>\n",
       "    <tr style=\"text-align: right;\">\n",
       "      <th></th>\n",
       "      <th>tconst</th>\n",
       "      <th>primary_title</th>\n",
       "      <th>original_title</th>\n",
       "      <th>start_year</th>\n",
       "      <th>runtime_minutes</th>\n",
       "      <th>genres</th>\n",
       "      <th>averagerating</th>\n",
       "      <th>numvotes</th>\n",
       "    </tr>\n",
       "  </thead>\n",
       "  <tbody>\n",
       "    <tr>\n",
       "      <th>0</th>\n",
       "      <td>tt0063540</td>\n",
       "      <td>Sunghursh</td>\n",
       "      <td>Sunghursh</td>\n",
       "      <td>2013</td>\n",
       "      <td>175.00</td>\n",
       "      <td>Action,Crime,Drama</td>\n",
       "      <td>7.00</td>\n",
       "      <td>77</td>\n",
       "    </tr>\n",
       "    <tr>\n",
       "      <th>1</th>\n",
       "      <td>tt0066787</td>\n",
       "      <td>One Day Before the Rainy Season</td>\n",
       "      <td>Ashad Ka Ek Din</td>\n",
       "      <td>2019</td>\n",
       "      <td>114.00</td>\n",
       "      <td>Biography,Drama</td>\n",
       "      <td>7.20</td>\n",
       "      <td>43</td>\n",
       "    </tr>\n",
       "    <tr>\n",
       "      <th>2</th>\n",
       "      <td>tt0069049</td>\n",
       "      <td>The Other Side of the Wind</td>\n",
       "      <td>The Other Side of the Wind</td>\n",
       "      <td>2018</td>\n",
       "      <td>122.00</td>\n",
       "      <td>Drama</td>\n",
       "      <td>6.90</td>\n",
       "      <td>4517</td>\n",
       "    </tr>\n",
       "    <tr>\n",
       "      <th>3</th>\n",
       "      <td>tt0069204</td>\n",
       "      <td>Sabse Bada Sukh</td>\n",
       "      <td>Sabse Bada Sukh</td>\n",
       "      <td>2018</td>\n",
       "      <td>nan</td>\n",
       "      <td>Comedy,Drama</td>\n",
       "      <td>6.10</td>\n",
       "      <td>13</td>\n",
       "    </tr>\n",
       "    <tr>\n",
       "      <th>4</th>\n",
       "      <td>tt0100275</td>\n",
       "      <td>The Wandering Soap Opera</td>\n",
       "      <td>La Telenovela Errante</td>\n",
       "      <td>2017</td>\n",
       "      <td>80.00</td>\n",
       "      <td>Comedy,Drama,Fantasy</td>\n",
       "      <td>6.50</td>\n",
       "      <td>119</td>\n",
       "    </tr>\n",
       "  </tbody>\n",
       "</table>\n",
       "</div>"
      ],
      "text/plain": [
       "      tconst                    primary_title              original_title  \\\n",
       "0  tt0063540                        Sunghursh                   Sunghursh   \n",
       "1  tt0066787  One Day Before the Rainy Season             Ashad Ka Ek Din   \n",
       "2  tt0069049       The Other Side of the Wind  The Other Side of the Wind   \n",
       "3  tt0069204                  Sabse Bada Sukh             Sabse Bada Sukh   \n",
       "4  tt0100275         The Wandering Soap Opera       La Telenovela Errante   \n",
       "\n",
       "   start_year  runtime_minutes                genres  averagerating  numvotes  \n",
       "0        2013           175.00    Action,Crime,Drama           7.00        77  \n",
       "1        2019           114.00       Biography,Drama           7.20        43  \n",
       "2        2018           122.00                 Drama           6.90      4517  \n",
       "3        2018              nan          Comedy,Drama           6.10        13  \n",
       "4        2017            80.00  Comedy,Drama,Fantasy           6.50       119  "
      ]
     },
     "execution_count": 105,
     "metadata": {},
     "output_type": "execute_result"
    }
   ],
   "source": [
    "imdb_rated_titles_df.head()"
   ]
  },
  {
   "cell_type": "code",
   "execution_count": 109,
   "metadata": {},
   "outputs": [
    {
     "data": {
      "text/html": [
       "<div>\n",
       "<style scoped>\n",
       "    .dataframe tbody tr th:only-of-type {\n",
       "        vertical-align: middle;\n",
       "    }\n",
       "\n",
       "    .dataframe tbody tr th {\n",
       "        vertical-align: top;\n",
       "    }\n",
       "\n",
       "    .dataframe thead th {\n",
       "        text-align: right;\n",
       "    }\n",
       "</style>\n",
       "<table border=\"1\" class=\"dataframe\">\n",
       "  <thead>\n",
       "    <tr style=\"text-align: right;\">\n",
       "      <th></th>\n",
       "      <th>tconst</th>\n",
       "      <th>primary_title</th>\n",
       "      <th>original_title</th>\n",
       "      <th>start_year</th>\n",
       "      <th>runtime_minutes</th>\n",
       "      <th>genres</th>\n",
       "      <th>averagerating</th>\n",
       "      <th>numvotes</th>\n",
       "      <th>genre_Action</th>\n",
       "      <th>genre_Adult</th>\n",
       "      <th>...</th>\n",
       "      <th>genre_Mystery</th>\n",
       "      <th>genre_News</th>\n",
       "      <th>genre_Reality-TV</th>\n",
       "      <th>genre_Romance</th>\n",
       "      <th>genre_Sci-Fi</th>\n",
       "      <th>genre_Short</th>\n",
       "      <th>genre_Sport</th>\n",
       "      <th>genre_Thriller</th>\n",
       "      <th>genre_War</th>\n",
       "      <th>genre_Western</th>\n",
       "    </tr>\n",
       "  </thead>\n",
       "  <tbody>\n",
       "    <tr>\n",
       "      <th>0</th>\n",
       "      <td>tt0063540</td>\n",
       "      <td>Sunghursh</td>\n",
       "      <td>Sunghursh</td>\n",
       "      <td>2013</td>\n",
       "      <td>175.00</td>\n",
       "      <td>Action,Crime,Drama</td>\n",
       "      <td>7.00</td>\n",
       "      <td>77</td>\n",
       "      <td>1</td>\n",
       "      <td>0</td>\n",
       "      <td>...</td>\n",
       "      <td>0</td>\n",
       "      <td>0</td>\n",
       "      <td>0</td>\n",
       "      <td>0</td>\n",
       "      <td>0</td>\n",
       "      <td>0</td>\n",
       "      <td>0</td>\n",
       "      <td>0</td>\n",
       "      <td>0</td>\n",
       "      <td>0</td>\n",
       "    </tr>\n",
       "    <tr>\n",
       "      <th>1</th>\n",
       "      <td>tt0066787</td>\n",
       "      <td>One Day Before the Rainy Season</td>\n",
       "      <td>Ashad Ka Ek Din</td>\n",
       "      <td>2019</td>\n",
       "      <td>114.00</td>\n",
       "      <td>Biography,Drama</td>\n",
       "      <td>7.20</td>\n",
       "      <td>43</td>\n",
       "      <td>0</td>\n",
       "      <td>0</td>\n",
       "      <td>...</td>\n",
       "      <td>0</td>\n",
       "      <td>0</td>\n",
       "      <td>0</td>\n",
       "      <td>0</td>\n",
       "      <td>0</td>\n",
       "      <td>0</td>\n",
       "      <td>0</td>\n",
       "      <td>0</td>\n",
       "      <td>0</td>\n",
       "      <td>0</td>\n",
       "    </tr>\n",
       "    <tr>\n",
       "      <th>2</th>\n",
       "      <td>tt0069049</td>\n",
       "      <td>The Other Side of the Wind</td>\n",
       "      <td>The Other Side of the Wind</td>\n",
       "      <td>2018</td>\n",
       "      <td>122.00</td>\n",
       "      <td>Drama</td>\n",
       "      <td>6.90</td>\n",
       "      <td>4517</td>\n",
       "      <td>0</td>\n",
       "      <td>0</td>\n",
       "      <td>...</td>\n",
       "      <td>0</td>\n",
       "      <td>0</td>\n",
       "      <td>0</td>\n",
       "      <td>0</td>\n",
       "      <td>0</td>\n",
       "      <td>0</td>\n",
       "      <td>0</td>\n",
       "      <td>0</td>\n",
       "      <td>0</td>\n",
       "      <td>0</td>\n",
       "    </tr>\n",
       "    <tr>\n",
       "      <th>3</th>\n",
       "      <td>tt0069204</td>\n",
       "      <td>Sabse Bada Sukh</td>\n",
       "      <td>Sabse Bada Sukh</td>\n",
       "      <td>2018</td>\n",
       "      <td>nan</td>\n",
       "      <td>Comedy,Drama</td>\n",
       "      <td>6.10</td>\n",
       "      <td>13</td>\n",
       "      <td>0</td>\n",
       "      <td>0</td>\n",
       "      <td>...</td>\n",
       "      <td>0</td>\n",
       "      <td>0</td>\n",
       "      <td>0</td>\n",
       "      <td>0</td>\n",
       "      <td>0</td>\n",
       "      <td>0</td>\n",
       "      <td>0</td>\n",
       "      <td>0</td>\n",
       "      <td>0</td>\n",
       "      <td>0</td>\n",
       "    </tr>\n",
       "    <tr>\n",
       "      <th>4</th>\n",
       "      <td>tt0100275</td>\n",
       "      <td>The Wandering Soap Opera</td>\n",
       "      <td>La Telenovela Errante</td>\n",
       "      <td>2017</td>\n",
       "      <td>80.00</td>\n",
       "      <td>Comedy,Drama,Fantasy</td>\n",
       "      <td>6.50</td>\n",
       "      <td>119</td>\n",
       "      <td>0</td>\n",
       "      <td>0</td>\n",
       "      <td>...</td>\n",
       "      <td>0</td>\n",
       "      <td>0</td>\n",
       "      <td>0</td>\n",
       "      <td>0</td>\n",
       "      <td>0</td>\n",
       "      <td>0</td>\n",
       "      <td>0</td>\n",
       "      <td>0</td>\n",
       "      <td>0</td>\n",
       "      <td>0</td>\n",
       "    </tr>\n",
       "  </tbody>\n",
       "</table>\n",
       "<p>5 rows × 34 columns</p>\n",
       "</div>"
      ],
      "text/plain": [
       "      tconst                    primary_title              original_title  \\\n",
       "0  tt0063540                        Sunghursh                   Sunghursh   \n",
       "1  tt0066787  One Day Before the Rainy Season             Ashad Ka Ek Din   \n",
       "2  tt0069049       The Other Side of the Wind  The Other Side of the Wind   \n",
       "3  tt0069204                  Sabse Bada Sukh             Sabse Bada Sukh   \n",
       "4  tt0100275         The Wandering Soap Opera       La Telenovela Errante   \n",
       "\n",
       "   start_year  runtime_minutes                genres  averagerating  numvotes  \\\n",
       "0        2013           175.00    Action,Crime,Drama           7.00        77   \n",
       "1        2019           114.00       Biography,Drama           7.20        43   \n",
       "2        2018           122.00                 Drama           6.90      4517   \n",
       "3        2018              nan          Comedy,Drama           6.10        13   \n",
       "4        2017            80.00  Comedy,Drama,Fantasy           6.50       119   \n",
       "\n",
       "   genre_Action  genre_Adult  ...  genre_Mystery  genre_News  \\\n",
       "0             1            0  ...              0           0   \n",
       "1             0            0  ...              0           0   \n",
       "2             0            0  ...              0           0   \n",
       "3             0            0  ...              0           0   \n",
       "4             0            0  ...              0           0   \n",
       "\n",
       "   genre_Reality-TV  genre_Romance  genre_Sci-Fi  genre_Short  genre_Sport  \\\n",
       "0                 0              0             0            0            0   \n",
       "1                 0              0             0            0            0   \n",
       "2                 0              0             0            0            0   \n",
       "3                 0              0             0            0            0   \n",
       "4                 0              0             0            0            0   \n",
       "\n",
       "   genre_Thriller  genre_War  genre_Western  \n",
       "0               0          0              0  \n",
       "1               0          0              0  \n",
       "2               0          0              0  \n",
       "3               0          0              0  \n",
       "4               0          0              0  \n",
       "\n",
       "[5 rows x 34 columns]"
      ]
     },
     "execution_count": 109,
     "metadata": {},
     "output_type": "execute_result"
    }
   ],
   "source": [
    "# merge the newly created genre dummy var dataframe with the rated movie titles dataframe\n",
    "# the index vals match up so merge on index of both the dataframes\n",
    "#mergedDf = empDfObj.merge(salaryDfObj, left_index=True, right_index=True)\n",
    "imdb_rated_titles_genre_dummy_df = imdb_rated_titles_df.merge(imdb_genres_df, left_index=True, right_index=True)\n",
    "imdb_rated_titles_genre_dummy_df.head()"
   ]
  },
  {
   "cell_type": "code",
   "execution_count": 112,
   "metadata": {
    "scrolled": true
   },
   "outputs": [
    {
     "name": "stdout",
     "output_type": "stream",
     "text": [
      "<class 'pandas.core.frame.DataFrame'>\n",
      "Int64Index: 73052 entries, 0 to 73855\n",
      "Data columns (total 34 columns):\n",
      " #   Column             Non-Null Count  Dtype  \n",
      "---  ------             --------------  -----  \n",
      " 0   tconst             73052 non-null  object \n",
      " 1   primary_title      73052 non-null  object \n",
      " 2   original_title     73052 non-null  object \n",
      " 3   start_year         73052 non-null  int64  \n",
      " 4   runtime_minutes    65720 non-null  float64\n",
      " 5   genres             73052 non-null  object \n",
      " 6   averagerating      73052 non-null  float64\n",
      " 7   numvotes           73052 non-null  int64  \n",
      " 8   genre_Action       73052 non-null  uint8  \n",
      " 9   genre_Adult        73052 non-null  uint8  \n",
      " 10  genre_Adventure    73052 non-null  uint8  \n",
      " 11  genre_Animation    73052 non-null  uint8  \n",
      " 12  genre_Biography    73052 non-null  uint8  \n",
      " 13  genre_Comedy       73052 non-null  uint8  \n",
      " 14  genre_Crime        73052 non-null  uint8  \n",
      " 15  genre_Documentary  73052 non-null  uint8  \n",
      " 16  genre_Drama        73052 non-null  uint8  \n",
      " 17  genre_Family       73052 non-null  uint8  \n",
      " 18  genre_Fantasy      73052 non-null  uint8  \n",
      " 19  genre_Game-Show    73052 non-null  uint8  \n",
      " 20  genre_History      73052 non-null  uint8  \n",
      " 21  genre_Horror       73052 non-null  uint8  \n",
      " 22  genre_Music        73052 non-null  uint8  \n",
      " 23  genre_Musical      73052 non-null  uint8  \n",
      " 24  genre_Mystery      73052 non-null  uint8  \n",
      " 25  genre_News         73052 non-null  uint8  \n",
      " 26  genre_Reality-TV   73052 non-null  uint8  \n",
      " 27  genre_Romance      73052 non-null  uint8  \n",
      " 28  genre_Sci-Fi       73052 non-null  uint8  \n",
      " 29  genre_Short        73052 non-null  uint8  \n",
      " 30  genre_Sport        73052 non-null  uint8  \n",
      " 31  genre_Thriller     73052 non-null  uint8  \n",
      " 32  genre_War          73052 non-null  uint8  \n",
      " 33  genre_Western      73052 non-null  uint8  \n",
      "dtypes: float64(2), int64(2), object(4), uint8(26)\n",
      "memory usage: 6.8+ MB\n",
      "None\n"
     ]
    }
   ],
   "source": [
    "print(imdb_rated_titles_genre_dummy_df.info())"
   ]
  }
 ],
 "metadata": {
  "kernelspec": {
   "display_name": "Python 3",
   "language": "python",
   "name": "python3"
  },
  "language_info": {
   "codemirror_mode": {
    "name": "ipython",
    "version": 3
   },
   "file_extension": ".py",
   "mimetype": "text/x-python",
   "name": "python",
   "nbconvert_exporter": "python",
   "pygments_lexer": "ipython3",
   "version": "3.6.9"
  },
  "toc": {
   "base_numbering": 1,
   "nav_menu": {},
   "number_sections": true,
   "sideBar": true,
   "skip_h1_title": false,
   "title_cell": "Table of Contents",
   "title_sidebar": "Contents",
   "toc_cell": false,
   "toc_position": {},
   "toc_section_display": true,
   "toc_window_display": false
  }
 },
 "nbformat": 4,
 "nbformat_minor": 2
}
