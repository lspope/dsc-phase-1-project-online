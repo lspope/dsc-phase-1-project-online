{
 "cells": [
  {
   "cell_type": "markdown",
   "metadata": {},
   "source": [
    "# BOM (movie gross numbers) Datasets Playground\n",
    "\n",
    "\n",
    "Box Office Mojo dataset includes box office gross values for various movies.\n",
    "\n",
    "bom.movie_gross.csv has columns:\n",
    "\n",
    "title, studio, domestic_gross, foreign_gross, year\n",
    "\n",
    "\n",
    "From Box Office Mojo website we learn the following about the data:\n",
    "\n",
    "\n",
    "What do \"domestic\" and \"international\" mean?\n",
    "\"Domestic\" refers to gross box-office revenue from North America (U.S., Canada, and Puerto Rico), unless otherwise noted. \"International\" covers the rest of the world.\n",
    "\n",
    "\n",
    "https://help.imdb.com/article/imdbpro/industry-research/box-office-mojo-by-imdbpro-faq/GCWTV4MQKGWRAUAP?ref_=mojo_ftr_help#domesticinternational\n"
   ]
  },
  {
   "cell_type": "code",
   "execution_count": 2,
   "metadata": {},
   "outputs": [],
   "source": [
    "# Import the required libraries\n",
    "import pandas as pd\n",
    "import numpy as np\n",
    "import matplotlib.pyplot as plt\n",
    "import seaborn as sns\n",
    "%matplotlib inline\n",
    "\n",
    "# set up pandas to display floats in a more human friendly way\n",
    "pd.options.display.float_format = '{:,.2f}'.format"
   ]
  },
  {
   "cell_type": "code",
   "execution_count": 265,
   "metadata": {},
   "outputs": [
    {
     "data": {
      "text/html": [
       "<div>\n",
       "<style scoped>\n",
       "    .dataframe tbody tr th:only-of-type {\n",
       "        vertical-align: middle;\n",
       "    }\n",
       "\n",
       "    .dataframe tbody tr th {\n",
       "        vertical-align: top;\n",
       "    }\n",
       "\n",
       "    .dataframe thead th {\n",
       "        text-align: right;\n",
       "    }\n",
       "</style>\n",
       "<table border=\"1\" class=\"dataframe\">\n",
       "  <thead>\n",
       "    <tr style=\"text-align: right;\">\n",
       "      <th></th>\n",
       "      <th>title</th>\n",
       "      <th>studio</th>\n",
       "      <th>domestic_gross</th>\n",
       "      <th>foreign_gross</th>\n",
       "      <th>year</th>\n",
       "    </tr>\n",
       "  </thead>\n",
       "  <tbody>\n",
       "    <tr>\n",
       "      <th>0</th>\n",
       "      <td>Toy Story 3</td>\n",
       "      <td>BV</td>\n",
       "      <td>415,000,000.00</td>\n",
       "      <td>652000000</td>\n",
       "      <td>2010</td>\n",
       "    </tr>\n",
       "    <tr>\n",
       "      <th>1</th>\n",
       "      <td>Alice in Wonderland (2010)</td>\n",
       "      <td>BV</td>\n",
       "      <td>334,200,000.00</td>\n",
       "      <td>691300000</td>\n",
       "      <td>2010</td>\n",
       "    </tr>\n",
       "    <tr>\n",
       "      <th>2</th>\n",
       "      <td>Harry Potter and the Deathly Hallows Part 1</td>\n",
       "      <td>WB</td>\n",
       "      <td>296,000,000.00</td>\n",
       "      <td>664300000</td>\n",
       "      <td>2010</td>\n",
       "    </tr>\n",
       "    <tr>\n",
       "      <th>3</th>\n",
       "      <td>Inception</td>\n",
       "      <td>WB</td>\n",
       "      <td>292,600,000.00</td>\n",
       "      <td>535700000</td>\n",
       "      <td>2010</td>\n",
       "    </tr>\n",
       "    <tr>\n",
       "      <th>4</th>\n",
       "      <td>Shrek Forever After</td>\n",
       "      <td>P/DW</td>\n",
       "      <td>238,700,000.00</td>\n",
       "      <td>513900000</td>\n",
       "      <td>2010</td>\n",
       "    </tr>\n",
       "  </tbody>\n",
       "</table>\n",
       "</div>"
      ],
      "text/plain": [
       "                                         title studio  domestic_gross  \\\n",
       "0                                  Toy Story 3     BV  415,000,000.00   \n",
       "1                   Alice in Wonderland (2010)     BV  334,200,000.00   \n",
       "2  Harry Potter and the Deathly Hallows Part 1     WB  296,000,000.00   \n",
       "3                                    Inception     WB  292,600,000.00   \n",
       "4                          Shrek Forever After   P/DW  238,700,000.00   \n",
       "\n",
       "  foreign_gross  year  \n",
       "0     652000000  2010  \n",
       "1     691300000  2010  \n",
       "2     664300000  2010  \n",
       "3     535700000  2010  \n",
       "4     513900000  2010  "
      ]
     },
     "execution_count": 265,
     "metadata": {},
     "output_type": "execute_result"
    }
   ],
   "source": [
    "bom_movie_gross_df = pd.read_csv('./zippedData/bom.movie_gross.csv.gz')\n",
    "bom_movie_gross_df.head()"
   ]
  },
  {
   "cell_type": "markdown",
   "metadata": {},
   "source": [
    "Check for duplicates in the data"
   ]
  },
  {
   "cell_type": "code",
   "execution_count": 266,
   "metadata": {},
   "outputs": [
    {
     "name": "stdout",
     "output_type": "stream",
     "text": [
      "0\n"
     ]
    }
   ],
   "source": [
    "bom_dups = bom_movie_gross_df[bom_movie_gross_df.duplicated()]\n",
    "print(len(bom_dups))"
   ]
  },
  {
   "cell_type": "code",
   "execution_count": 267,
   "metadata": {},
   "outputs": [
    {
     "name": "stdout",
     "output_type": "stream",
     "text": [
      "<class 'pandas.core.frame.DataFrame'>\n",
      "RangeIndex: 3387 entries, 0 to 3386\n",
      "Data columns (total 5 columns):\n",
      " #   Column          Non-Null Count  Dtype  \n",
      "---  ------          --------------  -----  \n",
      " 0   title           3387 non-null   object \n",
      " 1   studio          3382 non-null   object \n",
      " 2   domestic_gross  3359 non-null   float64\n",
      " 3   foreign_gross   2037 non-null   object \n",
      " 4   year            3387 non-null   int64  \n",
      "dtypes: float64(1), int64(1), object(3)\n",
      "memory usage: 132.4+ KB\n",
      "None\n"
     ]
    }
   ],
   "source": [
    "print(bom_movie_gross_df.info())"
   ]
  },
  {
   "cell_type": "markdown",
   "metadata": {},
   "source": [
    "3359 of 3387 records had domestic_gross, \n",
    "\n",
    "2037 of 3387 had foreign_gross, \n",
    "\n",
    "so only 2037 could be used to create worldwide_gross. \n",
    "\n",
    "domestric_gross is already in numeric form. year is an int not a date, might be fine to group by year."
   ]
  },
  {
   "cell_type": "markdown",
   "metadata": {},
   "source": [
    "DATA CLEANING - \n",
    "\n",
    "title no NAs\n",
    "year no NaNs\n",
    "\n",
    "studio 5 had NaNs...replace them with \"UNKNOWN\" for unknown\n",
    "\n",
    "foreign_gross is str neeeds to be converted to float\n",
    "\n",
    "\n",
    "domestic_gross 3359 out of 3387...will select a subset to use\n",
    "\n",
    "foreign_gross  2037 out of 3387.. will have to subset to use\n",
    "\n",
    "making a worldwide_gross where there are values for both domestic_gross and foreign_gross in a row"
   ]
  },
  {
   "cell_type": "code",
   "execution_count": 268,
   "metadata": {},
   "outputs": [],
   "source": [
    "bom_movie_gross_df['studio'].fillna('UNKNOWN', inplace=True)"
   ]
  },
  {
   "cell_type": "code",
   "execution_count": 269,
   "metadata": {},
   "outputs": [],
   "source": [
    "bom_movie_gross_df['foreign_gross'] = bom_movie_gross_df['foreign_gross'].str.replace(',', '').astype(float)"
   ]
  },
  {
   "cell_type": "code",
   "execution_count": 270,
   "metadata": {},
   "outputs": [
    {
     "name": "stdout",
     "output_type": "stream",
     "text": [
      "       domestic_gross  foreign_gross     year\n",
      "count        3,359.00       2,037.00 3,387.00\n",
      "mean    28,745,845.07  74,872,810.15 2,013.96\n",
      "std     66,982,498.24 137,410,600.84     2.48\n",
      "min            100.00         600.00 2,010.00\n",
      "25%        120,000.00   3,700,000.00 2,012.00\n",
      "50%      1,400,000.00  18,700,000.00 2,014.00\n",
      "75%     27,900,000.00  74,900,000.00 2,016.00\n",
      "max    936,700,000.00 960,500,000.00 2,018.00\n"
     ]
    }
   ],
   "source": [
    "print(bom_movie_gross_df.describe())"
   ]
  },
  {
   "cell_type": "markdown",
   "metadata": {},
   "source": [
    "** do you want to check for strange outliers"
   ]
  },
  {
   "cell_type": "markdown",
   "metadata": {},
   "source": [
    "Creating a new dataframe that only includes movies with values for both domestic and foreign gross so we can calculate worldwide gross.\n",
    "\n",
    "There are 2009 movies in this dataset"
   ]
  },
  {
   "cell_type": "code",
   "execution_count": 271,
   "metadata": {},
   "outputs": [
    {
     "name": "stderr",
     "output_type": "stream",
     "text": [
      "/home/user/anaconda3/envs/flatiron/lib/python3.6/site-packages/ipykernel_launcher.py:2: SettingWithCopyWarning: \n",
      "A value is trying to be set on a copy of a slice from a DataFrame.\n",
      "Try using .loc[row_indexer,col_indexer] = value instead\n",
      "\n",
      "See the caveats in the documentation: https://pandas.pydata.org/pandas-docs/stable/user_guide/indexing.html#returning-a-view-versus-a-copy\n",
      "  \n"
     ]
    }
   ],
   "source": [
    "bom_ww_gross_df = bom_movie_gross_df.loc[bom_movie_gross_df['domestic_gross'].notnull() & bom_movie_gross_df['foreign_gross'].notnull()]\n",
    "bom_ww_gross_df['worldwide_gross'] = bom_ww_gross_df['domestic_gross'] + bom_ww_gross_df['foreign_gross']"
   ]
  },
  {
   "cell_type": "code",
   "execution_count": 272,
   "metadata": {},
   "outputs": [
    {
     "name": "stdout",
     "output_type": "stream",
     "text": [
      "<class 'pandas.core.frame.DataFrame'>\n",
      "Int64Index: 2009 entries, 0 to 3353\n",
      "Data columns (total 6 columns):\n",
      " #   Column           Non-Null Count  Dtype  \n",
      "---  ------           --------------  -----  \n",
      " 0   title            2009 non-null   object \n",
      " 1   studio           2009 non-null   object \n",
      " 2   domestic_gross   2009 non-null   float64\n",
      " 3   foreign_gross    2009 non-null   float64\n",
      " 4   year             2009 non-null   int64  \n",
      " 5   worldwide_gross  2009 non-null   float64\n",
      "dtypes: float64(3), int64(1), object(2)\n",
      "memory usage: 109.9+ KB\n",
      "None\n"
     ]
    }
   ],
   "source": [
    "print(bom_ww_gross_df.info())"
   ]
  },
  {
   "cell_type": "code",
   "execution_count": 273,
   "metadata": {},
   "outputs": [
    {
     "name": "stdout",
     "output_type": "stream",
     "text": [
      "       domestic_gross  foreign_gross     year  worldwide_gross\n",
      "count        2,009.00       2,009.00 2,009.00         2,009.00\n",
      "mean    46,973,114.38  75,718,219.20 2,013.50   122,691,333.58\n",
      "std     81,599,661.11 138,129,649.08     2.60   207,487,031.92\n",
      "min            400.00         600.00 2,010.00         4,900.00\n",
      "25%        665,000.00   3,900,000.00 2,011.00     8,141,000.00\n",
      "50%     16,500,000.00  19,300,000.00 2,013.00    42,300,000.00\n",
      "75%     56,000,000.00  75,900,000.00 2,016.00   133,700,000.00\n",
      "max    936,700,000.00 960,500,000.00 2,018.00 1,518,900,000.00\n"
     ]
    }
   ],
   "source": [
    "print(bom_ww_gross_df.describe())"
   ]
  },
  {
   "cell_type": "markdown",
   "metadata": {},
   "source": [
    "Our subset of movies with both domestic and foreign gross includes movies released during 2010-2018."
   ]
  },
  {
   "cell_type": "code",
   "execution_count": 274,
   "metadata": {},
   "outputs": [
    {
     "data": {
      "text/plain": [
       "array([2010, 2011, 2012, 2013, 2014, 2015, 2016, 2017, 2018])"
      ]
     },
     "execution_count": 274,
     "metadata": {},
     "output_type": "execute_result"
    }
   ],
   "source": [
    "bom_ww_gross_df['year'].unique()"
   ]
  },
  {
   "cell_type": "code",
   "execution_count": 3,
   "metadata": {},
   "outputs": [],
   "source": [
    "### SAVE IT\n",
    "#bom_ww_gross_df.to_csv('./cleanedData/bom.worldwide_gross.csv')"
   ]
  },
  {
   "cell_type": "markdown",
   "metadata": {},
   "source": [
    "# Question: What are the gross box-office trends?"
   ]
  },
  {
   "cell_type": "markdown",
   "metadata": {},
   "source": [
    "## How have domestic, foreign, and worldwild gross box-office numbers changed over time.\n",
    "\n",
    "The Box Office Mojo dataset has box office gross data from the years 2010 through 2018. Let's look at how these  values have changed over this 9 year span. Note that worldwide gross is the sum of domestic and foreign gross. We'll be looking at __average__ gross and __median__ gross since there are outliers."
   ]
  },
  {
   "cell_type": "code",
   "execution_count": 112,
   "metadata": {},
   "outputs": [
    {
     "name": "stderr",
     "output_type": "stream",
     "text": [
      "/home/user/anaconda3/envs/flatiron/lib/python3.6/site-packages/ipykernel_launcher.py:12: MatplotlibDeprecationWarning: Adding an axes using the same arguments as a previous axes currently reuses the earlier instance.  In a future version, a new instance will always be created and returned.  Meanwhile, this warning can be suppressed, and the future behavior ensured, by passing a unique label to each axes instance.\n",
      "  if sys.path[0] == '':\n"
     ]
    },
    {
     "data": {
      "image/png": "[encoded data removed]",
      "text/plain": [
       "<Figure size 576x360 with 1 Axes>"
      ]
     },
     "metadata": {
      "needs_background": "light"
     },
     "output_type": "display_data"
    }
   ],
   "source": [
    "from matplotlib.ticker import StrMethodFormatter\n",
    "\n",
    "dgross_avg = bom_ww_gross_df.groupby(['year'])['domestic_gross'].mean()\n",
    "fgross_avg = bom_ww_gross_df.groupby(['year'])['foreign_gross'].mean()\n",
    "wwgross_avg = bom_ww_gross_df.groupby(['year'])['worldwide_gross'].mean()\n",
    "\n",
    "plt.figure(figsize=(8, 5))\n",
    "plt.plot(dgross_avg.index, dgross_avg, color='red', linewidth=2.0, linestyle=':')\n",
    "plt.plot(fgross_avg.index, fgross_avg, color='blue', linewidth=2.0, linestyle='--')\n",
    "plt.plot(wwgross_avg.index, wwgross_avg, color='purple', linewidth=2.0, linestyle='-.')\n",
    "plt.grid(color = 'black', alpha = 0.3, linestyle = '--', linewidth = 1)\n",
    "plt.axes().yaxis.set_major_formatter(StrMethodFormatter('{x:,.0f}'))\n",
    "plt.show()"
   ]
  },
  {
   "cell_type": "code",
   "execution_count": 114,
   "metadata": {},
   "outputs": [
    {
     "name": "stderr",
     "output_type": "stream",
     "text": [
      "/home/user/anaconda3/envs/flatiron/lib/python3.6/site-packages/ipykernel_launcher.py:12: MatplotlibDeprecationWarning: Adding an axes using the same arguments as a previous axes currently reuses the earlier instance.  In a future version, a new instance will always be created and returned.  Meanwhile, this warning can be suppressed, and the future behavior ensured, by passing a unique label to each axes instance.\n",
      "  if sys.path[0] == '':\n"
     ]
    },
    {
     "data": {
      "image/png": "[encoded data removed]",
      "text/plain": [
       "<Figure size 576x360 with 1 Axes>"
      ]
     },
     "metadata": {
      "needs_background": "light"
     },
     "output_type": "display_data"
    }
   ],
   "source": [
    "from matplotlib.ticker import StrMethodFormatter\n",
    "\n",
    "dgross_median = bom_ww_gross_df.groupby(['year'])['domestic_gross'].median()\n",
    "fgross_median = bom_ww_gross_df.groupby(['year'])['foreign_gross'].median()\n",
    "wwgross_median = bom_ww_gross_df.groupby(['year'])['worldwide_gross'].median()\n",
    "\n",
    "plt.figure(figsize=(8, 5))\n",
    "plt.plot(dgross_median.index, dgross_median, color='red', linewidth=2.0, linestyle=':')\n",
    "plt.plot(fgross_median.index, fgross_median, color='blue', linewidth=2.0, linestyle='--')\n",
    "plt.plot(wwgross_median.index, wwgross_median, color='purple', linewidth=2.0, linestyle='-.')\n",
    "plt.grid(color = 'black', alpha = 0.3, linestyle = '--', linewidth = 1)\n",
    "plt.axes().yaxis.set_major_formatter(StrMethodFormatter('{x:,.0f}'))\n",
    "plt.show()"
   ]
  },
  {
   "cell_type": "markdown",
   "metadata": {},
   "source": [
    "We can tell there is a general upwards trend in all gross values over the 9 year span. There is a dip in 2014 but the gross averages and medians resume their rise. A dip appears in foreign (and worldwide) gross from 2017 to 2018 but domestic gross increased."
   ]
  },
  {
   "cell_type": "markdown",
   "metadata": {},
   "source": [
    "## What are the box office gross amounts to meet or beat? \n",
    "After examining the overall trend, let's focus on the __average__ and __median__ box office gross values for recent movies (i.e., movies released in the last 5 years).  This should give our client an idea of the numbers they will need to meet (or beat!) in order to be major players in the movie industry. "
   ]
  },
  {
   "cell_type": "code",
   "execution_count": 115,
   "metadata": {},
   "outputs": [
    {
     "name": "stdout",
     "output_type": "stream",
     "text": [
      "       domestic_gross  foreign_gross     year  worldwide_gross\n",
      "count          966.00         966.00   966.00           966.00\n",
      "mean    54,910,633.84  91,610,597.30 2,015.86   146,521,231.14\n",
      "std     93,517,688.85 150,879,414.48     1.43   226,302,484.92\n",
      "min            700.00       1,010.00 2,014.00        38,300.00\n",
      "25%      2,000,000.00   6,325,000.00 2,015.00    14,812,575.00\n",
      "50%     21,900,000.00  26,550,000.00 2,016.00    54,900,000.00\n",
      "75%     61,250,000.00 101,025,000.00 2,017.00   167,225,000.00\n",
      "max    936,700,000.00 946,400,000.00 2,018.00 1,405,400,000.00\n"
     ]
    }
   ],
   "source": [
    "#get the average gross for recent movies (i.e., movies released in the last 5 years)\n",
    "bom_ww_gross_recent_df = bom_ww_gross_df.loc[bom_ww_gross_df['year'].isin([2018, 2017, 2016, 2015, 2014])]\n",
    "\n",
    "print(bom_ww_gross_recent_df.describe())"
   ]
  },
  {
   "cell_type": "code",
   "execution_count": 116,
   "metadata": {},
   "outputs": [
    {
     "name": "stderr",
     "output_type": "stream",
     "text": [
      "/home/user/anaconda3/envs/flatiron/lib/python3.6/site-packages/ipykernel_launcher.py:13: MatplotlibDeprecationWarning: Adding an axes using the same arguments as a previous axes currently reuses the earlier instance.  In a future version, a new instance will always be created and returned.  Meanwhile, this warning can be suppressed, and the future behavior ensured, by passing a unique label to each axes instance.\n",
      "  del sys.path[0]\n"
     ]
    },
    {
     "data": {
      "image/png": "[encoded data removed]",
      "text/plain": [
       "<Figure size 576x360 with 1 Axes>"
      ]
     },
     "metadata": {
      "needs_background": "light"
     },
     "output_type": "display_data"
    }
   ],
   "source": [
    "from matplotlib.ticker import StrMethodFormatter\n",
    "\n",
    "dgross_recent_avg = bom_ww_gross_recent_df.groupby(['year'])['domestic_gross'].mean()\n",
    "fgross_recent_avg = bom_ww_gross_recent_df.groupby(['year'])['foreign_gross'].mean()\n",
    "wwgross_recent_avg = bom_ww_gross_recent_df.groupby(['year'])['worldwide_gross'].mean()\n",
    "\n",
    "plt.figure(figsize=(8, 5))\n",
    "plt.plot(dgross_recent_avg.index, dgross_recent_avg, color='red', linewidth=2.0, linestyle=':')\n",
    "plt.plot(fgross_recent_avg.index, fgross_recent_avg, color='blue', linewidth=2.0, linestyle='--')\n",
    "plt.plot(wwgross_recent_avg.index, wwgross_recent_avg, color='purple', linewidth=2.0, linestyle='-.')\n",
    "plt.grid(color = 'black', alpha = 0.3, linestyle = '--', linewidth = 1)\n",
    "plt.xticks(wwgross_recent_avg.index)\n",
    "plt.axes().yaxis.set_major_formatter(StrMethodFormatter('{x:,.0f}'))\n",
    "plt.show()"
   ]
  },
  {
   "cell_type": "code",
   "execution_count": 117,
   "metadata": {},
   "outputs": [
    {
     "name": "stderr",
     "output_type": "stream",
     "text": [
      "/home/user/anaconda3/envs/flatiron/lib/python3.6/site-packages/ipykernel_launcher.py:13: MatplotlibDeprecationWarning: Adding an axes using the same arguments as a previous axes currently reuses the earlier instance.  In a future version, a new instance will always be created and returned.  Meanwhile, this warning can be suppressed, and the future behavior ensured, by passing a unique label to each axes instance.\n",
      "  del sys.path[0]\n"
     ]
    },
    {
     "data": {
      "image/png": "[encoded data removed]",
      "text/plain": [
       "<Figure size 576x360 with 1 Axes>"
      ]
     },
     "metadata": {
      "needs_background": "light"
     },
     "output_type": "display_data"
    }
   ],
   "source": [
    "from matplotlib.ticker import StrMethodFormatter\n",
    "\n",
    "dgross_recent_median = bom_ww_gross_recent_df.groupby(['year'])['domestic_gross'].median()\n",
    "fgross_recent_median = bom_ww_gross_recent_df.groupby(['year'])['foreign_gross'].median()\n",
    "wwgross_recent_median = bom_ww_gross_recent_df.groupby(['year'])['worldwide_gross'].median()\n",
    "\n",
    "plt.figure(figsize=(8, 5))\n",
    "plt.plot(dgross_recent_median.index, dgross_recent_median, color='red', linewidth=2.0, linestyle=':')\n",
    "plt.plot(fgross_recent_median.index, fgross_recent_median, color='blue', linewidth=2.0, linestyle='--')\n",
    "plt.plot(wwgross_recent_median.index, wwgross_recent_median, color='purple', linewidth=2.0, linestyle='-.')\n",
    "plt.grid(color = 'black', alpha = 0.3, linestyle = '--', linewidth = 1)\n",
    "plt.xticks(wwgross_recent_avg.index)\n",
    "plt.axes().yaxis.set_major_formatter(StrMethodFormatter('{x:,.0f}'))\n",
    "plt.show()"
   ]
  },
  {
   "cell_type": "code",
   "execution_count": 96,
   "metadata": {},
   "outputs": [
    {
     "name": "stdout",
     "output_type": "stream",
     "text": [
      "year\n",
      "2014   43,367,451.28\n",
      "2015   56,551,941.56\n",
      "2016   56,612,985.41\n",
      "2017   59,416,764.96\n",
      "2018   62,221,729.47\n",
      "Name: domestic_gross, dtype: float64\n",
      "year\n",
      "2014    72,464,391.87\n",
      "2015    79,759,770.59\n",
      "2016    98,861,402.60\n",
      "2017   112,592,841.85\n",
      "2018   101,008,616.01\n",
      "Name: foreign_gross, dtype: float64\n",
      "year\n",
      "2014   115,831,843.15\n",
      "2015   136,311,712.15\n",
      "2016   155,474,388.01\n",
      "2017   172,009,606.81\n",
      "2018   163,230,345.48\n",
      "Name: worldwide_gross, dtype: float64\n",
      "year\n",
      "2014   14,250,000.00\n",
      "2015   22,650,000.00\n",
      "2016   26,500,000.00\n",
      "2017   22,400,000.00\n",
      "2018   29,800,000.00\n",
      "Name: domestic_gross, dtype: float64\n",
      "year\n",
      "2014   16,100,000.00\n",
      "2015   25,300,000.00\n",
      "2016   33,100,000.00\n",
      "2017   34,200,000.00\n",
      "2018   28,200,000.00\n",
      "Name: foreign_gross, dtype: float64\n",
      "year\n",
      "2014   39,300,000.00\n",
      "2015   53,600,000.00\n",
      "2016   67,300,000.00\n",
      "2017   62,800,000.00\n",
      "2018   59,900,000.00\n",
      "Name: worldwide_gross, dtype: float64\n"
     ]
    }
   ],
   "source": [
    "print(dgross_recent_avg)\n",
    "print(fgross_recent_avg)\n",
    "print(wwgross_recent_avg)\n",
    "print(dgross_recent_median)\n",
    "print(fgross_recent_median)\n",
    "print(wwgross_recent_median)"
   ]
  },
  {
   "cell_type": "markdown",
   "metadata": {},
   "source": [
    "__CONCLUSIONS AND RECOMMENDATIONS__"
   ]
  },
  {
   "cell_type": "markdown",
   "metadata": {},
   "source": [
    "# Question: Which studios are releasing top grossing movies?\n",
    "Who are the major players in the current movie industry? We'll look for insight into this question by examining the Top 100 recent movies (released in the last 5 years) and see which studios released these top performing movie. These are the major player to view as worthy rivals.\n"
   ]
  },
  {
   "cell_type": "code",
   "execution_count": 170,
   "metadata": {},
   "outputs": [
    {
     "data": {
      "text/html": [
       "<div>\n",
       "<style scoped>\n",
       "    .dataframe tbody tr th:only-of-type {\n",
       "        vertical-align: middle;\n",
       "    }\n",
       "\n",
       "    .dataframe tbody tr th {\n",
       "        vertical-align: top;\n",
       "    }\n",
       "\n",
       "    .dataframe thead th {\n",
       "        text-align: right;\n",
       "    }\n",
       "</style>\n",
       "<table border=\"1\" class=\"dataframe\">\n",
       "  <thead>\n",
       "    <tr style=\"text-align: right;\">\n",
       "      <th></th>\n",
       "      <th>title</th>\n",
       "      <th>studio</th>\n",
       "      <th>domestic_gross</th>\n",
       "      <th>foreign_gross</th>\n",
       "      <th>year</th>\n",
       "      <th>worldwide_gross</th>\n",
       "    </tr>\n",
       "  </thead>\n",
       "  <tbody>\n",
       "    <tr>\n",
       "      <th>1872</th>\n",
       "      <td>Star Wars: The Force Awakens</td>\n",
       "      <td>BV</td>\n",
       "      <td>936,700,000.00</td>\n",
       "      <td>1,131.60</td>\n",
       "      <td>2015</td>\n",
       "      <td>936,701,131.60</td>\n",
       "    </tr>\n",
       "    <tr>\n",
       "      <th>3080</th>\n",
       "      <td>Black Panther</td>\n",
       "      <td>BV</td>\n",
       "      <td>700,100,000.00</td>\n",
       "      <td>646,900,000.00</td>\n",
       "      <td>2018</td>\n",
       "      <td>1,347,000,000.00</td>\n",
       "    </tr>\n",
       "    <tr>\n",
       "      <th>3079</th>\n",
       "      <td>Avengers: Infinity War</td>\n",
       "      <td>BV</td>\n",
       "      <td>678,800,000.00</td>\n",
       "      <td>1,369.50</td>\n",
       "      <td>2018</td>\n",
       "      <td>678,801,369.50</td>\n",
       "    </tr>\n",
       "    <tr>\n",
       "      <th>1873</th>\n",
       "      <td>Jurassic World</td>\n",
       "      <td>Uni.</td>\n",
       "      <td>652,300,000.00</td>\n",
       "      <td>1,019.40</td>\n",
       "      <td>2015</td>\n",
       "      <td>652,301,019.40</td>\n",
       "    </tr>\n",
       "    <tr>\n",
       "      <th>2758</th>\n",
       "      <td>Star Wars: The Last Jedi</td>\n",
       "      <td>BV</td>\n",
       "      <td>620,200,000.00</td>\n",
       "      <td>712,400,000.00</td>\n",
       "      <td>2017</td>\n",
       "      <td>1,332,600,000.00</td>\n",
       "    </tr>\n",
       "    <tr>\n",
       "      <th>3082</th>\n",
       "      <td>Incredibles 2</td>\n",
       "      <td>BV</td>\n",
       "      <td>608,600,000.00</td>\n",
       "      <td>634,200,000.00</td>\n",
       "      <td>2018</td>\n",
       "      <td>1,242,800,000.00</td>\n",
       "    </tr>\n",
       "    <tr>\n",
       "      <th>2323</th>\n",
       "      <td>Rogue One: A Star Wars Story</td>\n",
       "      <td>BV</td>\n",
       "      <td>532,200,000.00</td>\n",
       "      <td>523,900,000.00</td>\n",
       "      <td>2016</td>\n",
       "      <td>1,056,100,000.00</td>\n",
       "    </tr>\n",
       "    <tr>\n",
       "      <th>2759</th>\n",
       "      <td>Beauty and the Beast (2017)</td>\n",
       "      <td>BV</td>\n",
       "      <td>504,000,000.00</td>\n",
       "      <td>759,500,000.00</td>\n",
       "      <td>2017</td>\n",
       "      <td>1,263,500,000.00</td>\n",
       "    </tr>\n",
       "    <tr>\n",
       "      <th>2324</th>\n",
       "      <td>Finding Dory</td>\n",
       "      <td>BV</td>\n",
       "      <td>486,300,000.00</td>\n",
       "      <td>542,300,000.00</td>\n",
       "      <td>2016</td>\n",
       "      <td>1,028,600,000.00</td>\n",
       "    </tr>\n",
       "    <tr>\n",
       "      <th>1875</th>\n",
       "      <td>Avengers: Age of Ultron</td>\n",
       "      <td>BV</td>\n",
       "      <td>459,000,000.00</td>\n",
       "      <td>946,400,000.00</td>\n",
       "      <td>2015</td>\n",
       "      <td>1,405,400,000.00</td>\n",
       "    </tr>\n",
       "  </tbody>\n",
       "</table>\n",
       "</div>"
      ],
      "text/plain": [
       "                             title studio  domestic_gross  foreign_gross  \\\n",
       "1872  Star Wars: The Force Awakens     BV  936,700,000.00       1,131.60   \n",
       "3080                 Black Panther     BV  700,100,000.00 646,900,000.00   \n",
       "3079        Avengers: Infinity War     BV  678,800,000.00       1,369.50   \n",
       "1873                Jurassic World   Uni.  652,300,000.00       1,019.40   \n",
       "2758      Star Wars: The Last Jedi     BV  620,200,000.00 712,400,000.00   \n",
       "3082                 Incredibles 2     BV  608,600,000.00 634,200,000.00   \n",
       "2323  Rogue One: A Star Wars Story     BV  532,200,000.00 523,900,000.00   \n",
       "2759   Beauty and the Beast (2017)     BV  504,000,000.00 759,500,000.00   \n",
       "2324                  Finding Dory     BV  486,300,000.00 542,300,000.00   \n",
       "1875       Avengers: Age of Ultron     BV  459,000,000.00 946,400,000.00   \n",
       "\n",
       "      year  worldwide_gross  \n",
       "1872  2015   936,701,131.60  \n",
       "3080  2018 1,347,000,000.00  \n",
       "3079  2018   678,801,369.50  \n",
       "1873  2015   652,301,019.40  \n",
       "2758  2017 1,332,600,000.00  \n",
       "3082  2018 1,242,800,000.00  \n",
       "2323  2016 1,056,100,000.00  \n",
       "2759  2017 1,263,500,000.00  \n",
       "2324  2016 1,028,600,000.00  \n",
       "1875  2015 1,405,400,000.00  "
      ]
     },
     "execution_count": 170,
     "metadata": {},
     "output_type": "execute_result"
    }
   ],
   "source": [
    "#Get the top 100 recent movies in dataset measured by domestic gross\n",
    "top_100dom_df = bom_ww_gross_recent_df.nlargest(100, 'domestic_gross')\n",
    "top_100_df.head(10)"
   ]
  },
  {
   "cell_type": "code",
   "execution_count": 172,
   "metadata": {},
   "outputs": [
    {
     "data": {
      "text/plain": [
       "studio\n",
       "BV         30\n",
       "WB         16\n",
       "Fox        16\n",
       "Uni.       15\n",
       "Sony        9\n",
       "Par.        8\n",
       "WB (NL)     3\n",
       "LGF         2\n",
       "LG/S        1\n",
       "Name: title, dtype: int64"
      ]
     },
     "execution_count": 172,
     "metadata": {},
     "output_type": "execute_result"
    }
   ],
   "source": [
    "#what studios made these movies?\n",
    "top_100dom_binned_by_studio = top_100dom_df.groupby('studio')['title'].count()\n",
    "top_100dom_binned_by_studio.sort_values(ascending=False, inplace=True)\n",
    "top_100dom_binned_by_studio"
   ]
  },
  {
   "cell_type": "code",
   "execution_count": 164,
   "metadata": {},
   "outputs": [
    {
     "data": {
      "text/plain": [
       "Text(0, 0.5, 'Movies')"
      ]
     },
     "execution_count": 164,
     "metadata": {},
     "output_type": "execute_result"
    },
    {
     "data": {
      "image/png": "[encoded data removed]",
      "text/plain": [
       "<Figure size 576x360 with 1 Axes>"
      ]
     },
     "metadata": {
      "needs_background": "light"
     },
     "output_type": "display_data"
    }
   ],
   "source": [
    "#viz it\n",
    "fig = plt.figure(figsize = (8, 5))\n",
    "plt.bar(top_100dom_binned_by_studio.index, top_100dom_binned_by_studio, color = 'red', alpha = 0.90)\n",
    "plt.grid(color = 'black', alpha = 0.2, linestyle = '--', linewidth = 1)\n",
    "plt.title('Top 100 Recent Movies by Studio (domestic gross)')\n",
    "plt.xlabel('Studios')\n",
    "plt.ylabel('Movies')"
   ]
  },
  {
   "cell_type": "code",
   "execution_count": 174,
   "metadata": {},
   "outputs": [
    {
     "data": {
      "text/html": [
       "<div>\n",
       "<style scoped>\n",
       "    .dataframe tbody tr th:only-of-type {\n",
       "        vertical-align: middle;\n",
       "    }\n",
       "\n",
       "    .dataframe tbody tr th {\n",
       "        vertical-align: top;\n",
       "    }\n",
       "\n",
       "    .dataframe thead th {\n",
       "        text-align: right;\n",
       "    }\n",
       "</style>\n",
       "<table border=\"1\" class=\"dataframe\">\n",
       "  <thead>\n",
       "    <tr style=\"text-align: right;\">\n",
       "      <th></th>\n",
       "      <th>title</th>\n",
       "      <th>studio</th>\n",
       "      <th>domestic_gross</th>\n",
       "      <th>foreign_gross</th>\n",
       "      <th>year</th>\n",
       "      <th>worldwide_gross</th>\n",
       "    </tr>\n",
       "  </thead>\n",
       "  <tbody>\n",
       "    <tr>\n",
       "      <th>1872</th>\n",
       "      <td>Star Wars: The Force Awakens</td>\n",
       "      <td>BV</td>\n",
       "      <td>936,700,000.00</td>\n",
       "      <td>1,131.60</td>\n",
       "      <td>2015</td>\n",
       "      <td>936,701,131.60</td>\n",
       "    </tr>\n",
       "    <tr>\n",
       "      <th>3080</th>\n",
       "      <td>Black Panther</td>\n",
       "      <td>BV</td>\n",
       "      <td>700,100,000.00</td>\n",
       "      <td>646,900,000.00</td>\n",
       "      <td>2018</td>\n",
       "      <td>1,347,000,000.00</td>\n",
       "    </tr>\n",
       "    <tr>\n",
       "      <th>3079</th>\n",
       "      <td>Avengers: Infinity War</td>\n",
       "      <td>BV</td>\n",
       "      <td>678,800,000.00</td>\n",
       "      <td>1,369.50</td>\n",
       "      <td>2018</td>\n",
       "      <td>678,801,369.50</td>\n",
       "    </tr>\n",
       "    <tr>\n",
       "      <th>1873</th>\n",
       "      <td>Jurassic World</td>\n",
       "      <td>Uni.</td>\n",
       "      <td>652,300,000.00</td>\n",
       "      <td>1,019.40</td>\n",
       "      <td>2015</td>\n",
       "      <td>652,301,019.40</td>\n",
       "    </tr>\n",
       "    <tr>\n",
       "      <th>2758</th>\n",
       "      <td>Star Wars: The Last Jedi</td>\n",
       "      <td>BV</td>\n",
       "      <td>620,200,000.00</td>\n",
       "      <td>712,400,000.00</td>\n",
       "      <td>2017</td>\n",
       "      <td>1,332,600,000.00</td>\n",
       "    </tr>\n",
       "    <tr>\n",
       "      <th>3082</th>\n",
       "      <td>Incredibles 2</td>\n",
       "      <td>BV</td>\n",
       "      <td>608,600,000.00</td>\n",
       "      <td>634,200,000.00</td>\n",
       "      <td>2018</td>\n",
       "      <td>1,242,800,000.00</td>\n",
       "    </tr>\n",
       "    <tr>\n",
       "      <th>2323</th>\n",
       "      <td>Rogue One: A Star Wars Story</td>\n",
       "      <td>BV</td>\n",
       "      <td>532,200,000.00</td>\n",
       "      <td>523,900,000.00</td>\n",
       "      <td>2016</td>\n",
       "      <td>1,056,100,000.00</td>\n",
       "    </tr>\n",
       "    <tr>\n",
       "      <th>2759</th>\n",
       "      <td>Beauty and the Beast (2017)</td>\n",
       "      <td>BV</td>\n",
       "      <td>504,000,000.00</td>\n",
       "      <td>759,500,000.00</td>\n",
       "      <td>2017</td>\n",
       "      <td>1,263,500,000.00</td>\n",
       "    </tr>\n",
       "    <tr>\n",
       "      <th>2324</th>\n",
       "      <td>Finding Dory</td>\n",
       "      <td>BV</td>\n",
       "      <td>486,300,000.00</td>\n",
       "      <td>542,300,000.00</td>\n",
       "      <td>2016</td>\n",
       "      <td>1,028,600,000.00</td>\n",
       "    </tr>\n",
       "    <tr>\n",
       "      <th>1875</th>\n",
       "      <td>Avengers: Age of Ultron</td>\n",
       "      <td>BV</td>\n",
       "      <td>459,000,000.00</td>\n",
       "      <td>946,400,000.00</td>\n",
       "      <td>2015</td>\n",
       "      <td>1,405,400,000.00</td>\n",
       "    </tr>\n",
       "  </tbody>\n",
       "</table>\n",
       "</div>"
      ],
      "text/plain": [
       "                             title studio  domestic_gross  foreign_gross  \\\n",
       "1872  Star Wars: The Force Awakens     BV  936,700,000.00       1,131.60   \n",
       "3080                 Black Panther     BV  700,100,000.00 646,900,000.00   \n",
       "3079        Avengers: Infinity War     BV  678,800,000.00       1,369.50   \n",
       "1873                Jurassic World   Uni.  652,300,000.00       1,019.40   \n",
       "2758      Star Wars: The Last Jedi     BV  620,200,000.00 712,400,000.00   \n",
       "3082                 Incredibles 2     BV  608,600,000.00 634,200,000.00   \n",
       "2323  Rogue One: A Star Wars Story     BV  532,200,000.00 523,900,000.00   \n",
       "2759   Beauty and the Beast (2017)     BV  504,000,000.00 759,500,000.00   \n",
       "2324                  Finding Dory     BV  486,300,000.00 542,300,000.00   \n",
       "1875       Avengers: Age of Ultron     BV  459,000,000.00 946,400,000.00   \n",
       "\n",
       "      year  worldwide_gross  \n",
       "1872  2015   936,701,131.60  \n",
       "3080  2018 1,347,000,000.00  \n",
       "3079  2018   678,801,369.50  \n",
       "1873  2015   652,301,019.40  \n",
       "2758  2017 1,332,600,000.00  \n",
       "3082  2018 1,242,800,000.00  \n",
       "2323  2016 1,056,100,000.00  \n",
       "2759  2017 1,263,500,000.00  \n",
       "2324  2016 1,028,600,000.00  \n",
       "1875  2015 1,405,400,000.00  "
      ]
     },
     "execution_count": 174,
     "metadata": {},
     "output_type": "execute_result"
    }
   ],
   "source": [
    "#Get the top 100 recent movies in dataset measured by worldwide gross\n",
    "top_100ww_df = bom_ww_gross_recent_df.nlargest(100, 'worldwide_gross')\n",
    "top_100_df.head(10)"
   ]
  },
  {
   "cell_type": "code",
   "execution_count": 176,
   "metadata": {},
   "outputs": [
    {
     "data": {
      "text/plain": [
       "studio\n",
       "BV         28\n",
       "Fox        18\n",
       "WB         16\n",
       "Uni.       13\n",
       "Sony        8\n",
       "Par.        8\n",
       "WB (NL)     4\n",
       "LGF         2\n",
       "WGUSA       1\n",
       "LG/S        1\n",
       "HC          1\n",
       "Name: title, dtype: int64"
      ]
     },
     "execution_count": 176,
     "metadata": {},
     "output_type": "execute_result"
    }
   ],
   "source": [
    "#what studios made these movies?\n",
    "top_100ww_binned_by_studio = top_100ww_df.groupby('studio')['title'].count()\n",
    "top_100ww_binned_by_studio.sort_values(ascending=False, inplace=True)\n",
    "top_100ww_binned_by_studio"
   ]
  },
  {
   "cell_type": "code",
   "execution_count": 177,
   "metadata": {},
   "outputs": [
    {
     "data": {
      "text/plain": [
       "Text(0, 0.5, 'Movies')"
      ]
     },
     "execution_count": 177,
     "metadata": {},
     "output_type": "execute_result"
    },
    {
     "data": {
      "image/png": "[encoded data removed]",
      "text/plain": [
       "<Figure size 576x360 with 1 Axes>"
      ]
     },
     "metadata": {
      "needs_background": "light"
     },
     "output_type": "display_data"
    }
   ],
   "source": [
    "#viz it for top 100 ww\n",
    "fig = plt.figure(figsize = (8, 5))\n",
    "plt.bar(top_100ww_binned_by_studio.index, top_100ww_binned_by_studio, color = 'purple', alpha = 0.90)\n",
    "plt.grid(color = 'black', alpha = 0.2, linestyle = '--', linewidth = 1)\n",
    "plt.title('Top 100 Recent Movies by Studio (worldwide gross)')\n",
    "plt.xlabel('Studios')\n",
    "plt.ylabel('Movies')"
   ]
  },
  {
   "cell_type": "markdown",
   "metadata": {},
   "source": [
    "Studios that released Top Domestic and Worldwide grossing movies"
   ]
  },
  {
   "cell_type": "code",
   "execution_count": 217,
   "metadata": {},
   "outputs": [
    {
     "data": {
      "text/plain": [
       "Index(['BV', 'WB', 'Fox', 'Uni.', 'Sony', 'Par.', 'WB (NL)', 'LGF', 'LG/S'], dtype='object', name='studio')"
      ]
     },
     "execution_count": 217,
     "metadata": {},
     "output_type": "execute_result"
    }
   ],
   "source": [
    "top_100dom_binned_by_studio.index.intersection(top_100ww_binned_by_studio.index)"
   ]
  },
  {
   "cell_type": "markdown",
   "metadata": {},
   "source": [
    "Studios that released Top Worldwide grossing movies that were not included in top Domestic"
   ]
  },
  {
   "cell_type": "code",
   "execution_count": 218,
   "metadata": {},
   "outputs": [
    {
     "data": {
      "text/plain": [
       "Index(['HC', 'WGUSA'], dtype='object', name='studio')"
      ]
     },
     "execution_count": 218,
     "metadata": {},
     "output_type": "execute_result"
    }
   ],
   "source": [
    "top_100ww_binned_by_studio.index.difference(top_100dom_binned_by_studio.index)"
   ]
  },
  {
   "cell_type": "markdown",
   "metadata": {},
   "source": [
    "__CONCLUSIONS AND RECOMMENDATIONS__"
   ]
  },
  {
   "cell_type": "markdown",
   "metadata": {},
   "source": [
    "# Distributions!"
   ]
  },
  {
   "cell_type": "code",
   "execution_count": 262,
   "metadata": {},
   "outputs": [
    {
     "data": {
      "text/plain": [
       "<AxesSubplot:xlabel='year'>"
      ]
     },
     "execution_count": 262,
     "metadata": {},
     "output_type": "execute_result"
    },
    {
     "data": {
      "image/png": "[encoded data removed]",
      "text/plain": [
       "<Figure size 720x360 with 1 Axes>"
      ]
     },
     "metadata": {},
     "output_type": "display_data"
    }
   ],
   "source": [
    "# distributions \n",
    "sns.set() # make it even prettier\n",
    "plt.figure(figsize = (10, 5))\n",
    "sns.boxplot(data = bom_ww_gross_df, x = 'year')"
   ]
  },
  {
   "cell_type": "code",
   "execution_count": 259,
   "metadata": {},
   "outputs": [
    {
     "data": {
      "text/plain": [
       "<AxesSubplot:xlabel='domestic_gross'>"
      ]
     },
     "execution_count": 259,
     "metadata": {},
     "output_type": "execute_result"
    },
    {
     "data": {
      "image/png": "[encoded data removed]",
      "text/plain": [
       "<Figure size 720x360 with 1 Axes>"
      ]
     },
     "metadata": {},
     "output_type": "display_data"
    }
   ],
   "source": [
    "plt.figure(figsize = (10,5))\n",
    "sns.boxplot(data = bom_ww_gross_df, x = 'domestic_gross') "
   ]
  },
  {
   "cell_type": "code",
   "execution_count": 260,
   "metadata": {},
   "outputs": [
    {
     "data": {
      "text/plain": [
       "<AxesSubplot:xlabel='foreign_gross'>"
      ]
     },
     "execution_count": 260,
     "metadata": {},
     "output_type": "execute_result"
    },
    {
     "data": {
      "image/png": "[encoded data removed]",
      "text/plain": [
       "<Figure size 720x360 with 1 Axes>"
      ]
     },
     "metadata": {},
     "output_type": "display_data"
    }
   ],
   "source": [
    "plt.figure(figsize = (10,5))\n",
    "sns.boxplot(data = bom_ww_gross_df, x = 'foreign_gross')"
   ]
  },
  {
   "cell_type": "code",
   "execution_count": 263,
   "metadata": {},
   "outputs": [
    {
     "data": {
      "text/plain": [
       "<AxesSubplot:xlabel='worldwide_gross'>"
      ]
     },
     "execution_count": 263,
     "metadata": {},
     "output_type": "execute_result"
    },
    {
     "data": {
      "image/png": "[encoded data removed]",
      "text/plain": [
       "<Figure size 720x360 with 1 Axes>"
      ]
     },
     "metadata": {},
     "output_type": "display_data"
    }
   ],
   "source": [
    "plt.figure(figsize = (10,5))\n",
    "sns.boxplot(data = bom_ww_gross_df, x = 'worldwide_gross')"
   ]
  },
  {
   "cell_type": "markdown",
   "metadata": {},
   "source": [
    "RANDOM STUFF--- I remembered how to do a scatter plot"
   ]
  },
  {
   "cell_type": "code",
   "execution_count": 227,
   "metadata": {},
   "outputs": [
    {
     "data": {
      "text/plain": [
       "Text(0.5, 1.0, 'y x dom gross')"
      ]
     },
     "execution_count": 227,
     "metadata": {},
     "output_type": "execute_result"
    },
    {
     "data": {
      "image/png": "[encoded data removed]",
      "text/plain": [
       "<Figure size 432x288 with 1 Axes>"
      ]
     },
     "metadata": {
      "needs_background": "light"
     },
     "output_type": "display_data"
    }
   ],
   "source": [
    "# scatter plot year by domestic_gross \n",
    "x_val= bom_ww_gross_df['year']\n",
    "y_val= bom_ww_gross_df['domestic_gross']\n",
    "\n",
    "\n",
    "fgrid = sns.scatterplot(x=x_val, y=y_val, data=bom_movie_gross_df, color='darkblue', alpha=.4, edgecolor='none')\n",
    "plt.xlabel('year')\n",
    "plt.ylabel('dom gross')\n",
    "plt.title('y x dom gross')"
   ]
  }
 ],
 "metadata": {
  "kernelspec": {
   "display_name": "Python 3",
   "language": "python",
   "name": "python3"
  },
  "language_info": {
   "codemirror_mode": {
    "name": "ipython",
    "version": 3
   },
   "file_extension": ".py",
   "mimetype": "text/x-python",
   "name": "python",
   "nbconvert_exporter": "python",
   "pygments_lexer": "ipython3",
   "version": "3.6.9"
  },
  "toc": {
   "base_numbering": 1,
   "nav_menu": {},
   "number_sections": true,
   "sideBar": true,
   "skip_h1_title": false,
   "title_cell": "Table of Contents",
   "title_sidebar": "Contents",
   "toc_cell": false,
   "toc_position": {},
   "toc_section_display": true,
   "toc_window_display": false
  }
 },
 "nbformat": 4,
 "nbformat_minor": 2
}
