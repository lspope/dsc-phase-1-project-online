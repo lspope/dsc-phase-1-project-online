{
 "cells": [
  {
   "cell_type": "markdown",
   "metadata": {},
   "source": [
    "# Question: Which studios are [Worthy Rivals](https://ideas.ted.com/how-having-the-right-kind-of-rival-can-help-you-thrive-in-a-changing-world/)?\n",
    "\n",
    "\n",
    "Who are the major players in the current movie industry? We'll look for insight into this question by examining the Top 100 recent movies (released in the last 5 years) and see which studios released the top grossing movies. These are the major player to view as worthy rivals.\n",
    "\n",
    "---"
   ]
  },
  {
   "cell_type": "markdown",
   "metadata": {},
   "source": [
    "# Data Understanding\n",
    "\n",
    "I used data from [Box Office Mojo](https://www.boxofficemojo.com/), an online box office reporting and analysis service, to investigate this question. \n",
    "\n",
    "* bom.movie_gross.csv.gz\n",
    "    * Contains title, studio, release year, domestic, and foreign gross.\n"
   ]
  },
  {
   "cell_type": "code",
   "execution_count": 6,
   "metadata": {},
   "outputs": [],
   "source": [
    "import pandas as pd\n",
    "import numpy as np\n",
    "\n",
    "# set up pandas to display floats in a more human friendly way\n",
    "pd.options.display.float_format = '{:,.2f}'.format"
   ]
  },
  {
   "cell_type": "code",
   "execution_count": 7,
   "metadata": {},
   "outputs": [
    {
     "data": {
      "text/html": [
       "<div>\n",
       "<style scoped>\n",
       "    .dataframe tbody tr th:only-of-type {\n",
       "        vertical-align: middle;\n",
       "    }\n",
       "\n",
       "    .dataframe tbody tr th {\n",
       "        vertical-align: top;\n",
       "    }\n",
       "\n",
       "    .dataframe thead th {\n",
       "        text-align: right;\n",
       "    }\n",
       "</style>\n",
       "<table border=\"1\" class=\"dataframe\">\n",
       "  <thead>\n",
       "    <tr style=\"text-align: right;\">\n",
       "      <th></th>\n",
       "      <th>title</th>\n",
       "      <th>studio</th>\n",
       "      <th>domestic_gross</th>\n",
       "      <th>foreign_gross</th>\n",
       "      <th>year</th>\n",
       "    </tr>\n",
       "  </thead>\n",
       "  <tbody>\n",
       "    <tr>\n",
       "      <th>0</th>\n",
       "      <td>Toy Story 3</td>\n",
       "      <td>BV</td>\n",
       "      <td>415,000,000.00</td>\n",
       "      <td>652000000</td>\n",
       "      <td>2010</td>\n",
       "    </tr>\n",
       "    <tr>\n",
       "      <th>1</th>\n",
       "      <td>Alice in Wonderland (2010)</td>\n",
       "      <td>BV</td>\n",
       "      <td>334,200,000.00</td>\n",
       "      <td>691300000</td>\n",
       "      <td>2010</td>\n",
       "    </tr>\n",
       "    <tr>\n",
       "      <th>2</th>\n",
       "      <td>Harry Potter and the Deathly Hallows Part 1</td>\n",
       "      <td>WB</td>\n",
       "      <td>296,000,000.00</td>\n",
       "      <td>664300000</td>\n",
       "      <td>2010</td>\n",
       "    </tr>\n",
       "    <tr>\n",
       "      <th>3</th>\n",
       "      <td>Inception</td>\n",
       "      <td>WB</td>\n",
       "      <td>292,600,000.00</td>\n",
       "      <td>535700000</td>\n",
       "      <td>2010</td>\n",
       "    </tr>\n",
       "    <tr>\n",
       "      <th>4</th>\n",
       "      <td>Shrek Forever After</td>\n",
       "      <td>P/DW</td>\n",
       "      <td>238,700,000.00</td>\n",
       "      <td>513900000</td>\n",
       "      <td>2010</td>\n",
       "    </tr>\n",
       "  </tbody>\n",
       "</table>\n",
       "</div>"
      ],
      "text/plain": [
       "                                         title studio  domestic_gross  \\\n",
       "0                                  Toy Story 3     BV  415,000,000.00   \n",
       "1                   Alice in Wonderland (2010)     BV  334,200,000.00   \n",
       "2  Harry Potter and the Deathly Hallows Part 1     WB  296,000,000.00   \n",
       "3                                    Inception     WB  292,600,000.00   \n",
       "4                          Shrek Forever After   P/DW  238,700,000.00   \n",
       "\n",
       "  foreign_gross  year  \n",
       "0     652000000  2010  \n",
       "1     691300000  2010  \n",
       "2     664300000  2010  \n",
       "3     535700000  2010  \n",
       "4     513900000  2010  "
      ]
     },
     "execution_count": 7,
     "metadata": {},
     "output_type": "execute_result"
    }
   ],
   "source": [
    "bom_movie_gross_df = pd.read_csv('../zippedData/bom.movie_gross.csv.gz')\n",
    "bom_movie_gross_df.head()"
   ]
  },
  {
   "cell_type": "code",
   "execution_count": 8,
   "metadata": {},
   "outputs": [
    {
     "name": "stdout",
     "output_type": "stream",
     "text": [
      "<class 'pandas.core.frame.DataFrame'>\n",
      "RangeIndex: 3387 entries, 0 to 3386\n",
      "Data columns (total 5 columns):\n",
      " #   Column          Non-Null Count  Dtype  \n",
      "---  ------          --------------  -----  \n",
      " 0   title           3387 non-null   object \n",
      " 1   studio          3382 non-null   object \n",
      " 2   domestic_gross  3359 non-null   float64\n",
      " 3   foreign_gross   2037 non-null   object \n",
      " 4   year            3387 non-null   int64  \n",
      "dtypes: float64(1), int64(1), object(3)\n",
      "memory usage: 132.4+ KB\n",
      "None\n"
     ]
    }
   ],
   "source": [
    "print(bom_movie_gross_df.info())"
   ]
  },
  {
   "cell_type": "markdown",
   "metadata": {},
   "source": [
    "# Data Preparation\n",
    "\n",
    "__Data cleaning and conversion details:__\n",
    "\n",
    "* No duplicates.\n",
    "\n",
    "* title had no NAs.\n",
    "\n",
    "* studio 5 had NaNs. Replace them with \"UNKNOWN\" for unknown\n",
    "\n",
    "* domestic_gross has NaNs. 3359 populated out of 3387. Will select a subset to use\n",
    "\n",
    "* foreign_gross is str and needs to be converted to float\n",
    "\n",
    "* foreign_gross has NaNs.  2037 populated out of 3387.  Will select a subset to use\n",
    "\n",
    "* year has no NaNs\n",
    "\n",
    "* Creating a worldwide_gross column where there are values for both domestic_gross and foreign_gross. This is the measure I'm interested in. "
   ]
  },
  {
   "cell_type": "code",
   "execution_count": 9,
   "metadata": {},
   "outputs": [
    {
     "name": "stdout",
     "output_type": "stream",
     "text": [
      "0\n"
     ]
    }
   ],
   "source": [
    "# check for duplicates\n",
    "bom_dups = bom_movie_gross_df[bom_movie_gross_df.duplicated()]\n",
    "print(len(bom_dups))"
   ]
  },
  {
   "cell_type": "code",
   "execution_count": 10,
   "metadata": {},
   "outputs": [],
   "source": [
    "# fill NaNs \n",
    "bom_movie_gross_df['studio'].fillna('UNKNOWN', inplace=True)"
   ]
  },
  {
   "cell_type": "code",
   "execution_count": 11,
   "metadata": {},
   "outputs": [],
   "source": [
    "# convert to float so we can aggregate\n",
    "bom_movie_gross_df['foreign_gross'] = bom_movie_gross_df['foreign_gross'].str.replace(',', '').astype(float)"
   ]
  },
  {
   "cell_type": "code",
   "execution_count": 15,
   "metadata": {},
   "outputs": [
    {
     "name": "stdout",
     "output_type": "stream",
     "text": [
      "<class 'pandas.core.frame.DataFrame'>\n",
      "RangeIndex: 3387 entries, 0 to 3386\n",
      "Data columns (total 5 columns):\n",
      " #   Column          Non-Null Count  Dtype  \n",
      "---  ------          --------------  -----  \n",
      " 0   title           3387 non-null   object \n",
      " 1   studio          3387 non-null   object \n",
      " 2   domestic_gross  3359 non-null   float64\n",
      " 3   foreign_gross   2037 non-null   float64\n",
      " 4   year            3387 non-null   int64  \n",
      "dtypes: float64(2), int64(1), object(2)\n",
      "memory usage: 132.4+ KB\n",
      "None\n"
     ]
    }
   ],
   "source": [
    "print(bom_movie_gross_df.info())"
   ]
  },
  {
   "cell_type": "markdown",
   "metadata": {},
   "source": [
    "Creating a new dataframe that __only__ includes movies with values for both domestic and foreign gross so we can calculate worldwide gross.  \n",
    "\n",
    "Results in 2009 movies released during 2010-2018."
   ]
  },
  {
   "cell_type": "code",
   "execution_count": 16,
   "metadata": {},
   "outputs": [
    {
     "name": "stderr",
     "output_type": "stream",
     "text": [
      "/home/user/anaconda3/envs/flatiron/lib/python3.6/site-packages/ipykernel_launcher.py:2: SettingWithCopyWarning: \n",
      "A value is trying to be set on a copy of a slice from a DataFrame.\n",
      "Try using .loc[row_indexer,col_indexer] = value instead\n",
      "\n",
      "See the caveats in the documentation: https://pandas.pydata.org/pandas-docs/stable/user_guide/indexing.html#returning-a-view-versus-a-copy\n",
      "  \n"
     ]
    }
   ],
   "source": [
    "bom_ww_gross_df = bom_movie_gross_df.loc[bom_movie_gross_df['domestic_gross'].notnull() & bom_movie_gross_df['foreign_gross'].notnull()]\n",
    "bom_ww_gross_df['worldwide_gross'] = bom_ww_gross_df['domestic_gross'] + bom_ww_gross_df['foreign_gross']"
   ]
  },
  {
   "cell_type": "markdown",
   "metadata": {},
   "source": [
    "The min for domestic_gross and foreign_gross are very small but I'm leaving them in as (1) they may be valid values (really poor performace or release date at the very end of 2018) and (2) I am only interested in getting the top grossing movies to answer this question. \n",
    "\n",
    "The max for domestic_gross and foreign_gross are very large but to be expected as valid movie blockbuster amounts."
   ]
  },
  {
   "cell_type": "code",
   "execution_count": 18,
   "metadata": {
    "scrolled": true
   },
   "outputs": [
    {
     "name": "stdout",
     "output_type": "stream",
     "text": [
      "       domestic_gross  foreign_gross     year  worldwide_gross\n",
      "count        2,009.00       2,009.00 2,009.00         2,009.00\n",
      "mean    46,973,114.38  75,718,219.20 2,013.50   122,691,333.58\n",
      "std     81,599,661.11 138,129,649.08     2.60   207,487,031.92\n",
      "min            400.00         600.00 2,010.00         4,900.00\n",
      "25%        665,000.00   3,900,000.00 2,011.00     8,141,000.00\n",
      "50%     16,500,000.00  19,300,000.00 2,013.00    42,300,000.00\n",
      "75%     56,000,000.00  75,900,000.00 2,016.00   133,700,000.00\n",
      "max    936,700,000.00 960,500,000.00 2,018.00 1,518,900,000.00\n"
     ]
    }
   ],
   "source": [
    "print(bom_ww_gross_df.describe())"
   ]
  },
  {
   "cell_type": "code",
   "execution_count": 17,
   "metadata": {},
   "outputs": [
    {
     "name": "stdout",
     "output_type": "stream",
     "text": [
      "<class 'pandas.core.frame.DataFrame'>\n",
      "Int64Index: 2009 entries, 0 to 3353\n",
      "Data columns (total 6 columns):\n",
      " #   Column           Non-Null Count  Dtype  \n",
      "---  ------           --------------  -----  \n",
      " 0   title            2009 non-null   object \n",
      " 1   studio           2009 non-null   object \n",
      " 2   domestic_gross   2009 non-null   float64\n",
      " 3   foreign_gross    2009 non-null   float64\n",
      " 4   year             2009 non-null   int64  \n",
      " 5   worldwide_gross  2009 non-null   float64\n",
      "dtypes: float64(3), int64(1), object(2)\n",
      "memory usage: 109.9+ KB\n",
      "None\n"
     ]
    }
   ],
   "source": [
    "print(bom_ww_gross_df.info())"
   ]
  },
  {
   "cell_type": "code",
   "execution_count": 20,
   "metadata": {
    "scrolled": true
   },
   "outputs": [
    {
     "data": {
      "text/plain": [
       "array([2010, 2011, 2012, 2013, 2014, 2015, 2016, 2017, 2018])"
      ]
     },
     "execution_count": 20,
     "metadata": {},
     "output_type": "execute_result"
    }
   ],
   "source": [
    "bom_ww_gross_df['year'].unique()"
   ]
  },
  {
   "cell_type": "code",
   "execution_count": 3,
   "metadata": {},
   "outputs": [],
   "source": [
    "### SAVE IT\n",
    "#bom_ww_gross_df.to_csv('../cleanedData/bom.worldwide_gross.csv')"
   ]
  },
  {
   "cell_type": "markdown",
   "metadata": {},
   "source": [
    "# Exploratory Data Analysis\n",
    "\n",
    "I want to hone in on more recent trends rather than use data that is almost a decade old (loaded data set has date span of 2010-2018).  To look for studios that are currently peforming well, I create a dataframe with recent movies (released in the last 5 years)."
   ]
  },
  {
   "cell_type": "code",
   "execution_count": 23,
   "metadata": {},
   "outputs": [],
   "source": [
    "import matplotlib.pyplot as plt\n",
    "import seaborn as sns\n",
    "%matplotlib inline"
   ]
  },
  {
   "cell_type": "code",
   "execution_count": 22,
   "metadata": {},
   "outputs": [
    {
     "name": "stdout",
     "output_type": "stream",
     "text": [
      "<class 'pandas.core.frame.DataFrame'>\n",
      "Int64Index: 966 entries, 1477 to 3353\n",
      "Data columns (total 6 columns):\n",
      " #   Column           Non-Null Count  Dtype  \n",
      "---  ------           --------------  -----  \n",
      " 0   title            966 non-null    object \n",
      " 1   studio           966 non-null    object \n",
      " 2   domestic_gross   966 non-null    float64\n",
      " 3   foreign_gross    966 non-null    float64\n",
      " 4   year             966 non-null    int64  \n",
      " 5   worldwide_gross  966 non-null    float64\n",
      "dtypes: float64(3), int64(1), object(2)\n",
      "memory usage: 52.8+ KB\n",
      "None\n"
     ]
    }
   ],
   "source": [
    "# get the average gross for recent movies (released in the last 5 years of this dataset's timeframe)\n",
    "bom_ww_gross_recent_df = bom_ww_gross_df.loc[bom_ww_gross_df['year'].isin([2018, 2017, 2016, 2015, 2014])]\n",
    "\n",
    "print(bom_ww_gross_recent_df.info())"
   ]
  },
  {
   "cell_type": "code",
   "execution_count": 24,
   "metadata": {},
   "outputs": [
    {
     "name": "stdout",
     "output_type": "stream",
     "text": [
      "       domestic_gross  foreign_gross     year  worldwide_gross\n",
      "count          966.00         966.00   966.00           966.00\n",
      "mean    54,910,633.84  91,610,597.30 2,015.86   146,521,231.14\n",
      "std     93,517,688.85 150,879,414.48     1.43   226,302,484.92\n",
      "min            700.00       1,010.00 2,014.00        38,300.00\n",
      "25%      2,000,000.00   6,325,000.00 2,015.00    14,812,575.00\n",
      "50%     21,900,000.00  26,550,000.00 2,016.00    54,900,000.00\n",
      "75%     61,250,000.00 101,025,000.00 2,017.00   167,225,000.00\n",
      "max    936,700,000.00 946,400,000.00 2,018.00 1,405,400,000.00\n"
     ]
    }
   ],
   "source": [
    "print(bom_ww_gross_recent_df.describe())"
   ]
  },
  {
   "cell_type": "code",
   "execution_count": 26,
   "metadata": {},
   "outputs": [
    {
     "data": {
      "text/html": [
       "<div>\n",
       "<style scoped>\n",
       "    .dataframe tbody tr th:only-of-type {\n",
       "        vertical-align: middle;\n",
       "    }\n",
       "\n",
       "    .dataframe tbody tr th {\n",
       "        vertical-align: top;\n",
       "    }\n",
       "\n",
       "    .dataframe thead th {\n",
       "        text-align: right;\n",
       "    }\n",
       "</style>\n",
       "<table border=\"1\" class=\"dataframe\">\n",
       "  <thead>\n",
       "    <tr style=\"text-align: right;\">\n",
       "      <th></th>\n",
       "      <th>title</th>\n",
       "      <th>studio</th>\n",
       "      <th>domestic_gross</th>\n",
       "      <th>foreign_gross</th>\n",
       "      <th>year</th>\n",
       "      <th>worldwide_gross</th>\n",
       "    </tr>\n",
       "  </thead>\n",
       "  <tbody>\n",
       "    <tr>\n",
       "      <th>1872</th>\n",
       "      <td>Star Wars: The Force Awakens</td>\n",
       "      <td>BV</td>\n",
       "      <td>936,700,000.00</td>\n",
       "      <td>1,131.60</td>\n",
       "      <td>2015</td>\n",
       "      <td>936,701,131.60</td>\n",
       "    </tr>\n",
       "    <tr>\n",
       "      <th>3080</th>\n",
       "      <td>Black Panther</td>\n",
       "      <td>BV</td>\n",
       "      <td>700,100,000.00</td>\n",
       "      <td>646,900,000.00</td>\n",
       "      <td>2018</td>\n",
       "      <td>1,347,000,000.00</td>\n",
       "    </tr>\n",
       "    <tr>\n",
       "      <th>3079</th>\n",
       "      <td>Avengers: Infinity War</td>\n",
       "      <td>BV</td>\n",
       "      <td>678,800,000.00</td>\n",
       "      <td>1,369.50</td>\n",
       "      <td>2018</td>\n",
       "      <td>678,801,369.50</td>\n",
       "    </tr>\n",
       "    <tr>\n",
       "      <th>1873</th>\n",
       "      <td>Jurassic World</td>\n",
       "      <td>Uni.</td>\n",
       "      <td>652,300,000.00</td>\n",
       "      <td>1,019.40</td>\n",
       "      <td>2015</td>\n",
       "      <td>652,301,019.40</td>\n",
       "    </tr>\n",
       "    <tr>\n",
       "      <th>2758</th>\n",
       "      <td>Star Wars: The Last Jedi</td>\n",
       "      <td>BV</td>\n",
       "      <td>620,200,000.00</td>\n",
       "      <td>712,400,000.00</td>\n",
       "      <td>2017</td>\n",
       "      <td>1,332,600,000.00</td>\n",
       "    </tr>\n",
       "  </tbody>\n",
       "</table>\n",
       "</div>"
      ],
      "text/plain": [
       "                             title studio  domestic_gross  foreign_gross  \\\n",
       "1872  Star Wars: The Force Awakens     BV  936,700,000.00       1,131.60   \n",
       "3080                 Black Panther     BV  700,100,000.00 646,900,000.00   \n",
       "3079        Avengers: Infinity War     BV  678,800,000.00       1,369.50   \n",
       "1873                Jurassic World   Uni.  652,300,000.00       1,019.40   \n",
       "2758      Star Wars: The Last Jedi     BV  620,200,000.00 712,400,000.00   \n",
       "\n",
       "      year  worldwide_gross  \n",
       "1872  2015   936,701,131.60  \n",
       "3080  2018 1,347,000,000.00  \n",
       "3079  2018   678,801,369.50  \n",
       "1873  2015   652,301,019.40  \n",
       "2758  2017 1,332,600,000.00  "
      ]
     },
     "execution_count": 26,
     "metadata": {},
     "output_type": "execute_result"
    }
   ],
   "source": [
    "# Get the top 100 recent movies in dataset measured by domestic gross\n",
    "top_100dom_df = bom_ww_gross_recent_df.nlargest(100, 'domestic_gross')\n",
    "top_100dom_df.head()"
   ]
  },
  {
   "cell_type": "code",
   "execution_count": 27,
   "metadata": {},
   "outputs": [
    {
     "name": "stdout",
     "output_type": "stream",
     "text": [
      "<class 'pandas.core.frame.DataFrame'>\n",
      "Int64Index: 100 entries, 1872 to 2338\n",
      "Data columns (total 6 columns):\n",
      " #   Column           Non-Null Count  Dtype  \n",
      "---  ------           --------------  -----  \n",
      " 0   title            100 non-null    object \n",
      " 1   studio           100 non-null    object \n",
      " 2   domestic_gross   100 non-null    float64\n",
      " 3   foreign_gross    100 non-null    float64\n",
      " 4   year             100 non-null    int64  \n",
      " 5   worldwide_gross  100 non-null    float64\n",
      "dtypes: float64(3), int64(1), object(2)\n",
      "memory usage: 5.5+ KB\n",
      "None\n"
     ]
    }
   ],
   "source": [
    "print(top_100dom_df.info())"
   ]
  },
  {
   "cell_type": "code",
   "execution_count": 28,
   "metadata": {},
   "outputs": [
    {
     "data": {
      "text/plain": [
       "studio\n",
       "BV         30\n",
       "WB         16\n",
       "Fox        16\n",
       "Uni.       15\n",
       "Sony        9\n",
       "Par.        8\n",
       "WB (NL)     3\n",
       "LGF         2\n",
       "LG/S        1\n",
       "Name: title, dtype: int64"
      ]
     },
     "execution_count": 28,
     "metadata": {},
     "output_type": "execute_result"
    }
   ],
   "source": [
    "# what studios made these movies?\n",
    "top_100dom_binned_by_studio = top_100dom_df.groupby('studio')['title'].count()\n",
    "top_100dom_binned_by_studio.sort_values(ascending=False, inplace=True)\n",
    "top_100dom_binned_by_studio"
   ]
  },
  {
   "cell_type": "code",
   "execution_count": 40,
   "metadata": {
    "scrolled": true
   },
   "outputs": [
    {
     "data": {
      "text/plain": [
       "Text(0, 0.5, 'Movies')"
      ]
     },
     "execution_count": 40,
     "metadata": {},
     "output_type": "execute_result"
    },
    {
     "data": {
      "image/png": "[encoded data removed]",
      "text/plain": [
       "<Figure size 576x360 with 1 Axes>"
      ]
     },
     "metadata": {
      "needs_background": "light"
     },
     "output_type": "display_data"
    }
   ],
   "source": [
    "fig = plt.figure(figsize = (8, 5))\n",
    "plt.bar(top_100dom_binned_by_studio.index, top_100dom_binned_by_studio, color = 'red', alpha = 0.60)\n",
    "plt.grid(color = 'black', alpha = 0.2, linestyle = '--', linewidth = 1)\n",
    "plt.title('Studios Releasing Top 100 Recent Movies (domestic gross)')\n",
    "plt.xlabel('Studios')\n",
    "plt.ylabel('Movies')"
   ]
  },
  {
   "cell_type": "code",
   "execution_count": 35,
   "metadata": {},
   "outputs": [
    {
     "data": {
      "text/html": [
       "<div>\n",
       "<style scoped>\n",
       "    .dataframe tbody tr th:only-of-type {\n",
       "        vertical-align: middle;\n",
       "    }\n",
       "\n",
       "    .dataframe tbody tr th {\n",
       "        vertical-align: top;\n",
       "    }\n",
       "\n",
       "    .dataframe thead th {\n",
       "        text-align: right;\n",
       "    }\n",
       "</style>\n",
       "<table border=\"1\" class=\"dataframe\">\n",
       "  <thead>\n",
       "    <tr style=\"text-align: right;\">\n",
       "      <th></th>\n",
       "      <th>title</th>\n",
       "      <th>studio</th>\n",
       "      <th>domestic_gross</th>\n",
       "      <th>foreign_gross</th>\n",
       "      <th>year</th>\n",
       "      <th>worldwide_gross</th>\n",
       "    </tr>\n",
       "  </thead>\n",
       "  <tbody>\n",
       "    <tr>\n",
       "      <th>1875</th>\n",
       "      <td>Avengers: Age of Ultron</td>\n",
       "      <td>BV</td>\n",
       "      <td>459,000,000.00</td>\n",
       "      <td>946,400,000.00</td>\n",
       "      <td>2015</td>\n",
       "      <td>1,405,400,000.00</td>\n",
       "    </tr>\n",
       "    <tr>\n",
       "      <th>3080</th>\n",
       "      <td>Black Panther</td>\n",
       "      <td>BV</td>\n",
       "      <td>700,100,000.00</td>\n",
       "      <td>646,900,000.00</td>\n",
       "      <td>2018</td>\n",
       "      <td>1,347,000,000.00</td>\n",
       "    </tr>\n",
       "    <tr>\n",
       "      <th>2758</th>\n",
       "      <td>Star Wars: The Last Jedi</td>\n",
       "      <td>BV</td>\n",
       "      <td>620,200,000.00</td>\n",
       "      <td>712,400,000.00</td>\n",
       "      <td>2017</td>\n",
       "      <td>1,332,600,000.00</td>\n",
       "    </tr>\n",
       "    <tr>\n",
       "      <th>3081</th>\n",
       "      <td>Jurassic World: Fallen Kingdom</td>\n",
       "      <td>Uni.</td>\n",
       "      <td>417,700,000.00</td>\n",
       "      <td>891,800,000.00</td>\n",
       "      <td>2018</td>\n",
       "      <td>1,309,500,000.00</td>\n",
       "    </tr>\n",
       "    <tr>\n",
       "      <th>2759</th>\n",
       "      <td>Beauty and the Beast (2017)</td>\n",
       "      <td>BV</td>\n",
       "      <td>504,000,000.00</td>\n",
       "      <td>759,500,000.00</td>\n",
       "      <td>2017</td>\n",
       "      <td>1,263,500,000.00</td>\n",
       "    </tr>\n",
       "  </tbody>\n",
       "</table>\n",
       "</div>"
      ],
      "text/plain": [
       "                               title studio  domestic_gross  foreign_gross  \\\n",
       "1875         Avengers: Age of Ultron     BV  459,000,000.00 946,400,000.00   \n",
       "3080                   Black Panther     BV  700,100,000.00 646,900,000.00   \n",
       "2758        Star Wars: The Last Jedi     BV  620,200,000.00 712,400,000.00   \n",
       "3081  Jurassic World: Fallen Kingdom   Uni.  417,700,000.00 891,800,000.00   \n",
       "2759     Beauty and the Beast (2017)     BV  504,000,000.00 759,500,000.00   \n",
       "\n",
       "      year  worldwide_gross  \n",
       "1875  2015 1,405,400,000.00  \n",
       "3080  2018 1,347,000,000.00  \n",
       "2758  2017 1,332,600,000.00  \n",
       "3081  2018 1,309,500,000.00  \n",
       "2759  2017 1,263,500,000.00  "
      ]
     },
     "execution_count": 35,
     "metadata": {},
     "output_type": "execute_result"
    }
   ],
   "source": [
    "# Get the top 100 recent movies in dataset measured by worldwide gross\n",
    "top_100ww_df = bom_ww_gross_recent_df.nlargest(100, 'worldwide_gross')\n",
    "top_100ww_df.head()"
   ]
  },
  {
   "cell_type": "code",
   "execution_count": 36,
   "metadata": {},
   "outputs": [
    {
     "name": "stdout",
     "output_type": "stream",
     "text": [
      "<class 'pandas.core.frame.DataFrame'>\n",
      "Int64Index: 100 entries, 1875 to 3101\n",
      "Data columns (total 6 columns):\n",
      " #   Column           Non-Null Count  Dtype  \n",
      "---  ------           --------------  -----  \n",
      " 0   title            100 non-null    object \n",
      " 1   studio           100 non-null    object \n",
      " 2   domestic_gross   100 non-null    float64\n",
      " 3   foreign_gross    100 non-null    float64\n",
      " 4   year             100 non-null    int64  \n",
      " 5   worldwide_gross  100 non-null    float64\n",
      "dtypes: float64(3), int64(1), object(2)\n",
      "memory usage: 5.5+ KB\n",
      "None\n"
     ]
    }
   ],
   "source": [
    "print(top_100ww_df.info())"
   ]
  },
  {
   "cell_type": "code",
   "execution_count": 38,
   "metadata": {},
   "outputs": [],
   "source": [
    "# what studios made these movies?\n",
    "top_100ww_binned_by_studio = top_100ww_df.groupby('studio')['title'].count()\n",
    "top_100ww_binned_by_studio.sort_values(ascending=False, inplace=True)"
   ]
  },
  {
   "cell_type": "code",
   "execution_count": 42,
   "metadata": {},
   "outputs": [
    {
     "data": {
      "text/plain": [
       "Text(0, 0.5, 'Movies')"
      ]
     },
     "execution_count": 42,
     "metadata": {},
     "output_type": "execute_result"
    },
    {
     "data": {
      "image/png": "[encoded data removed]",
      "text/plain": [
       "<Figure size 576x360 with 1 Axes>"
      ]
     },
     "metadata": {
      "needs_background": "light"
     },
     "output_type": "display_data"
    }
   ],
   "source": [
    "fig = plt.figure(figsize = (8, 5))\n",
    "plt.bar(top_100ww_binned_by_studio.index, top_100ww_binned_by_studio, color = 'purple', alpha = 0.70)\n",
    "plt.grid(color = 'black', alpha = 0.2, linestyle = '--', linewidth = 1)\n",
    "plt.title('Studios Releasing Top 100 Recent Movies(worldwide gross)')\n",
    "plt.xlabel('Studios')\n",
    "plt.ylabel('Movies')"
   ]
  },
  {
   "cell_type": "markdown",
   "metadata": {},
   "source": [
    "Studios that released Top Domestic and Worldwide grossing movies"
   ]
  },
  {
   "cell_type": "code",
   "execution_count": 43,
   "metadata": {
    "scrolled": true
   },
   "outputs": [
    {
     "data": {
      "text/plain": [
       "Index(['BV', 'WB', 'Fox', 'Uni.', 'Sony', 'Par.', 'WB (NL)', 'LGF', 'LG/S'], dtype='object', name='studio')"
      ]
     },
     "execution_count": 43,
     "metadata": {},
     "output_type": "execute_result"
    }
   ],
   "source": [
    "top_100dom_binned_by_studio.index.intersection(top_100ww_binned_by_studio.index)"
   ]
  },
  {
   "cell_type": "markdown",
   "metadata": {},
   "source": [
    "Studios that released Top Worldwide grossing movies that were not included in top Domestic"
   ]
  },
  {
   "cell_type": "code",
   "execution_count": 44,
   "metadata": {},
   "outputs": [
    {
     "data": {
      "text/plain": [
       "Index(['HC', 'WGUSA'], dtype='object', name='studio')"
      ]
     },
     "execution_count": 44,
     "metadata": {},
     "output_type": "execute_result"
    }
   ],
   "source": [
    "top_100ww_binned_by_studio.index.difference(top_100dom_binned_by_studio.index)"
   ]
  },
  {
   "cell_type": "markdown",
   "metadata": {},
   "source": [
    "# Conclusions\n",
    "\n",
    "\n",
    "* __11 studios are the ones to watch in the current movie industry.__  Buenua Vista (BV), Warner Brothers (WB), Fox, Universal (Uni). Sony, Paramount (Par.) Warner Brothers/New Line (NL), Lions Gate Films (LGF), LG/S, HC, and Well Go USA Entertainment (WGUSA) are the studios to consider Worthy Rivals. Recommend that Microsoft Movie Studio prioritize competitor-focused research on these studios.\n"
   ]
  },
  {
   "cell_type": "markdown",
   "metadata": {},
   "source": [
    "# Next Steps/Future Work\n",
    "\n",
    "* __Explore International market by Regions.__ Box Office Mojo appears to have datasets on International gross box-office revenue by Region. It would be worth-while to research if such data is available so that the client can produce content with specific Regions mind and identity Worthy International Rivals by Region.\n",
    "* __Procure more data from BOM with both domestic and foreign gross.__ The final dataset I end up with is small (966 movies). I would like to follow the same steps but on a larger dataset from Box Office Mojo that contains more domestic and foreign gross data."
   ]
  },
  {
   "cell_type": "code",
   "execution_count": null,
   "metadata": {},
   "outputs": [],
   "source": []
  }
 ],
 "metadata": {
  "kernelspec": {
   "display_name": "Python 3",
   "language": "python",
   "name": "python3"
  },
  "language_info": {
   "codemirror_mode": {
    "name": "ipython",
    "version": 3
   },
   "file_extension": ".py",
   "mimetype": "text/x-python",
   "name": "python",
   "nbconvert_exporter": "python",
   "pygments_lexer": "ipython3",
   "version": "3.6.9"
  },
  "toc": {
   "base_numbering": 1,
   "nav_menu": {},
   "number_sections": true,
   "sideBar": true,
   "skip_h1_title": false,
   "title_cell": "Table of Contents",
   "title_sidebar": "Contents",
   "toc_cell": false,
   "toc_position": {},
   "toc_section_display": true,
   "toc_window_display": false
  }
 },
 "nbformat": 4,
 "nbformat_minor": 2
}
